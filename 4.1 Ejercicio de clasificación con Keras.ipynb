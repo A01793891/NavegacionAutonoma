{
  "nbformat": 4,
  "nbformat_minor": 0,
  "metadata": {
    "colab": {
      "provenance": [],
      "authorship_tag": "ABX9TyMLq90lAw1ANswQeDysUIpU",
      "include_colab_link": true
    },
    "kernelspec": {
      "name": "python3",
      "display_name": "Python 3"
    },
    "language_info": {
      "name": "python"
    }
  },
  "cells": [
    {
      "cell_type": "markdown",
      "metadata": {
        "id": "view-in-github",
        "colab_type": "text"
      },
      "source": [
        "<a href=\"https://colab.research.google.com/github/aalr007/NavegacionAutonoma/blob/main/4.1%20Ejercicio%20de%20clasificaci%C3%B3n%20con%20Keras.ipynb\" target=\"_parent\"><img src=\"https://colab.research.google.com/assets/colab-badge.svg\" alt=\"Open In Colab\"/></a>"
      ]
    },
    {
      "cell_type": "markdown",
      "source": [
        "# <center> ***Navegación Autónoma*** </center>\n",
        "## <center> ***Actividad 4.1 - Ejercicio de clasificación con Keras*** </center>\n",
        "\n",
        "### Profesor: Dr. David Antonio Torres\n",
        "### Alumnos: \n",
        "* Andrei García Torres               A01793891\n",
        "* Aurelio Antonio Lozano Rábago      A01081266\n",
        "* Jorge Luis Tapia Peñaloza          A01793013\n",
        "* Luis Alfredo Negron Naldos         A01793865\n",
        "\n",
        "#### <p style='text-align: right;'> 4 de Junio del 2023 </p>"
      ],
      "metadata": {
        "id": "ya5H_nAoTjiE"
      }
    },
    {
      "cell_type": "markdown",
      "source": [
        "#Instrucciones\n",
        "1- Si es necesario, estudia el código y el video que explica el uso de Keras para el diseño, entrenamiento y verificación de redes neuronales, los cuales están disponibles como materiales de aprendizaje en este módulo.\n",
        "\n",
        "2-Crea un Notebook en Google Colab y sube el dataset que usaste para resolver la detección de peatones con SVM. De preferencia, incorpora el uso de GPU en tu Notebook.\n",
        "\n",
        "3-Diseña una red neuronal adecuada para detectar peatones. Toma en cuenta el número de entradas de la red, crea un número adecuado de capas ocultas y crea una capa de salida con una sola neurona con salida binaria.\n",
        "\n",
        "4-Si es el caso, reporta como bibliografía otras fuentes de información que consultaste para llegar a la solución.\n",
        "\n",
        "5-Crea un video, con una duración menor a dos minutos, en donde expliques los parámetros de la red neuronal y del entrenamiento que permitieron llegar a una solución correcta. Asegúrate de obtener un score de al menos 90%. Sube tu video a tu canal de YouTube y guarda el enlace.\n",
        "\n",
        "6-A manera de reporte, crea un documento que incluya tu script con los comentarios y el enlace de tu video en YouTube. Tanto el código como los comentarios son importantes para el documento."
      ],
      "metadata": {
        "id": "vYfBzPd3UeLs"
      }
    },
    {
      "cell_type": "markdown",
      "source": [
        "obtenemos la base de datos con imagenes de peatones y sin peatones que se uso en la actividad 3.1\n",
        "\n",
        "https://www.kaggle.com/datasets/tejasvdante/pedestrian-no-pedestrian"
      ],
      "metadata": {
        "id": "21LZKIKuU2SO"
      }
    },
    {
      "cell_type": "code",
      "execution_count": null,
      "metadata": {
        "id": "ymD9JMVdTi3D"
      },
      "outputs": [],
      "source": []
    }
  ]
}