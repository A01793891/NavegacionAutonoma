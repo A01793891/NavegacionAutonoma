{
  "nbformat": 4,
  "nbformat_minor": 0,
  "metadata": {
    "colab": {
      "provenance": [],
      "gpuType": "T4",
      "include_colab_link": true
    },
    "kernelspec": {
      "name": "python3",
      "display_name": "Python 3"
    },
    "language_info": {
      "name": "python"
    },
    "accelerator": "GPU"
  },
  "cells": [
    {
      "cell_type": "markdown",
      "metadata": {
        "id": "view-in-github",
        "colab_type": "text"
      },
      "source": [
        "<a href=\"https://colab.research.google.com/github/aalr007/NavegacionAutonoma/blob/main/4_1_Ejercicio_de_clasificaci%C3%B3n_con_Keras.ipynb\" target=\"_parent\"><img src=\"https://colab.research.google.com/assets/colab-badge.svg\" alt=\"Open In Colab\"/></a>"
      ]
    },
    {
      "cell_type": "markdown",
      "source": [
        "# <center> ***Navegación Autónoma*** </center>\n",
        "## <center> ***Actividad 4.1 - Ejercicio de clasificación con Keras*** </center>\n",
        "\n",
        "### Profesor: Dr. David Antonio Torres\n",
        "### Alumnos: \n",
        "* Andrei García Torres               A01793891\n",
        "* Aurelio Antonio Lozano Rábago      A01081266\n",
        "* Jorge Luis Tapia Peñaloza          A01793013\n",
        "* Luis Alfredo Negron Naldos         A01793865\n",
        "\n",
        "#### <p style='text-align: right;'> 4 de Junio del 2023 </p>"
      ],
      "metadata": {
        "id": "ya5H_nAoTjiE"
      }
    },
    {
      "cell_type": "markdown",
      "source": [
        "#Instrucciones\n",
        "1- Si es necesario, estudia el código y el video que explica el uso de Keras para el diseño, entrenamiento y verificación de redes neuronales, los cuales están disponibles como materiales de aprendizaje en este módulo.\n",
        "\n",
        "2-Crea un Notebook en Google Colab y sube el dataset que usaste para resolver la detección de peatones con SVM. De preferencia, incorpora el uso de GPU en tu Notebook.\n",
        "\n",
        "3-Diseña una red neuronal adecuada para detectar peatones. Toma en cuenta el número de entradas de la red, crea un número adecuado de capas ocultas y crea una capa de salida con una sola neurona con salida binaria.\n",
        "\n",
        "4-Si es el caso, reporta como bibliografía otras fuentes de información que consultaste para llegar a la solución.\n",
        "\n",
        "5-Crea un video, con una duración menor a dos minutos, en donde expliques los parámetros de la red neuronal y del entrenamiento que permitieron llegar a una solución correcta. Asegúrate de obtener un score de al menos 90%. Sube tu video a tu canal de YouTube y guarda el enlace.\n",
        "\n",
        "6-A manera de reporte, crea un documento que incluya tu script con los comentarios y el enlace de tu video en YouTube. Tanto el código como los comentarios son importantes para el documento."
      ],
      "metadata": {
        "id": "vYfBzPd3UeLs"
      }
    },
    {
      "cell_type": "markdown",
      "source": [
        "obtenemos la base de datos con imagenes de peatones y sin peatones que se uso en la actividad 3.1\n",
        "\n",
        "https://www.kaggle.com/datasets/tejasvdante/pedestrian-no-pedestrian"
      ],
      "metadata": {
        "id": "21LZKIKuU2SO"
      }
    },
    {
      "cell_type": "markdown",
      "source": [
        "#Cargamos Bibliotecas necesarias"
      ],
      "metadata": {
        "id": "Y-JHlL7-W4Ph"
      }
    },
    {
      "cell_type": "code",
      "execution_count": 1,
      "metadata": {
        "id": "ymD9JMVdTi3D"
      },
      "outputs": [],
      "source": [
        "import numpy as np\n",
        "import matplotlib.pyplot as plt\n",
        "import keras\n",
        "from keras.datasets import cifar10\n",
        "from keras.models import Sequential\n",
        "from keras.layers import Dense\n",
        "from keras.optimizers import Adam\n",
        "from keras.utils.np_utils import to_categorical\n",
        "import random\n",
        "     \n",
        "from keras.layers import Dropout\n",
        "from keras.layers import Flatten\n",
        "from keras.layers.convolutional import Conv2D\n",
        "from keras.layers.convolutional import MaxPooling2D\n",
        "     \n",
        "from keras.models import Model\n",
        "\n",
        "import matplotlib.image as mpimg\n",
        "import seaborn as sns\n",
        "import cv2\n",
        "\n",
        "from google.colab import drive\n",
        "import glob"
      ]
    },
    {
      "cell_type": "markdown",
      "source": [
        "#Se carga el dataset y se verifica el número de muestras en cada set"
      ],
      "metadata": {
        "id": "4G2VvEdAXB10"
      }
    },
    {
      "cell_type": "code",
      "source": [
        "drive.mount('/content/drive')\n",
        "file_path = '/content/drive/MyDrive/MNA/DetPeatones/*'\n"
      ],
      "metadata": {
        "id": "eU6TQjt5XIOG",
        "colab": {
          "base_uri": "https://localhost:8080/"
        },
        "outputId": "2c0a7e30-304f-4627-efa2-7d1b7839eacd"
      },
      "execution_count": 2,
      "outputs": [
        {
          "output_type": "stream",
          "name": "stdout",
          "text": [
            "Drive already mounted at /content/drive; to attempt to forcibly remount, call drive.mount(\"/content/drive\", force_remount=True).\n"
          ]
        }
      ]
    },
    {
      "cell_type": "code",
      "source": [
        "pedestrian = glob.glob('/content/drive/MyDrive/MNA/NavAutonoma/DetPeatones/Pedestrian/*')\n",
        "no_pedestrian = glob.glob('/content/drive/MyDrive/MNA/NavAutonoma/DetPeatones/NoPedestrian/*')"
      ],
      "metadata": {
        "id": "UOkdfgq6n-Wo"
      },
      "execution_count": 3,
      "outputs": []
    },
    {
      "cell_type": "markdown",
      "source": [
        "Obtenemos el numero de imagenes que contienen peatones y las que no contienen peatones"
      ],
      "metadata": {
        "id": "uIX4VrrmXd6B"
      }
    },
    {
      "cell_type": "code",
      "execution_count": 4,
      "metadata": {
        "id": "4yoXQCKbMgyK",
        "outputId": "56cbe342-022b-4ce3-e268-1400a19fb5a5",
        "colab": {
          "base_uri": "https://localhost:8080/"
        }
      },
      "outputs": [
        {
          "output_type": "execute_result",
          "data": {
            "text/plain": [
              "808"
            ]
          },
          "metadata": {},
          "execution_count": 4
        }
      ],
      "source": [
        "len(pedestrian)"
      ]
    },
    {
      "cell_type": "code",
      "execution_count": 5,
      "metadata": {
        "id": "4n-S07nIMgyL",
        "outputId": "c5b10a17-f459-488d-c493-609029b6481e",
        "colab": {
          "base_uri": "https://localhost:8080/"
        }
      },
      "outputs": [
        {
          "output_type": "execute_result",
          "data": {
            "text/plain": [
              "808"
            ]
          },
          "metadata": {},
          "execution_count": 5
        }
      ],
      "source": [
        "len(no_pedestrian)"
      ]
    },
    {
      "cell_type": "markdown",
      "source": [
        "Es un problema con clases balanceadas, ya que hay el mismo número de imagenes con y sin peatones"
      ],
      "metadata": {
        "id": "CS9hZuAwUA4d"
      }
    },
    {
      "cell_type": "markdown",
      "source": [
        "#preprocesamiento imagenes\n",
        "Formateamos las imagenes a escala de grises, un tamaño comun, y agrupamos los datos"
      ],
      "metadata": {
        "id": "LfvYkAEzYngv"
      }
    },
    {
      "cell_type": "markdown",
      "source": [
        "Tamaño comun"
      ],
      "metadata": {
        "id": "nK9Dtv4DYxHN"
      }
    },
    {
      "cell_type": "code",
      "source": [
        "Pedestrian_Formated = []\n",
        "NoPedestrian_Formated = []\n",
        "\n",
        "width = 400 \n",
        "height = 250\n",
        "dim = (width, height)\n",
        "\n",
        "for i in pedestrian:\n",
        "    img_color = mpimg.imread(i)\n",
        "    #convert to grayscale\n",
        "    img_gray = cv2.cvtColor(img_color,cv2.COLOR_BGR2GRAY)\n",
        "    #resize image\n",
        "    img_resized = cv2.resize(img_gray, dim, interpolation = cv2.INTER_AREA)\n",
        "    \n",
        "    #add the new image to a new array\n",
        "    Pedestrian_Formated.append(img_resized)\n",
        "\n",
        "for i in no_pedestrian:\n",
        "    img_color = mpimg.imread(i)\n",
        "    #convert to grayscale\n",
        "    img_gray = cv2.cvtColor(img_color,cv2.COLOR_BGR2GRAY)\n",
        "    #resize image\n",
        "    img_resized = cv2.resize(img_gray, dim, interpolation = cv2.INTER_AREA)\n",
        "    \n",
        "    #add the new image to a new array\n",
        "    NoPedestrian_Formated.append(img_resized)"
      ],
      "metadata": {
        "id": "mdm8mJtYYzOl"
      },
      "execution_count": 20,
      "outputs": []
    },
    {
      "cell_type": "markdown",
      "source": [
        "Creamos las etiquetas"
      ],
      "metadata": {
        "id": "uFbn1HS9daro"
      }
    },
    {
      "cell_type": "code",
      "source": [
        "y_pedestrian = np.ones(len(Pedestrian_Formated))\n",
        "y_Nopedestrian = np.zeros(len(NoPedestrian_Formated))\n"
      ],
      "metadata": {
        "id": "HnngvG2epqDG"
      },
      "execution_count": 21,
      "outputs": []
    },
    {
      "cell_type": "markdown",
      "source": [
        "Combinacion de ambos tipos de datos en una sola pila"
      ],
      "metadata": {
        "id": "AwQ1ICH7qG8u"
      }
    },
    {
      "cell_type": "code",
      "source": [
        "X = np.vstack((Pedestrian_Formated,NoPedestrian_Formated))\n",
        "X.shape"
      ],
      "metadata": {
        "colab": {
          "base_uri": "https://localhost:8080/"
        },
        "id": "6Kk9G_K9qPZq",
        "outputId": "f6d9b7e9-3bc6-423d-b838-f0bc91f440af"
      },
      "execution_count": 22,
      "outputs": [
        {
          "output_type": "execute_result",
          "data": {
            "text/plain": [
              "(1616, 250, 400)"
            ]
          },
          "metadata": {},
          "execution_count": 22
        }
      ]
    },
    {
      "cell_type": "code",
      "source": [
        "y = np.hstack((y_pedestrian,y_Nopedestrian))\n",
        "y.shape"
      ],
      "metadata": {
        "colab": {
          "base_uri": "https://localhost:8080/"
        },
        "id": "Z83yPp74qRcZ",
        "outputId": "64632cb6-b6b7-4f27-89f9-6d9256d524f2"
      },
      "execution_count": 23,
      "outputs": [
        {
          "output_type": "execute_result",
          "data": {
            "text/plain": [
              "(1616,)"
            ]
          },
          "metadata": {},
          "execution_count": 23
        }
      ]
    },
    {
      "cell_type": "markdown",
      "source": [
        "Se normalizan las intensidades de los pixeles en un intervalo de 0 y 1"
      ],
      "metadata": {
        "id": "GUgwCiY7uTsk"
      }
    },
    {
      "cell_type": "code",
      "source": [
        "X=X/255"
      ],
      "metadata": {
        "id": "GePpj_GvuUqS"
      },
      "execution_count": 24,
      "outputs": []
    },
    {
      "cell_type": "markdown",
      "source": [
        "Se unidimensionan las imágenes para adecuarlas como capa de entrada en la red neuronal"
      ],
      "metadata": {
        "id": "KC6cjJQnvkrQ"
      }
    },
    {
      "cell_type": "code",
      "source": [
        "# 250 x 400 = 100,000\n",
        "num_pixels = 100000\n",
        "X = X.reshape(X.shape[0], num_pixels)\n",
        "print(X.shape)\n"
      ],
      "metadata": {
        "colab": {
          "base_uri": "https://localhost:8080/"
        },
        "id": "6uc6ROW6vmN1",
        "outputId": "3731f116-ce97-4aa8-cca1-5df974a4c262"
      },
      "execution_count": 26,
      "outputs": [
        {
          "output_type": "stream",
          "name": "stdout",
          "text": [
            "(1616, 100000)\n"
          ]
        }
      ]
    },
    {
      "cell_type": "markdown",
      "source": [
        "#Se define el modelo"
      ],
      "metadata": {
        "id": "n1LMt_kmv9t2"
      }
    },
    {
      "cell_type": "code",
      "source": [
        "model = Sequential()\n",
        "model.add(Dense(units = 30, input_dim=num_pixels, activation='relu'))\n",
        "#model.add(Dropout(0.2))\n",
        "model.add(Dense(units = 10, activation='relu'))\n",
        "#model.add(Dropout(0.2))\n",
        "model.add(Dense(units = 10, activation='softmax'))\n",
        "model.compile(Adam(lr=0.01), loss='categorical_crossentropy', metrics=['accuracy'])\n",
        "print(model.summary())"
      ],
      "metadata": {
        "colab": {
          "base_uri": "https://localhost:8080/"
        },
        "id": "0vYCs98LwE2z",
        "outputId": "cfcdee41-310f-4dea-e152-0c2f4f0eb244"
      },
      "execution_count": 27,
      "outputs": [
        {
          "output_type": "stream",
          "name": "stdout",
          "text": [
            "Model: \"sequential\"\n",
            "_________________________________________________________________\n",
            " Layer (type)                Output Shape              Param #   \n",
            "=================================================================\n",
            " dense (Dense)               (None, 30)                3000030   \n",
            "                                                                 \n",
            " dense_1 (Dense)             (None, 10)                310       \n",
            "                                                                 \n",
            " dense_2 (Dense)             (None, 10)                110       \n",
            "                                                                 \n",
            "=================================================================\n",
            "Total params: 3,000,450\n",
            "Trainable params: 3,000,450\n",
            "Non-trainable params: 0\n",
            "_________________________________________________________________\n",
            "None\n"
          ]
        },
        {
          "output_type": "stream",
          "name": "stderr",
          "text": [
            "/usr/local/lib/python3.10/dist-packages/keras/optimizers/legacy/adam.py:117: UserWarning: The `lr` argument is deprecated, use `learning_rate` instead.\n",
            "  super().__init__(name, **kwargs)\n"
          ]
        }
      ]
    },
    {
      "cell_type": "code",
      "source": [
        "print(X.shape)\n",
        "print(y.shape)\n",
        "print(y)"
      ],
      "metadata": {
        "colab": {
          "base_uri": "https://localhost:8080/"
        },
        "id": "DFZRbm1qwd6g",
        "outputId": "a96274e6-3c6a-45a8-ee22-fea16f635585"
      },
      "execution_count": 32,
      "outputs": [
        {
          "output_type": "stream",
          "name": "stdout",
          "text": [
            "(1616, 100000)\n",
            "(1616,)\n",
            "[1. 1. 1. ... 0. 0. 0.]\n"
          ]
        }
      ]
    },
    {
      "cell_type": "code",
      "source": [
        "from sklearn.model_selection import train_test_split"
      ],
      "metadata": {
        "id": "qYDwxgVs1WUh"
      },
      "execution_count": 35,
      "outputs": []
    },
    {
      "cell_type": "markdown",
      "source": [
        "Se separa un 10% del set de entrenamiento para fines de validación"
      ],
      "metadata": {
        "id": "ozZwOlzXwHpS"
      }
    },
    {
      "cell_type": "code",
      "source": [
        "# 25% para el set de prueba\n",
        "X_train, X_test, y_train, y_test = train_test_split(X, y, test_size = 0.25, random_state = 42)"
      ],
      "metadata": {
        "id": "XJES3HBy1YVi"
      },
      "execution_count": 36,
      "outputs": []
    },
    {
      "cell_type": "markdown",
      "source": [
        "#Una sola neurona con dos entradas, una salida"
      ],
      "metadata": {
        "id": "VuxGJob57iZS"
      }
    },
    {
      "cell_type": "code",
      "source": [
        "model = Sequential()\n",
        "model.add(Dense(units=1, input_dim=100000, activation='sigmoid'))\n",
        "model.compile(optimizer=Adam(learning_rate=0.01), loss='binary_crossentropy',  metrics=['accuracy'])"
      ],
      "metadata": {
        "id": "Hodt6iH613ZV"
      },
      "execution_count": 51,
      "outputs": []
    },
    {
      "cell_type": "code",
      "source": [
        "hist = model.fit(x=X_train, y=y_train, verbose=2, batch_size=50,epochs=500, shuffle='true')"
      ],
      "metadata": {
        "id": "URhNtWhT5ppA",
        "outputId": "8ca07e5d-e1a4-42dc-f9fe-56c2db8376af",
        "colab": {
          "base_uri": "https://localhost:8080/"
        }
      },
      "execution_count": 52,
      "outputs": [
        {
          "output_type": "stream",
          "name": "stdout",
          "text": [
            "Epoch 1/500\n",
            "25/25 - 1s - loss: 43.1073 - accuracy: 0.5363 - 719ms/epoch - 29ms/step\n",
            "Epoch 2/500\n",
            "25/25 - 0s - loss: 12.1562 - accuracy: 0.5726 - 301ms/epoch - 12ms/step\n",
            "Epoch 3/500\n",
            "25/25 - 0s - loss: 14.6310 - accuracy: 0.5413 - 302ms/epoch - 12ms/step\n",
            "Epoch 4/500\n",
            "25/25 - 0s - loss: 18.3296 - accuracy: 0.5800 - 298ms/epoch - 12ms/step\n",
            "Epoch 5/500\n",
            "25/25 - 0s - loss: 10.9787 - accuracy: 0.6271 - 285ms/epoch - 11ms/step\n",
            "Epoch 6/500\n",
            "25/25 - 0s - loss: 11.4746 - accuracy: 0.5957 - 300ms/epoch - 12ms/step\n",
            "Epoch 7/500\n",
            "25/25 - 0s - loss: 4.0160 - accuracy: 0.7038 - 285ms/epoch - 11ms/step\n",
            "Epoch 8/500\n",
            "25/25 - 0s - loss: 4.3974 - accuracy: 0.7038 - 284ms/epoch - 11ms/step\n",
            "Epoch 9/500\n",
            "25/25 - 0s - loss: 8.7839 - accuracy: 0.6254 - 289ms/epoch - 12ms/step\n",
            "Epoch 10/500\n",
            "25/25 - 0s - loss: 2.9766 - accuracy: 0.7401 - 300ms/epoch - 12ms/step\n",
            "Epoch 11/500\n",
            "25/25 - 0s - loss: 3.3897 - accuracy: 0.7211 - 306ms/epoch - 12ms/step\n",
            "Epoch 12/500\n",
            "25/25 - 0s - loss: 2.7133 - accuracy: 0.7434 - 302ms/epoch - 12ms/step\n",
            "Epoch 13/500\n",
            "25/25 - 0s - loss: 2.4690 - accuracy: 0.7417 - 301ms/epoch - 12ms/step\n",
            "Epoch 14/500\n",
            "25/25 - 0s - loss: 17.4669 - accuracy: 0.5809 - 291ms/epoch - 12ms/step\n",
            "Epoch 15/500\n",
            "25/25 - 0s - loss: 7.7141 - accuracy: 0.6757 - 296ms/epoch - 12ms/step\n",
            "Epoch 16/500\n",
            "25/25 - 0s - loss: 7.7474 - accuracy: 0.6807 - 290ms/epoch - 12ms/step\n",
            "Epoch 17/500\n",
            "25/25 - 0s - loss: 1.4409 - accuracy: 0.8408 - 306ms/epoch - 12ms/step\n",
            "Epoch 18/500\n",
            "25/25 - 0s - loss: 2.5674 - accuracy: 0.7748 - 291ms/epoch - 12ms/step\n",
            "Epoch 19/500\n",
            "25/25 - 0s - loss: 1.1212 - accuracy: 0.8606 - 291ms/epoch - 12ms/step\n",
            "Epoch 20/500\n",
            "25/25 - 0s - loss: 5.5473 - accuracy: 0.7071 - 303ms/epoch - 12ms/step\n",
            "Epoch 21/500\n",
            "25/25 - 0s - loss: 5.5397 - accuracy: 0.7269 - 292ms/epoch - 12ms/step\n",
            "Epoch 22/500\n",
            "25/25 - 0s - loss: 2.1504 - accuracy: 0.8111 - 388ms/epoch - 16ms/step\n",
            "Epoch 23/500\n",
            "25/25 - 0s - loss: 8.9825 - accuracy: 0.6370 - 467ms/epoch - 19ms/step\n",
            "Epoch 24/500\n",
            "25/25 - 0s - loss: 2.6998 - accuracy: 0.8094 - 461ms/epoch - 18ms/step\n",
            "Epoch 25/500\n",
            "25/25 - 0s - loss: 1.7247 - accuracy: 0.8449 - 345ms/epoch - 14ms/step\n",
            "Epoch 26/500\n",
            "25/25 - 0s - loss: 0.5001 - accuracy: 0.9249 - 337ms/epoch - 13ms/step\n",
            "Epoch 27/500\n",
            "25/25 - 1s - loss: 4.6737 - accuracy: 0.7219 - 518ms/epoch - 21ms/step\n",
            "Epoch 28/500\n",
            "25/25 - 0s - loss: 1.5942 - accuracy: 0.8647 - 490ms/epoch - 20ms/step\n",
            "Epoch 29/500\n",
            "25/25 - 0s - loss: 1.0104 - accuracy: 0.8779 - 451ms/epoch - 18ms/step\n",
            "Epoch 30/500\n",
            "25/25 - 0s - loss: 2.2811 - accuracy: 0.8078 - 401ms/epoch - 16ms/step\n",
            "Epoch 31/500\n",
            "25/25 - 0s - loss: 2.7333 - accuracy: 0.7937 - 359ms/epoch - 14ms/step\n",
            "Epoch 32/500\n",
            "25/25 - 0s - loss: 1.1106 - accuracy: 0.9018 - 358ms/epoch - 14ms/step\n",
            "Epoch 33/500\n",
            "25/25 - 0s - loss: 2.6099 - accuracy: 0.8028 - 379ms/epoch - 15ms/step\n",
            "Epoch 34/500\n",
            "25/25 - 0s - loss: 10.2194 - accuracy: 0.6568 - 350ms/epoch - 14ms/step\n",
            "Epoch 35/500\n",
            "25/25 - 0s - loss: 2.5069 - accuracy: 0.8267 - 349ms/epoch - 14ms/step\n",
            "Epoch 36/500\n",
            "25/25 - 0s - loss: 0.9936 - accuracy: 0.8977 - 353ms/epoch - 14ms/step\n",
            "Epoch 37/500\n",
            "25/25 - 0s - loss: 3.9181 - accuracy: 0.7772 - 386ms/epoch - 15ms/step\n",
            "Epoch 38/500\n",
            "25/25 - 0s - loss: 3.3339 - accuracy: 0.7995 - 330ms/epoch - 13ms/step\n",
            "Epoch 39/500\n",
            "25/25 - 0s - loss: 0.4803 - accuracy: 0.9381 - 305ms/epoch - 12ms/step\n",
            "Epoch 40/500\n",
            "25/25 - 0s - loss: 5.2484 - accuracy: 0.7310 - 311ms/epoch - 12ms/step\n",
            "Epoch 41/500\n",
            "25/25 - 0s - loss: 0.9469 - accuracy: 0.9084 - 296ms/epoch - 12ms/step\n",
            "Epoch 42/500\n",
            "25/25 - 0s - loss: 0.7538 - accuracy: 0.9167 - 308ms/epoch - 12ms/step\n",
            "Epoch 43/500\n",
            "25/25 - 0s - loss: 2.6483 - accuracy: 0.8276 - 301ms/epoch - 12ms/step\n",
            "Epoch 44/500\n",
            "25/25 - 0s - loss: 0.5708 - accuracy: 0.9406 - 300ms/epoch - 12ms/step\n",
            "Epoch 45/500\n",
            "25/25 - 0s - loss: 0.0992 - accuracy: 0.9818 - 302ms/epoch - 12ms/step\n",
            "Epoch 46/500\n",
            "25/25 - 0s - loss: 0.1554 - accuracy: 0.9703 - 294ms/epoch - 12ms/step\n",
            "Epoch 47/500\n",
            "25/25 - 0s - loss: 0.1221 - accuracy: 0.9736 - 292ms/epoch - 12ms/step\n",
            "Epoch 48/500\n",
            "25/25 - 0s - loss: 0.4490 - accuracy: 0.9340 - 298ms/epoch - 12ms/step\n",
            "Epoch 49/500\n",
            "25/25 - 0s - loss: 3.2686 - accuracy: 0.8078 - 307ms/epoch - 12ms/step\n",
            "Epoch 50/500\n",
            "25/25 - 0s - loss: 0.9606 - accuracy: 0.9109 - 305ms/epoch - 12ms/step\n",
            "Epoch 51/500\n",
            "25/25 - 0s - loss: 0.2404 - accuracy: 0.9678 - 313ms/epoch - 13ms/step\n",
            "Epoch 52/500\n",
            "25/25 - 0s - loss: 0.2094 - accuracy: 0.9596 - 299ms/epoch - 12ms/step\n",
            "Epoch 53/500\n",
            "25/25 - 0s - loss: 2.7443 - accuracy: 0.8086 - 312ms/epoch - 12ms/step\n",
            "Epoch 54/500\n",
            "25/25 - 0s - loss: 1.8556 - accuracy: 0.8828 - 459ms/epoch - 18ms/step\n",
            "Epoch 55/500\n",
            "25/25 - 1s - loss: 1.8340 - accuracy: 0.8680 - 544ms/epoch - 22ms/step\n",
            "Epoch 56/500\n",
            "25/25 - 0s - loss: 1.0461 - accuracy: 0.9002 - 413ms/epoch - 17ms/step\n",
            "Epoch 57/500\n",
            "25/25 - 0s - loss: 4.8836 - accuracy: 0.7814 - 314ms/epoch - 13ms/step\n",
            "Epoch 58/500\n",
            "25/25 - 0s - loss: 12.6091 - accuracy: 0.6980 - 295ms/epoch - 12ms/step\n",
            "Epoch 59/500\n",
            "25/25 - 0s - loss: 3.5896 - accuracy: 0.8127 - 310ms/epoch - 12ms/step\n",
            "Epoch 60/500\n",
            "25/25 - 0s - loss: 1.4664 - accuracy: 0.8878 - 298ms/epoch - 12ms/step\n",
            "Epoch 61/500\n",
            "25/25 - 0s - loss: 0.5864 - accuracy: 0.9340 - 300ms/epoch - 12ms/step\n",
            "Epoch 62/500\n",
            "25/25 - 0s - loss: 0.0787 - accuracy: 0.9818 - 305ms/epoch - 12ms/step\n",
            "Epoch 63/500\n",
            "25/25 - 0s - loss: 0.0743 - accuracy: 0.9868 - 303ms/epoch - 12ms/step\n",
            "Epoch 64/500\n",
            "25/25 - 0s - loss: 0.0934 - accuracy: 0.9810 - 306ms/epoch - 12ms/step\n",
            "Epoch 65/500\n",
            "25/25 - 0s - loss: 0.8154 - accuracy: 0.9332 - 307ms/epoch - 12ms/step\n",
            "Epoch 66/500\n",
            "25/25 - 0s - loss: 2.8831 - accuracy: 0.8267 - 294ms/epoch - 12ms/step\n",
            "Epoch 67/500\n",
            "25/25 - 0s - loss: 1.3635 - accuracy: 0.8927 - 296ms/epoch - 12ms/step\n",
            "Epoch 68/500\n",
            "25/25 - 0s - loss: 0.1080 - accuracy: 0.9802 - 315ms/epoch - 13ms/step\n",
            "Epoch 69/500\n",
            "25/25 - 0s - loss: 0.3756 - accuracy: 0.9513 - 389ms/epoch - 16ms/step\n",
            "Epoch 70/500\n",
            "25/25 - 0s - loss: 0.3209 - accuracy: 0.9579 - 369ms/epoch - 15ms/step\n",
            "Epoch 71/500\n",
            "25/25 - 0s - loss: 0.1763 - accuracy: 0.9736 - 371ms/epoch - 15ms/step\n",
            "Epoch 72/500\n",
            "25/25 - 0s - loss: 0.0983 - accuracy: 0.9835 - 376ms/epoch - 15ms/step\n",
            "Epoch 73/500\n",
            "25/25 - 0s - loss: 0.0368 - accuracy: 0.9926 - 375ms/epoch - 15ms/step\n",
            "Epoch 74/500\n",
            "25/25 - 0s - loss: 0.0046 - accuracy: 0.9983 - 354ms/epoch - 14ms/step\n",
            "Epoch 75/500\n",
            "25/25 - 0s - loss: 0.0059 - accuracy: 0.9983 - 336ms/epoch - 13ms/step\n",
            "Epoch 76/500\n",
            "25/25 - 0s - loss: 0.0381 - accuracy: 0.9884 - 393ms/epoch - 16ms/step\n",
            "Epoch 77/500\n",
            "25/25 - 0s - loss: 0.0483 - accuracy: 0.9884 - 351ms/epoch - 14ms/step\n",
            "Epoch 78/500\n",
            "25/25 - 0s - loss: 0.1332 - accuracy: 0.9802 - 330ms/epoch - 13ms/step\n",
            "Epoch 79/500\n",
            "25/25 - 0s - loss: 0.0581 - accuracy: 0.9835 - 289ms/epoch - 12ms/step\n",
            "Epoch 80/500\n",
            "25/25 - 0s - loss: 0.0361 - accuracy: 0.9909 - 296ms/epoch - 12ms/step\n",
            "Epoch 81/500\n",
            "25/25 - 0s - loss: 0.2045 - accuracy: 0.9563 - 289ms/epoch - 12ms/step\n",
            "Epoch 82/500\n",
            "25/25 - 0s - loss: 0.0712 - accuracy: 0.9843 - 325ms/epoch - 13ms/step\n",
            "Epoch 83/500\n",
            "25/25 - 0s - loss: 1.0194 - accuracy: 0.9084 - 312ms/epoch - 12ms/step\n",
            "Epoch 84/500\n",
            "25/25 - 0s - loss: 2.6855 - accuracy: 0.8465 - 299ms/epoch - 12ms/step\n",
            "Epoch 85/500\n",
            "25/25 - 0s - loss: 2.1654 - accuracy: 0.8639 - 314ms/epoch - 13ms/step\n",
            "Epoch 86/500\n",
            "25/25 - 0s - loss: 0.1490 - accuracy: 0.9777 - 299ms/epoch - 12ms/step\n",
            "Epoch 87/500\n",
            "25/25 - 0s - loss: 9.1349 - accuracy: 0.6898 - 305ms/epoch - 12ms/step\n",
            "Epoch 88/500\n",
            "25/25 - 0s - loss: 2.7457 - accuracy: 0.8432 - 320ms/epoch - 13ms/step\n",
            "Epoch 89/500\n",
            "25/25 - 0s - loss: 2.6513 - accuracy: 0.8870 - 303ms/epoch - 12ms/step\n",
            "Epoch 90/500\n",
            "25/25 - 0s - loss: 0.1408 - accuracy: 0.9818 - 324ms/epoch - 13ms/step\n",
            "Epoch 91/500\n",
            "25/25 - 0s - loss: 0.0577 - accuracy: 0.9893 - 310ms/epoch - 12ms/step\n",
            "Epoch 92/500\n",
            "25/25 - 0s - loss: 0.1572 - accuracy: 0.9703 - 302ms/epoch - 12ms/step\n",
            "Epoch 93/500\n",
            "25/25 - 0s - loss: 6.3644 - accuracy: 0.7566 - 289ms/epoch - 12ms/step\n",
            "Epoch 94/500\n",
            "25/25 - 0s - loss: 2.3374 - accuracy: 0.8911 - 310ms/epoch - 12ms/step\n",
            "Epoch 95/500\n",
            "25/25 - 0s - loss: 1.0229 - accuracy: 0.9200 - 304ms/epoch - 12ms/step\n",
            "Epoch 96/500\n",
            "25/25 - 0s - loss: 4.8046 - accuracy: 0.7946 - 295ms/epoch - 12ms/step\n",
            "Epoch 97/500\n",
            "25/25 - 0s - loss: 4.1594 - accuracy: 0.8185 - 302ms/epoch - 12ms/step\n",
            "Epoch 98/500\n",
            "25/25 - 0s - loss: 1.4196 - accuracy: 0.9125 - 292ms/epoch - 12ms/step\n",
            "Epoch 99/500\n",
            "25/25 - 0s - loss: 2.8164 - accuracy: 0.8540 - 296ms/epoch - 12ms/step\n",
            "Epoch 100/500\n",
            "25/25 - 0s - loss: 3.1569 - accuracy: 0.8465 - 288ms/epoch - 12ms/step\n",
            "Epoch 101/500\n",
            "25/25 - 0s - loss: 1.7114 - accuracy: 0.9068 - 301ms/epoch - 12ms/step\n",
            "Epoch 102/500\n",
            "25/25 - 0s - loss: 0.1208 - accuracy: 0.9827 - 294ms/epoch - 12ms/step\n",
            "Epoch 103/500\n",
            "25/25 - 0s - loss: 0.2724 - accuracy: 0.9637 - 285ms/epoch - 11ms/step\n",
            "Epoch 104/500\n",
            "25/25 - 0s - loss: 0.5678 - accuracy: 0.9488 - 303ms/epoch - 12ms/step\n",
            "Epoch 105/500\n",
            "25/25 - 0s - loss: 0.0850 - accuracy: 0.9909 - 301ms/epoch - 12ms/step\n",
            "Epoch 106/500\n",
            "25/25 - 0s - loss: 8.7697 - accuracy: 0.7566 - 291ms/epoch - 12ms/step\n",
            "Epoch 107/500\n",
            "25/25 - 0s - loss: 16.3699 - accuracy: 0.7162 - 303ms/epoch - 12ms/step\n",
            "Epoch 108/500\n",
            "25/25 - 0s - loss: 1.4111 - accuracy: 0.9200 - 308ms/epoch - 12ms/step\n",
            "Epoch 109/500\n",
            "25/25 - 0s - loss: 4.2608 - accuracy: 0.8086 - 302ms/epoch - 12ms/step\n",
            "Epoch 110/500\n",
            "25/25 - 0s - loss: 8.7086 - accuracy: 0.7616 - 336ms/epoch - 13ms/step\n",
            "Epoch 111/500\n",
            "25/25 - 0s - loss: 9.7606 - accuracy: 0.7550 - 368ms/epoch - 15ms/step\n",
            "Epoch 112/500\n",
            "25/25 - 0s - loss: 0.5931 - accuracy: 0.9513 - 378ms/epoch - 15ms/step\n",
            "Epoch 113/500\n",
            "25/25 - 0s - loss: 1.1918 - accuracy: 0.9290 - 387ms/epoch - 15ms/step\n",
            "Epoch 114/500\n",
            "25/25 - 0s - loss: 0.0914 - accuracy: 0.9860 - 374ms/epoch - 15ms/step\n",
            "Epoch 115/500\n",
            "25/25 - 0s - loss: 0.3214 - accuracy: 0.9620 - 358ms/epoch - 14ms/step\n",
            "Epoch 116/500\n",
            "25/25 - 0s - loss: 0.3442 - accuracy: 0.9686 - 374ms/epoch - 15ms/step\n",
            "Epoch 117/500\n",
            "25/25 - 0s - loss: 1.6929 - accuracy: 0.8952 - 384ms/epoch - 15ms/step\n",
            "Epoch 118/500\n",
            "25/25 - 0s - loss: 0.8416 - accuracy: 0.9257 - 370ms/epoch - 15ms/step\n",
            "Epoch 119/500\n",
            "25/25 - 0s - loss: 0.5305 - accuracy: 0.9579 - 359ms/epoch - 14ms/step\n",
            "Epoch 120/500\n",
            "25/25 - 0s - loss: 0.0466 - accuracy: 0.9934 - 300ms/epoch - 12ms/step\n",
            "Epoch 121/500\n",
            "25/25 - 0s - loss: 0.0431 - accuracy: 0.9934 - 309ms/epoch - 12ms/step\n",
            "Epoch 122/500\n",
            "25/25 - 0s - loss: 0.0372 - accuracy: 0.9926 - 300ms/epoch - 12ms/step\n",
            "Epoch 123/500\n",
            "25/25 - 0s - loss: 0.0316 - accuracy: 0.9950 - 293ms/epoch - 12ms/step\n",
            "Epoch 124/500\n",
            "25/25 - 0s - loss: 1.7337 - accuracy: 0.9051 - 311ms/epoch - 12ms/step\n",
            "Epoch 125/500\n",
            "25/25 - 0s - loss: 0.0478 - accuracy: 0.9942 - 296ms/epoch - 12ms/step\n",
            "Epoch 126/500\n",
            "25/25 - 0s - loss: 0.1242 - accuracy: 0.9893 - 296ms/epoch - 12ms/step\n",
            "Epoch 127/500\n",
            "25/25 - 0s - loss: 0.0655 - accuracy: 0.9926 - 298ms/epoch - 12ms/step\n",
            "Epoch 128/500\n",
            "25/25 - 0s - loss: 0.0995 - accuracy: 0.9851 - 299ms/epoch - 12ms/step\n",
            "Epoch 129/500\n",
            "25/25 - 0s - loss: 0.0191 - accuracy: 0.9950 - 300ms/epoch - 12ms/step\n",
            "Epoch 130/500\n",
            "25/25 - 0s - loss: 0.0254 - accuracy: 0.9942 - 300ms/epoch - 12ms/step\n",
            "Epoch 131/500\n",
            "25/25 - 0s - loss: 0.0402 - accuracy: 0.9917 - 289ms/epoch - 12ms/step\n",
            "Epoch 132/500\n",
            "25/25 - 0s - loss: 0.0124 - accuracy: 0.9975 - 298ms/epoch - 12ms/step\n",
            "Epoch 133/500\n",
            "25/25 - 0s - loss: 0.0080 - accuracy: 0.9967 - 314ms/epoch - 13ms/step\n",
            "Epoch 134/500\n",
            "25/25 - 0s - loss: 0.0705 - accuracy: 0.9835 - 300ms/epoch - 12ms/step\n",
            "Epoch 135/500\n",
            "25/25 - 0s - loss: 0.9890 - accuracy: 0.9216 - 308ms/epoch - 12ms/step\n",
            "Epoch 136/500\n",
            "25/25 - 0s - loss: 0.0184 - accuracy: 0.9967 - 299ms/epoch - 12ms/step\n",
            "Epoch 137/500\n",
            "25/25 - 0s - loss: 0.0024 - accuracy: 0.9992 - 310ms/epoch - 12ms/step\n",
            "Epoch 138/500\n",
            "25/25 - 0s - loss: 5.9026e-04 - accuracy: 1.0000 - 306ms/epoch - 12ms/step\n",
            "Epoch 139/500\n",
            "25/25 - 0s - loss: 0.0013 - accuracy: 0.9992 - 307ms/epoch - 12ms/step\n",
            "Epoch 140/500\n",
            "25/25 - 0s - loss: 0.0076 - accuracy: 0.9983 - 321ms/epoch - 13ms/step\n",
            "Epoch 141/500\n",
            "25/25 - 0s - loss: 0.0011 - accuracy: 1.0000 - 295ms/epoch - 12ms/step\n",
            "Epoch 142/500\n",
            "25/25 - 0s - loss: 4.5432e-06 - accuracy: 1.0000 - 301ms/epoch - 12ms/step\n",
            "Epoch 143/500\n",
            "25/25 - 0s - loss: 3.9798e-06 - accuracy: 1.0000 - 304ms/epoch - 12ms/step\n",
            "Epoch 144/500\n",
            "25/25 - 0s - loss: 3.8260e-06 - accuracy: 1.0000 - 308ms/epoch - 12ms/step\n",
            "Epoch 145/500\n",
            "25/25 - 0s - loss: 3.7415e-06 - accuracy: 1.0000 - 300ms/epoch - 12ms/step\n",
            "Epoch 146/500\n",
            "25/25 - 0s - loss: 3.6381e-06 - accuracy: 1.0000 - 298ms/epoch - 12ms/step\n",
            "Epoch 147/500\n",
            "25/25 - 0s - loss: 3.5534e-06 - accuracy: 1.0000 - 291ms/epoch - 12ms/step\n",
            "Epoch 148/500\n",
            "25/25 - 0s - loss: 3.4797e-06 - accuracy: 1.0000 - 290ms/epoch - 12ms/step\n",
            "Epoch 149/500\n",
            "25/25 - 0s - loss: 3.4276e-06 - accuracy: 1.0000 - 301ms/epoch - 12ms/step\n",
            "Epoch 150/500\n",
            "25/25 - 0s - loss: 3.3437e-06 - accuracy: 1.0000 - 298ms/epoch - 12ms/step\n",
            "Epoch 151/500\n",
            "25/25 - 0s - loss: 3.2938e-06 - accuracy: 1.0000 - 286ms/epoch - 11ms/step\n",
            "Epoch 152/500\n",
            "25/25 - 0s - loss: 3.2320e-06 - accuracy: 1.0000 - 358ms/epoch - 14ms/step\n",
            "Epoch 153/500\n",
            "25/25 - 0s - loss: 3.1801e-06 - accuracy: 1.0000 - 368ms/epoch - 15ms/step\n",
            "Epoch 154/500\n",
            "25/25 - 0s - loss: 3.1309e-06 - accuracy: 1.0000 - 372ms/epoch - 15ms/step\n",
            "Epoch 155/500\n",
            "25/25 - 0s - loss: 3.0929e-06 - accuracy: 1.0000 - 387ms/epoch - 15ms/step\n",
            "Epoch 156/500\n",
            "25/25 - 0s - loss: 3.0384e-06 - accuracy: 1.0000 - 390ms/epoch - 16ms/step\n",
            "Epoch 157/500\n",
            "25/25 - 0s - loss: 3.0068e-06 - accuracy: 1.0000 - 373ms/epoch - 15ms/step\n",
            "Epoch 158/500\n",
            "25/25 - 0s - loss: 2.9613e-06 - accuracy: 1.0000 - 380ms/epoch - 15ms/step\n",
            "Epoch 159/500\n",
            "25/25 - 0s - loss: 2.9279e-06 - accuracy: 1.0000 - 349ms/epoch - 14ms/step\n",
            "Epoch 160/500\n",
            "25/25 - 0s - loss: 2.8899e-06 - accuracy: 1.0000 - 376ms/epoch - 15ms/step\n",
            "Epoch 161/500\n",
            "25/25 - 0s - loss: 2.8590e-06 - accuracy: 1.0000 - 387ms/epoch - 15ms/step\n",
            "Epoch 162/500\n",
            "25/25 - 0s - loss: 2.8235e-06 - accuracy: 1.0000 - 301ms/epoch - 12ms/step\n",
            "Epoch 163/500\n",
            "25/25 - 0s - loss: 2.7988e-06 - accuracy: 1.0000 - 311ms/epoch - 12ms/step\n",
            "Epoch 164/500\n",
            "25/25 - 0s - loss: 2.7662e-06 - accuracy: 1.0000 - 302ms/epoch - 12ms/step\n",
            "Epoch 165/500\n",
            "25/25 - 0s - loss: 2.7398e-06 - accuracy: 1.0000 - 298ms/epoch - 12ms/step\n",
            "Epoch 166/500\n",
            "25/25 - 0s - loss: 2.7107e-06 - accuracy: 1.0000 - 288ms/epoch - 12ms/step\n",
            "Epoch 167/500\n",
            "25/25 - 0s - loss: 2.6905e-06 - accuracy: 1.0000 - 289ms/epoch - 12ms/step\n",
            "Epoch 168/500\n",
            "25/25 - 0s - loss: 2.6730e-06 - accuracy: 1.0000 - 300ms/epoch - 12ms/step\n",
            "Epoch 169/500\n",
            "25/25 - 0s - loss: 2.6393e-06 - accuracy: 1.0000 - 298ms/epoch - 12ms/step\n",
            "Epoch 170/500\n",
            "25/25 - 0s - loss: 2.6632e-06 - accuracy: 1.0000 - 310ms/epoch - 12ms/step\n",
            "Epoch 171/500\n",
            "25/25 - 0s - loss: 2.6109e-06 - accuracy: 1.0000 - 309ms/epoch - 12ms/step\n",
            "Epoch 172/500\n",
            "25/25 - 0s - loss: 2.5856e-06 - accuracy: 1.0000 - 301ms/epoch - 12ms/step\n",
            "Epoch 173/500\n",
            "25/25 - 0s - loss: 2.5692e-06 - accuracy: 1.0000 - 298ms/epoch - 12ms/step\n",
            "Epoch 174/500\n",
            "25/25 - 0s - loss: 2.5453e-06 - accuracy: 1.0000 - 298ms/epoch - 12ms/step\n",
            "Epoch 175/500\n",
            "25/25 - 0s - loss: 2.5151e-06 - accuracy: 1.0000 - 299ms/epoch - 12ms/step\n",
            "Epoch 176/500\n",
            "25/25 - 0s - loss: 2.4915e-06 - accuracy: 1.0000 - 291ms/epoch - 12ms/step\n",
            "Epoch 177/500\n",
            "25/25 - 0s - loss: 2.4754e-06 - accuracy: 1.0000 - 289ms/epoch - 12ms/step\n",
            "Epoch 178/500\n",
            "25/25 - 0s - loss: 2.4592e-06 - accuracy: 1.0000 - 302ms/epoch - 12ms/step\n",
            "Epoch 179/500\n",
            "25/25 - 0s - loss: 2.4405e-06 - accuracy: 1.0000 - 295ms/epoch - 12ms/step\n",
            "Epoch 180/500\n",
            "25/25 - 0s - loss: 2.4144e-06 - accuracy: 1.0000 - 309ms/epoch - 12ms/step\n",
            "Epoch 181/500\n",
            "25/25 - 0s - loss: 2.3949e-06 - accuracy: 1.0000 - 310ms/epoch - 12ms/step\n",
            "Epoch 182/500\n",
            "25/25 - 0s - loss: 2.3739e-06 - accuracy: 1.0000 - 295ms/epoch - 12ms/step\n",
            "Epoch 183/500\n",
            "25/25 - 0s - loss: 2.3654e-06 - accuracy: 1.0000 - 299ms/epoch - 12ms/step\n",
            "Epoch 184/500\n",
            "25/25 - 0s - loss: 2.3388e-06 - accuracy: 1.0000 - 307ms/epoch - 12ms/step\n",
            "Epoch 185/500\n",
            "25/25 - 0s - loss: 2.3223e-06 - accuracy: 1.0000 - 295ms/epoch - 12ms/step\n",
            "Epoch 186/500\n",
            "25/25 - 0s - loss: 2.3075e-06 - accuracy: 1.0000 - 302ms/epoch - 12ms/step\n",
            "Epoch 187/500\n",
            "25/25 - 0s - loss: 2.2844e-06 - accuracy: 1.0000 - 299ms/epoch - 12ms/step\n",
            "Epoch 188/500\n",
            "25/25 - 0s - loss: 2.2635e-06 - accuracy: 1.0000 - 304ms/epoch - 12ms/step\n",
            "Epoch 189/500\n",
            "25/25 - 0s - loss: 2.2501e-06 - accuracy: 1.0000 - 313ms/epoch - 13ms/step\n",
            "Epoch 190/500\n",
            "25/25 - 0s - loss: 2.2396e-06 - accuracy: 1.0000 - 298ms/epoch - 12ms/step\n",
            "Epoch 191/500\n",
            "25/25 - 0s - loss: 2.2158e-06 - accuracy: 1.0000 - 315ms/epoch - 13ms/step\n",
            "Epoch 192/500\n",
            "25/25 - 0s - loss: 2.2031e-06 - accuracy: 1.0000 - 293ms/epoch - 12ms/step\n",
            "Epoch 193/500\n",
            "25/25 - 0s - loss: 2.2008e-06 - accuracy: 1.0000 - 297ms/epoch - 12ms/step\n",
            "Epoch 194/500\n",
            "25/25 - 0s - loss: 2.1703e-06 - accuracy: 1.0000 - 349ms/epoch - 14ms/step\n",
            "Epoch 195/500\n",
            "25/25 - 0s - loss: 2.1453e-06 - accuracy: 1.0000 - 399ms/epoch - 16ms/step\n",
            "Epoch 196/500\n",
            "25/25 - 0s - loss: 2.1315e-06 - accuracy: 1.0000 - 377ms/epoch - 15ms/step\n",
            "Epoch 197/500\n",
            "25/25 - 0s - loss: 2.1254e-06 - accuracy: 1.0000 - 353ms/epoch - 14ms/step\n",
            "Epoch 198/500\n",
            "25/25 - 0s - loss: 2.0996e-06 - accuracy: 1.0000 - 397ms/epoch - 16ms/step\n",
            "Epoch 199/500\n",
            "25/25 - 0s - loss: 2.0903e-06 - accuracy: 1.0000 - 384ms/epoch - 15ms/step\n",
            "Epoch 200/500\n",
            "25/25 - 0s - loss: 2.0690e-06 - accuracy: 1.0000 - 396ms/epoch - 16ms/step\n",
            "Epoch 201/500\n",
            "25/25 - 0s - loss: 2.0622e-06 - accuracy: 1.0000 - 400ms/epoch - 16ms/step\n",
            "Epoch 202/500\n",
            "25/25 - 0s - loss: 2.0374e-06 - accuracy: 1.0000 - 372ms/epoch - 15ms/step\n",
            "Epoch 203/500\n",
            "25/25 - 0s - loss: 2.0250e-06 - accuracy: 1.0000 - 354ms/epoch - 14ms/step\n",
            "Epoch 204/500\n",
            "25/25 - 0s - loss: 2.0170e-06 - accuracy: 1.0000 - 318ms/epoch - 13ms/step\n",
            "Epoch 205/500\n",
            "25/25 - 0s - loss: 1.9903e-06 - accuracy: 1.0000 - 310ms/epoch - 12ms/step\n",
            "Epoch 206/500\n",
            "25/25 - 0s - loss: 1.9808e-06 - accuracy: 1.0000 - 302ms/epoch - 12ms/step\n",
            "Epoch 207/500\n",
            "25/25 - 0s - loss: 1.9627e-06 - accuracy: 1.0000 - 311ms/epoch - 12ms/step\n",
            "Epoch 208/500\n",
            "25/25 - 0s - loss: 1.9497e-06 - accuracy: 1.0000 - 315ms/epoch - 13ms/step\n",
            "Epoch 209/500\n",
            "25/25 - 0s - loss: 1.9395e-06 - accuracy: 1.0000 - 299ms/epoch - 12ms/step\n",
            "Epoch 210/500\n",
            "25/25 - 0s - loss: 1.9210e-06 - accuracy: 1.0000 - 302ms/epoch - 12ms/step\n",
            "Epoch 211/500\n",
            "25/25 - 0s - loss: 1.8996e-06 - accuracy: 1.0000 - 303ms/epoch - 12ms/step\n",
            "Epoch 212/500\n",
            "25/25 - 0s - loss: 1.8956e-06 - accuracy: 1.0000 - 313ms/epoch - 13ms/step\n",
            "Epoch 213/500\n",
            "25/25 - 0s - loss: 1.8817e-06 - accuracy: 1.0000 - 317ms/epoch - 13ms/step\n",
            "Epoch 214/500\n",
            "25/25 - 0s - loss: 1.8555e-06 - accuracy: 1.0000 - 302ms/epoch - 12ms/step\n",
            "Epoch 215/500\n",
            "25/25 - 0s - loss: 1.8448e-06 - accuracy: 1.0000 - 331ms/epoch - 13ms/step\n",
            "Epoch 216/500\n",
            "25/25 - 0s - loss: 1.8286e-06 - accuracy: 1.0000 - 292ms/epoch - 12ms/step\n",
            "Epoch 217/500\n",
            "25/25 - 0s - loss: 1.8206e-06 - accuracy: 1.0000 - 305ms/epoch - 12ms/step\n",
            "Epoch 218/500\n",
            "25/25 - 0s - loss: 1.8014e-06 - accuracy: 1.0000 - 302ms/epoch - 12ms/step\n",
            "Epoch 219/500\n",
            "25/25 - 0s - loss: 1.7904e-06 - accuracy: 1.0000 - 297ms/epoch - 12ms/step\n",
            "Epoch 220/500\n",
            "25/25 - 0s - loss: 1.7674e-06 - accuracy: 1.0000 - 293ms/epoch - 12ms/step\n",
            "Epoch 221/500\n",
            "25/25 - 0s - loss: 1.7568e-06 - accuracy: 1.0000 - 306ms/epoch - 12ms/step\n",
            "Epoch 222/500\n",
            "25/25 - 0s - loss: 1.7440e-06 - accuracy: 1.0000 - 307ms/epoch - 12ms/step\n",
            "Epoch 223/500\n",
            "25/25 - 0s - loss: 1.7379e-06 - accuracy: 1.0000 - 318ms/epoch - 13ms/step\n",
            "Epoch 224/500\n",
            "25/25 - 0s - loss: 1.7270e-06 - accuracy: 1.0000 - 303ms/epoch - 12ms/step\n",
            "Epoch 225/500\n",
            "25/25 - 0s - loss: 1.7065e-06 - accuracy: 1.0000 - 310ms/epoch - 12ms/step\n",
            "Epoch 226/500\n",
            "25/25 - 0s - loss: 1.6869e-06 - accuracy: 1.0000 - 301ms/epoch - 12ms/step\n",
            "Epoch 227/500\n",
            "25/25 - 0s - loss: 1.6732e-06 - accuracy: 1.0000 - 293ms/epoch - 12ms/step\n",
            "Epoch 228/500\n",
            "25/25 - 0s - loss: 1.6634e-06 - accuracy: 1.0000 - 310ms/epoch - 12ms/step\n",
            "Epoch 229/500\n",
            "25/25 - 0s - loss: 1.6465e-06 - accuracy: 1.0000 - 295ms/epoch - 12ms/step\n",
            "Epoch 230/500\n",
            "25/25 - 0s - loss: 1.6373e-06 - accuracy: 1.0000 - 301ms/epoch - 12ms/step\n",
            "Epoch 231/500\n",
            "25/25 - 0s - loss: 1.6221e-06 - accuracy: 1.0000 - 309ms/epoch - 12ms/step\n",
            "Epoch 232/500\n",
            "25/25 - 0s - loss: 1.6074e-06 - accuracy: 1.0000 - 312ms/epoch - 12ms/step\n",
            "Epoch 233/500\n",
            "25/25 - 0s - loss: 1.5937e-06 - accuracy: 1.0000 - 293ms/epoch - 12ms/step\n",
            "Epoch 234/500\n",
            "25/25 - 0s - loss: 1.5817e-06 - accuracy: 1.0000 - 302ms/epoch - 12ms/step\n",
            "Epoch 235/500\n",
            "25/25 - 0s - loss: 1.5679e-06 - accuracy: 1.0000 - 341ms/epoch - 14ms/step\n",
            "Epoch 236/500\n",
            "25/25 - 0s - loss: 1.5561e-06 - accuracy: 1.0000 - 341ms/epoch - 14ms/step\n",
            "Epoch 237/500\n",
            "25/25 - 0s - loss: 1.5443e-06 - accuracy: 1.0000 - 365ms/epoch - 15ms/step\n",
            "Epoch 238/500\n",
            "25/25 - 0s - loss: 1.5282e-06 - accuracy: 1.0000 - 353ms/epoch - 14ms/step\n",
            "Epoch 239/500\n",
            "25/25 - 0s - loss: 1.5234e-06 - accuracy: 1.0000 - 383ms/epoch - 15ms/step\n",
            "Epoch 240/500\n",
            "25/25 - 0s - loss: 1.5108e-06 - accuracy: 1.0000 - 371ms/epoch - 15ms/step\n",
            "Epoch 241/500\n",
            "25/25 - 0s - loss: 1.4913e-06 - accuracy: 1.0000 - 382ms/epoch - 15ms/step\n",
            "Epoch 242/500\n",
            "25/25 - 0s - loss: 1.4809e-06 - accuracy: 1.0000 - 357ms/epoch - 14ms/step\n",
            "Epoch 243/500\n",
            "25/25 - 1s - loss: 1.4748e-06 - accuracy: 1.0000 - 742ms/epoch - 30ms/step\n",
            "Epoch 244/500\n",
            "25/25 - 1s - loss: 1.4580e-06 - accuracy: 1.0000 - 587ms/epoch - 23ms/step\n",
            "Epoch 245/500\n",
            "25/25 - 0s - loss: 1.4467e-06 - accuracy: 1.0000 - 385ms/epoch - 15ms/step\n",
            "Epoch 246/500\n",
            "25/25 - 0s - loss: 1.4304e-06 - accuracy: 1.0000 - 337ms/epoch - 13ms/step\n",
            "Epoch 247/500\n",
            "25/25 - 1s - loss: 1.4221e-06 - accuracy: 1.0000 - 615ms/epoch - 25ms/step\n",
            "Epoch 248/500\n",
            "25/25 - 0s - loss: 1.4054e-06 - accuracy: 1.0000 - 409ms/epoch - 16ms/step\n",
            "Epoch 249/500\n",
            "25/25 - 0s - loss: 1.4032e-06 - accuracy: 1.0000 - 302ms/epoch - 12ms/step\n",
            "Epoch 250/500\n",
            "25/25 - 0s - loss: 1.3838e-06 - accuracy: 1.0000 - 314ms/epoch - 13ms/step\n",
            "Epoch 251/500\n",
            "25/25 - 0s - loss: 1.3759e-06 - accuracy: 1.0000 - 306ms/epoch - 12ms/step\n",
            "Epoch 252/500\n",
            "25/25 - 0s - loss: 1.3625e-06 - accuracy: 1.0000 - 308ms/epoch - 12ms/step\n",
            "Epoch 253/500\n",
            "25/25 - 0s - loss: 1.3499e-06 - accuracy: 1.0000 - 297ms/epoch - 12ms/step\n",
            "Epoch 254/500\n",
            "25/25 - 0s - loss: 1.3370e-06 - accuracy: 1.0000 - 310ms/epoch - 12ms/step\n",
            "Epoch 255/500\n",
            "25/25 - 0s - loss: 1.3335e-06 - accuracy: 1.0000 - 306ms/epoch - 12ms/step\n",
            "Epoch 256/500\n",
            "25/25 - 0s - loss: 1.3164e-06 - accuracy: 1.0000 - 308ms/epoch - 12ms/step\n",
            "Epoch 257/500\n",
            "25/25 - 0s - loss: 1.3017e-06 - accuracy: 1.0000 - 299ms/epoch - 12ms/step\n",
            "Epoch 258/500\n",
            "25/25 - 0s - loss: 1.2915e-06 - accuracy: 1.0000 - 305ms/epoch - 12ms/step\n",
            "Epoch 259/500\n",
            "25/25 - 0s - loss: 1.2811e-06 - accuracy: 1.0000 - 313ms/epoch - 13ms/step\n",
            "Epoch 260/500\n",
            "25/25 - 0s - loss: 1.2833e-06 - accuracy: 1.0000 - 305ms/epoch - 12ms/step\n",
            "Epoch 261/500\n",
            "25/25 - 0s - loss: 1.2641e-06 - accuracy: 1.0000 - 293ms/epoch - 12ms/step\n",
            "Epoch 262/500\n",
            "25/25 - 0s - loss: 1.2509e-06 - accuracy: 1.0000 - 294ms/epoch - 12ms/step\n",
            "Epoch 263/500\n",
            "25/25 - 0s - loss: 1.2356e-06 - accuracy: 1.0000 - 305ms/epoch - 12ms/step\n",
            "Epoch 264/500\n",
            "25/25 - 0s - loss: 1.2354e-06 - accuracy: 1.0000 - 297ms/epoch - 12ms/step\n",
            "Epoch 265/500\n",
            "25/25 - 0s - loss: 1.2191e-06 - accuracy: 1.0000 - 293ms/epoch - 12ms/step\n",
            "Epoch 266/500\n",
            "25/25 - 0s - loss: 1.2060e-06 - accuracy: 1.0000 - 312ms/epoch - 12ms/step\n",
            "Epoch 267/500\n",
            "25/25 - 0s - loss: 1.1964e-06 - accuracy: 1.0000 - 304ms/epoch - 12ms/step\n",
            "Epoch 268/500\n",
            "25/25 - 0s - loss: 1.1870e-06 - accuracy: 1.0000 - 317ms/epoch - 13ms/step\n",
            "Epoch 269/500\n",
            "25/25 - 0s - loss: 1.1759e-06 - accuracy: 1.0000 - 301ms/epoch - 12ms/step\n",
            "Epoch 270/500\n",
            "25/25 - 0s - loss: 1.1687e-06 - accuracy: 1.0000 - 310ms/epoch - 12ms/step\n",
            "Epoch 271/500\n",
            "25/25 - 0s - loss: 1.1570e-06 - accuracy: 1.0000 - 302ms/epoch - 12ms/step\n",
            "Epoch 272/500\n",
            "25/25 - 0s - loss: 1.1444e-06 - accuracy: 1.0000 - 297ms/epoch - 12ms/step\n",
            "Epoch 273/500\n",
            "25/25 - 0s - loss: 1.1384e-06 - accuracy: 1.0000 - 304ms/epoch - 12ms/step\n",
            "Epoch 274/500\n",
            "25/25 - 0s - loss: 1.1244e-06 - accuracy: 1.0000 - 359ms/epoch - 14ms/step\n",
            "Epoch 275/500\n",
            "25/25 - 0s - loss: 1.1143e-06 - accuracy: 1.0000 - 430ms/epoch - 17ms/step\n",
            "Epoch 276/500\n",
            "25/25 - 0s - loss: 1.1086e-06 - accuracy: 1.0000 - 375ms/epoch - 15ms/step\n",
            "Epoch 277/500\n",
            "25/25 - 0s - loss: 1.0984e-06 - accuracy: 1.0000 - 421ms/epoch - 17ms/step\n",
            "Epoch 278/500\n",
            "25/25 - 0s - loss: 1.0865e-06 - accuracy: 1.0000 - 404ms/epoch - 16ms/step\n",
            "Epoch 279/500\n",
            "25/25 - 0s - loss: 1.0750e-06 - accuracy: 1.0000 - 371ms/epoch - 15ms/step\n",
            "Epoch 280/500\n",
            "25/25 - 0s - loss: 1.0660e-06 - accuracy: 1.0000 - 366ms/epoch - 15ms/step\n",
            "Epoch 281/500\n",
            "25/25 - 0s - loss: 1.0570e-06 - accuracy: 1.0000 - 384ms/epoch - 15ms/step\n",
            "Epoch 282/500\n",
            "25/25 - 0s - loss: 1.0544e-06 - accuracy: 1.0000 - 382ms/epoch - 15ms/step\n",
            "Epoch 283/500\n",
            "25/25 - 0s - loss: 1.0396e-06 - accuracy: 1.0000 - 308ms/epoch - 12ms/step\n",
            "Epoch 284/500\n",
            "25/25 - 0s - loss: 1.0283e-06 - accuracy: 1.0000 - 303ms/epoch - 12ms/step\n",
            "Epoch 285/500\n",
            "25/25 - 0s - loss: 1.0218e-06 - accuracy: 1.0000 - 308ms/epoch - 12ms/step\n",
            "Epoch 286/500\n",
            "25/25 - 0s - loss: 1.0118e-06 - accuracy: 1.0000 - 295ms/epoch - 12ms/step\n",
            "Epoch 287/500\n",
            "25/25 - 0s - loss: 1.0063e-06 - accuracy: 1.0000 - 301ms/epoch - 12ms/step\n",
            "Epoch 288/500\n",
            "25/25 - 0s - loss: 9.9274e-07 - accuracy: 1.0000 - 311ms/epoch - 12ms/step\n",
            "Epoch 289/500\n",
            "25/25 - 0s - loss: 9.9119e-07 - accuracy: 1.0000 - 294ms/epoch - 12ms/step\n",
            "Epoch 290/500\n",
            "25/25 - 0s - loss: 9.7824e-07 - accuracy: 1.0000 - 311ms/epoch - 12ms/step\n",
            "Epoch 291/500\n",
            "25/25 - 0s - loss: 9.7070e-07 - accuracy: 1.0000 - 297ms/epoch - 12ms/step\n",
            "Epoch 292/500\n",
            "25/25 - 0s - loss: 9.6040e-07 - accuracy: 1.0000 - 312ms/epoch - 12ms/step\n",
            "Epoch 293/500\n",
            "25/25 - 0s - loss: 9.5355e-07 - accuracy: 1.0000 - 303ms/epoch - 12ms/step\n",
            "Epoch 294/500\n",
            "25/25 - 0s - loss: 9.4553e-07 - accuracy: 1.0000 - 299ms/epoch - 12ms/step\n",
            "Epoch 295/500\n",
            "25/25 - 0s - loss: 9.3740e-07 - accuracy: 1.0000 - 299ms/epoch - 12ms/step\n",
            "Epoch 296/500\n",
            "25/25 - 0s - loss: 9.2772e-07 - accuracy: 1.0000 - 296ms/epoch - 12ms/step\n",
            "Epoch 297/500\n",
            "25/25 - 0s - loss: 9.1769e-07 - accuracy: 1.0000 - 303ms/epoch - 12ms/step\n",
            "Epoch 298/500\n",
            "25/25 - 0s - loss: 9.0975e-07 - accuracy: 1.0000 - 309ms/epoch - 12ms/step\n",
            "Epoch 299/500\n",
            "25/25 - 0s - loss: 9.0708e-07 - accuracy: 1.0000 - 320ms/epoch - 13ms/step\n",
            "Epoch 300/500\n",
            "25/25 - 0s - loss: 8.9657e-07 - accuracy: 1.0000 - 298ms/epoch - 12ms/step\n",
            "Epoch 301/500\n",
            "25/25 - 0s - loss: 8.9070e-07 - accuracy: 1.0000 - 298ms/epoch - 12ms/step\n",
            "Epoch 302/500\n",
            "25/25 - 0s - loss: 8.8279e-07 - accuracy: 1.0000 - 301ms/epoch - 12ms/step\n",
            "Epoch 303/500\n",
            "25/25 - 0s - loss: 8.7046e-07 - accuracy: 1.0000 - 313ms/epoch - 13ms/step\n",
            "Epoch 304/500\n",
            "25/25 - 0s - loss: 8.6526e-07 - accuracy: 1.0000 - 293ms/epoch - 12ms/step\n",
            "Epoch 305/500\n",
            "25/25 - 0s - loss: 8.5994e-07 - accuracy: 1.0000 - 305ms/epoch - 12ms/step\n",
            "Epoch 306/500\n",
            "25/25 - 0s - loss: 8.5163e-07 - accuracy: 1.0000 - 308ms/epoch - 12ms/step\n",
            "Epoch 307/500\n",
            "25/25 - 0s - loss: 8.4194e-07 - accuracy: 1.0000 - 322ms/epoch - 13ms/step\n",
            "Epoch 308/500\n",
            "25/25 - 0s - loss: 8.3874e-07 - accuracy: 1.0000 - 302ms/epoch - 12ms/step\n",
            "Epoch 309/500\n",
            "25/25 - 0s - loss: 8.2726e-07 - accuracy: 1.0000 - 304ms/epoch - 12ms/step\n",
            "Epoch 310/500\n",
            "25/25 - 0s - loss: 8.1824e-07 - accuracy: 1.0000 - 309ms/epoch - 12ms/step\n",
            "Epoch 311/500\n",
            "25/25 - 0s - loss: 8.1282e-07 - accuracy: 1.0000 - 293ms/epoch - 12ms/step\n",
            "Epoch 312/500\n",
            "25/25 - 0s - loss: 8.0829e-07 - accuracy: 1.0000 - 297ms/epoch - 12ms/step\n",
            "Epoch 313/500\n",
            "25/25 - 0s - loss: 7.9220e-07 - accuracy: 1.0000 - 311ms/epoch - 12ms/step\n",
            "Epoch 314/500\n",
            "25/25 - 0s - loss: 7.8768e-07 - accuracy: 1.0000 - 306ms/epoch - 12ms/step\n",
            "Epoch 315/500\n",
            "25/25 - 0s - loss: 7.8105e-07 - accuracy: 1.0000 - 378ms/epoch - 15ms/step\n",
            "Epoch 316/500\n",
            "25/25 - 0s - loss: 7.7092e-07 - accuracy: 1.0000 - 388ms/epoch - 16ms/step\n",
            "Epoch 317/500\n",
            "25/25 - 0s - loss: 7.6529e-07 - accuracy: 1.0000 - 364ms/epoch - 15ms/step\n",
            "Epoch 318/500\n",
            "25/25 - 0s - loss: 7.6042e-07 - accuracy: 1.0000 - 387ms/epoch - 15ms/step\n",
            "Epoch 319/500\n",
            "25/25 - 0s - loss: 7.5777e-07 - accuracy: 1.0000 - 369ms/epoch - 15ms/step\n",
            "Epoch 320/500\n",
            "25/25 - 0s - loss: 7.4942e-07 - accuracy: 1.0000 - 397ms/epoch - 16ms/step\n",
            "Epoch 321/500\n",
            "25/25 - 0s - loss: 7.3909e-07 - accuracy: 1.0000 - 388ms/epoch - 16ms/step\n",
            "Epoch 322/500\n",
            "25/25 - 0s - loss: 7.3779e-07 - accuracy: 1.0000 - 392ms/epoch - 16ms/step\n",
            "Epoch 323/500\n",
            "25/25 - 0s - loss: 7.2526e-07 - accuracy: 1.0000 - 389ms/epoch - 16ms/step\n",
            "Epoch 324/500\n",
            "25/25 - 0s - loss: 7.2076e-07 - accuracy: 1.0000 - 326ms/epoch - 13ms/step\n",
            "Epoch 325/500\n",
            "25/25 - 0s - loss: 7.1504e-07 - accuracy: 1.0000 - 314ms/epoch - 13ms/step\n",
            "Epoch 326/500\n",
            "25/25 - 0s - loss: 7.0955e-07 - accuracy: 1.0000 - 305ms/epoch - 12ms/step\n",
            "Epoch 327/500\n",
            "25/25 - 0s - loss: 7.0416e-07 - accuracy: 1.0000 - 305ms/epoch - 12ms/step\n",
            "Epoch 328/500\n",
            "25/25 - 0s - loss: 6.9569e-07 - accuracy: 1.0000 - 310ms/epoch - 12ms/step\n",
            "Epoch 329/500\n",
            "25/25 - 0s - loss: 6.9145e-07 - accuracy: 1.0000 - 309ms/epoch - 12ms/step\n",
            "Epoch 330/500\n",
            "25/25 - 0s - loss: 6.8427e-07 - accuracy: 1.0000 - 291ms/epoch - 12ms/step\n",
            "Epoch 331/500\n",
            "25/25 - 0s - loss: 6.7832e-07 - accuracy: 1.0000 - 302ms/epoch - 12ms/step\n",
            "Epoch 332/500\n",
            "25/25 - 0s - loss: 6.7098e-07 - accuracy: 1.0000 - 289ms/epoch - 12ms/step\n",
            "Epoch 333/500\n",
            "25/25 - 0s - loss: 6.6337e-07 - accuracy: 1.0000 - 301ms/epoch - 12ms/step\n",
            "Epoch 334/500\n",
            "25/25 - 0s - loss: 6.5976e-07 - accuracy: 1.0000 - 311ms/epoch - 12ms/step\n",
            "Epoch 335/500\n",
            "25/25 - 0s - loss: 6.5029e-07 - accuracy: 1.0000 - 316ms/epoch - 13ms/step\n",
            "Epoch 336/500\n",
            "25/25 - 0s - loss: 6.4499e-07 - accuracy: 1.0000 - 299ms/epoch - 12ms/step\n",
            "Epoch 337/500\n",
            "25/25 - 0s - loss: 6.3856e-07 - accuracy: 1.0000 - 305ms/epoch - 12ms/step\n",
            "Epoch 338/500\n",
            "25/25 - 0s - loss: 6.3467e-07 - accuracy: 1.0000 - 295ms/epoch - 12ms/step\n",
            "Epoch 339/500\n",
            "25/25 - 0s - loss: 6.2883e-07 - accuracy: 1.0000 - 307ms/epoch - 12ms/step\n",
            "Epoch 340/500\n",
            "25/25 - 0s - loss: 6.2349e-07 - accuracy: 1.0000 - 311ms/epoch - 12ms/step\n",
            "Epoch 341/500\n",
            "25/25 - 0s - loss: 6.1809e-07 - accuracy: 1.0000 - 302ms/epoch - 12ms/step\n",
            "Epoch 342/500\n",
            "25/25 - 0s - loss: 6.1152e-07 - accuracy: 1.0000 - 299ms/epoch - 12ms/step\n",
            "Epoch 343/500\n",
            "25/25 - 0s - loss: 6.0709e-07 - accuracy: 1.0000 - 297ms/epoch - 12ms/step\n",
            "Epoch 344/500\n",
            "25/25 - 0s - loss: 6.0304e-07 - accuracy: 1.0000 - 310ms/epoch - 12ms/step\n",
            "Epoch 345/500\n",
            "25/25 - 0s - loss: 6.0067e-07 - accuracy: 1.0000 - 306ms/epoch - 12ms/step\n",
            "Epoch 346/500\n",
            "25/25 - 0s - loss: 5.9031e-07 - accuracy: 1.0000 - 299ms/epoch - 12ms/step\n",
            "Epoch 347/500\n",
            "25/25 - 0s - loss: 5.9003e-07 - accuracy: 1.0000 - 293ms/epoch - 12ms/step\n",
            "Epoch 348/500\n",
            "25/25 - 0s - loss: 5.8147e-07 - accuracy: 1.0000 - 309ms/epoch - 12ms/step\n",
            "Epoch 349/500\n",
            "25/25 - 0s - loss: 5.7998e-07 - accuracy: 1.0000 - 316ms/epoch - 13ms/step\n",
            "Epoch 350/500\n",
            "25/25 - 0s - loss: 5.7147e-07 - accuracy: 1.0000 - 299ms/epoch - 12ms/step\n",
            "Epoch 351/500\n",
            "25/25 - 0s - loss: 5.6789e-07 - accuracy: 1.0000 - 289ms/epoch - 12ms/step\n",
            "Epoch 352/500\n",
            "25/25 - 0s - loss: 5.6228e-07 - accuracy: 1.0000 - 307ms/epoch - 12ms/step\n",
            "Epoch 353/500\n",
            "25/25 - 0s - loss: 5.5970e-07 - accuracy: 1.0000 - 291ms/epoch - 12ms/step\n",
            "Epoch 354/500\n",
            "25/25 - 0s - loss: 5.5132e-07 - accuracy: 1.0000 - 301ms/epoch - 12ms/step\n",
            "Epoch 355/500\n",
            "25/25 - 0s - loss: 5.4595e-07 - accuracy: 1.0000 - 319ms/epoch - 13ms/step\n",
            "Epoch 356/500\n",
            "25/25 - 0s - loss: 5.4169e-07 - accuracy: 1.0000 - 315ms/epoch - 13ms/step\n",
            "Epoch 357/500\n",
            "25/25 - 0s - loss: 5.3783e-07 - accuracy: 1.0000 - 391ms/epoch - 16ms/step\n",
            "Epoch 358/500\n",
            "25/25 - 0s - loss: 5.3006e-07 - accuracy: 1.0000 - 394ms/epoch - 16ms/step\n",
            "Epoch 359/500\n",
            "25/25 - 0s - loss: 5.2889e-07 - accuracy: 1.0000 - 374ms/epoch - 15ms/step\n",
            "Epoch 360/500\n",
            "25/25 - 0s - loss: 5.2443e-07 - accuracy: 1.0000 - 386ms/epoch - 15ms/step\n",
            "Epoch 361/500\n",
            "25/25 - 0s - loss: 5.2229e-07 - accuracy: 1.0000 - 383ms/epoch - 15ms/step\n",
            "Epoch 362/500\n",
            "25/25 - 0s - loss: 5.1644e-07 - accuracy: 1.0000 - 392ms/epoch - 16ms/step\n",
            "Epoch 363/500\n",
            "25/25 - 0s - loss: 5.0920e-07 - accuracy: 1.0000 - 378ms/epoch - 15ms/step\n",
            "Epoch 364/500\n",
            "25/25 - 0s - loss: 5.0712e-07 - accuracy: 1.0000 - 373ms/epoch - 15ms/step\n",
            "Epoch 365/500\n",
            "25/25 - 0s - loss: 5.0351e-07 - accuracy: 1.0000 - 381ms/epoch - 15ms/step\n",
            "Epoch 366/500\n",
            "25/25 - 0s - loss: 4.9492e-07 - accuracy: 1.0000 - 321ms/epoch - 13ms/step\n",
            "Epoch 367/500\n",
            "25/25 - 0s - loss: 4.8986e-07 - accuracy: 1.0000 - 309ms/epoch - 12ms/step\n",
            "Epoch 368/500\n",
            "25/25 - 0s - loss: 4.8634e-07 - accuracy: 1.0000 - 294ms/epoch - 12ms/step\n",
            "Epoch 369/500\n",
            "25/25 - 0s - loss: 4.8136e-07 - accuracy: 1.0000 - 306ms/epoch - 12ms/step\n",
            "Epoch 370/500\n",
            "25/25 - 0s - loss: 4.8235e-07 - accuracy: 1.0000 - 287ms/epoch - 11ms/step\n",
            "Epoch 371/500\n",
            "25/25 - 0s - loss: 4.7266e-07 - accuracy: 1.0000 - 304ms/epoch - 12ms/step\n",
            "Epoch 372/500\n",
            "25/25 - 0s - loss: 4.7126e-07 - accuracy: 1.0000 - 328ms/epoch - 13ms/step\n",
            "Epoch 373/500\n",
            "25/25 - 0s - loss: 4.6482e-07 - accuracy: 1.0000 - 292ms/epoch - 12ms/step\n",
            "Epoch 374/500\n",
            "25/25 - 0s - loss: 4.6180e-07 - accuracy: 1.0000 - 297ms/epoch - 12ms/step\n",
            "Epoch 375/500\n",
            "25/25 - 0s - loss: 4.5734e-07 - accuracy: 1.0000 - 305ms/epoch - 12ms/step\n",
            "Epoch 376/500\n",
            "25/25 - 0s - loss: 4.5290e-07 - accuracy: 1.0000 - 303ms/epoch - 12ms/step\n",
            "Epoch 377/500\n",
            "25/25 - 0s - loss: 4.5089e-07 - accuracy: 1.0000 - 292ms/epoch - 12ms/step\n",
            "Epoch 378/500\n",
            "25/25 - 0s - loss: 4.5431e-07 - accuracy: 1.0000 - 314ms/epoch - 13ms/step\n",
            "Epoch 379/500\n",
            "25/25 - 0s - loss: 4.4066e-07 - accuracy: 1.0000 - 312ms/epoch - 12ms/step\n",
            "Epoch 380/500\n",
            "25/25 - 0s - loss: 4.3684e-07 - accuracy: 1.0000 - 304ms/epoch - 12ms/step\n",
            "Epoch 381/500\n",
            "25/25 - 0s - loss: 4.3207e-07 - accuracy: 1.0000 - 298ms/epoch - 12ms/step\n",
            "Epoch 382/500\n",
            "25/25 - 0s - loss: 4.2694e-07 - accuracy: 1.0000 - 310ms/epoch - 12ms/step\n",
            "Epoch 383/500\n",
            "25/25 - 0s - loss: 4.2249e-07 - accuracy: 1.0000 - 294ms/epoch - 12ms/step\n",
            "Epoch 384/500\n",
            "25/25 - 0s - loss: 4.2114e-07 - accuracy: 1.0000 - 297ms/epoch - 12ms/step\n",
            "Epoch 385/500\n",
            "25/25 - 0s - loss: 4.1378e-07 - accuracy: 1.0000 - 294ms/epoch - 12ms/step\n",
            "Epoch 386/500\n",
            "25/25 - 0s - loss: 4.1170e-07 - accuracy: 1.0000 - 301ms/epoch - 12ms/step\n",
            "Epoch 387/500\n",
            "25/25 - 0s - loss: 4.0931e-07 - accuracy: 1.0000 - 295ms/epoch - 12ms/step\n",
            "Epoch 388/500\n",
            "25/25 - 0s - loss: 4.0303e-07 - accuracy: 1.0000 - 288ms/epoch - 12ms/step\n",
            "Epoch 389/500\n",
            "25/25 - 0s - loss: 4.0173e-07 - accuracy: 1.0000 - 312ms/epoch - 12ms/step\n",
            "Epoch 390/500\n",
            "25/25 - 0s - loss: 4.0051e-07 - accuracy: 1.0000 - 304ms/epoch - 12ms/step\n",
            "Epoch 391/500\n",
            "25/25 - 0s - loss: 3.9552e-07 - accuracy: 1.0000 - 313ms/epoch - 13ms/step\n",
            "Epoch 392/500\n",
            "25/25 - 0s - loss: 3.9155e-07 - accuracy: 1.0000 - 312ms/epoch - 12ms/step\n",
            "Epoch 393/500\n",
            "25/25 - 0s - loss: 3.8741e-07 - accuracy: 1.0000 - 300ms/epoch - 12ms/step\n",
            "Epoch 394/500\n",
            "25/25 - 0s - loss: 3.8673e-07 - accuracy: 1.0000 - 296ms/epoch - 12ms/step\n",
            "Epoch 395/500\n",
            "25/25 - 0s - loss: 3.8086e-07 - accuracy: 1.0000 - 314ms/epoch - 13ms/step\n",
            "Epoch 396/500\n",
            "25/25 - 0s - loss: 3.7746e-07 - accuracy: 1.0000 - 299ms/epoch - 12ms/step\n",
            "Epoch 397/500\n",
            "25/25 - 0s - loss: 3.7599e-07 - accuracy: 1.0000 - 312ms/epoch - 12ms/step\n",
            "Epoch 398/500\n",
            "25/25 - 0s - loss: 3.7097e-07 - accuracy: 1.0000 - 396ms/epoch - 16ms/step\n",
            "Epoch 399/500\n",
            "25/25 - 0s - loss: 3.6882e-07 - accuracy: 1.0000 - 364ms/epoch - 15ms/step\n",
            "Epoch 400/500\n",
            "25/25 - 0s - loss: 3.6661e-07 - accuracy: 1.0000 - 366ms/epoch - 15ms/step\n",
            "Epoch 401/500\n",
            "25/25 - 0s - loss: 3.6199e-07 - accuracy: 1.0000 - 419ms/epoch - 17ms/step\n",
            "Epoch 402/500\n",
            "25/25 - 0s - loss: 3.5889e-07 - accuracy: 1.0000 - 406ms/epoch - 16ms/step\n",
            "Epoch 403/500\n",
            "25/25 - 0s - loss: 3.5638e-07 - accuracy: 1.0000 - 413ms/epoch - 17ms/step\n",
            "Epoch 404/500\n",
            "25/25 - 0s - loss: 3.5370e-07 - accuracy: 1.0000 - 383ms/epoch - 15ms/step\n",
            "Epoch 405/500\n",
            "25/25 - 0s - loss: 3.4987e-07 - accuracy: 1.0000 - 364ms/epoch - 15ms/step\n",
            "Epoch 406/500\n",
            "25/25 - 0s - loss: 3.4788e-07 - accuracy: 1.0000 - 379ms/epoch - 15ms/step\n",
            "Epoch 407/500\n",
            "25/25 - 0s - loss: 3.4393e-07 - accuracy: 1.0000 - 311ms/epoch - 12ms/step\n",
            "Epoch 408/500\n",
            "25/25 - 0s - loss: 3.4122e-07 - accuracy: 1.0000 - 298ms/epoch - 12ms/step\n",
            "Epoch 409/500\n",
            "25/25 - 0s - loss: 3.3788e-07 - accuracy: 1.0000 - 305ms/epoch - 12ms/step\n",
            "Epoch 410/500\n",
            "25/25 - 0s - loss: 3.4016e-07 - accuracy: 1.0000 - 314ms/epoch - 13ms/step\n",
            "Epoch 411/500\n",
            "25/25 - 0s - loss: 3.3230e-07 - accuracy: 1.0000 - 308ms/epoch - 12ms/step\n",
            "Epoch 412/500\n",
            "25/25 - 0s - loss: 3.2821e-07 - accuracy: 1.0000 - 298ms/epoch - 12ms/step\n",
            "Epoch 413/500\n",
            "25/25 - 0s - loss: 3.2496e-07 - accuracy: 1.0000 - 322ms/epoch - 13ms/step\n",
            "Epoch 414/500\n",
            "25/25 - 0s - loss: 3.2207e-07 - accuracy: 1.0000 - 299ms/epoch - 12ms/step\n",
            "Epoch 415/500\n",
            "25/25 - 0s - loss: 3.1928e-07 - accuracy: 1.0000 - 317ms/epoch - 13ms/step\n",
            "Epoch 416/500\n",
            "25/25 - 0s - loss: 3.1504e-07 - accuracy: 1.0000 - 310ms/epoch - 12ms/step\n",
            "Epoch 417/500\n",
            "25/25 - 0s - loss: 3.1306e-07 - accuracy: 1.0000 - 312ms/epoch - 12ms/step\n",
            "Epoch 418/500\n",
            "25/25 - 0s - loss: 3.1154e-07 - accuracy: 1.0000 - 291ms/epoch - 12ms/step\n",
            "Epoch 419/500\n",
            "25/25 - 0s - loss: 3.0839e-07 - accuracy: 1.0000 - 309ms/epoch - 12ms/step\n",
            "Epoch 420/500\n",
            "25/25 - 0s - loss: 3.0668e-07 - accuracy: 1.0000 - 317ms/epoch - 13ms/step\n",
            "Epoch 421/500\n",
            "25/25 - 0s - loss: 3.0340e-07 - accuracy: 1.0000 - 302ms/epoch - 12ms/step\n",
            "Epoch 422/500\n",
            "25/25 - 0s - loss: 3.0026e-07 - accuracy: 1.0000 - 303ms/epoch - 12ms/step\n",
            "Epoch 423/500\n",
            "25/25 - 0s - loss: 2.9822e-07 - accuracy: 1.0000 - 310ms/epoch - 12ms/step\n",
            "Epoch 424/500\n",
            "25/25 - 0s - loss: 2.9513e-07 - accuracy: 1.0000 - 302ms/epoch - 12ms/step\n",
            "Epoch 425/500\n",
            "25/25 - 0s - loss: 2.9316e-07 - accuracy: 1.0000 - 303ms/epoch - 12ms/step\n",
            "Epoch 426/500\n",
            "25/25 - 0s - loss: 2.9072e-07 - accuracy: 1.0000 - 306ms/epoch - 12ms/step\n",
            "Epoch 427/500\n",
            "25/25 - 0s - loss: 2.8793e-07 - accuracy: 1.0000 - 299ms/epoch - 12ms/step\n",
            "Epoch 428/500\n",
            "25/25 - 0s - loss: 2.8633e-07 - accuracy: 1.0000 - 309ms/epoch - 12ms/step\n",
            "Epoch 429/500\n",
            "25/25 - 0s - loss: 2.8640e-07 - accuracy: 1.0000 - 315ms/epoch - 13ms/step\n",
            "Epoch 430/500\n",
            "25/25 - 0s - loss: 2.8065e-07 - accuracy: 1.0000 - 297ms/epoch - 12ms/step\n",
            "Epoch 431/500\n",
            "25/25 - 0s - loss: 2.8171e-07 - accuracy: 1.0000 - 303ms/epoch - 12ms/step\n",
            "Epoch 432/500\n",
            "25/25 - 0s - loss: 2.7807e-07 - accuracy: 1.0000 - 296ms/epoch - 12ms/step\n",
            "Epoch 433/500\n",
            "25/25 - 0s - loss: 2.7392e-07 - accuracy: 1.0000 - 300ms/epoch - 12ms/step\n",
            "Epoch 434/500\n",
            "25/25 - 0s - loss: 2.7267e-07 - accuracy: 1.0000 - 300ms/epoch - 12ms/step\n",
            "Epoch 435/500\n",
            "25/25 - 0s - loss: 2.7115e-07 - accuracy: 1.0000 - 300ms/epoch - 12ms/step\n",
            "Epoch 436/500\n",
            "25/25 - 0s - loss: 2.6730e-07 - accuracy: 1.0000 - 306ms/epoch - 12ms/step\n",
            "Epoch 437/500\n",
            "25/25 - 0s - loss: 2.6606e-07 - accuracy: 1.0000 - 309ms/epoch - 12ms/step\n",
            "Epoch 438/500\n",
            "25/25 - 0s - loss: 2.6394e-07 - accuracy: 1.0000 - 304ms/epoch - 12ms/step\n",
            "Epoch 439/500\n",
            "25/25 - 0s - loss: 2.6040e-07 - accuracy: 1.0000 - 382ms/epoch - 15ms/step\n",
            "Epoch 440/500\n",
            "25/25 - 0s - loss: 2.5894e-07 - accuracy: 1.0000 - 343ms/epoch - 14ms/step\n",
            "Epoch 441/500\n",
            "25/25 - 0s - loss: 2.5658e-07 - accuracy: 1.0000 - 390ms/epoch - 16ms/step\n",
            "Epoch 442/500\n",
            "25/25 - 0s - loss: 2.5642e-07 - accuracy: 1.0000 - 400ms/epoch - 16ms/step\n",
            "Epoch 443/500\n",
            "25/25 - 0s - loss: 2.5207e-07 - accuracy: 1.0000 - 380ms/epoch - 15ms/step\n",
            "Epoch 444/500\n",
            "25/25 - 0s - loss: 2.5105e-07 - accuracy: 1.0000 - 374ms/epoch - 15ms/step\n",
            "Epoch 445/500\n",
            "25/25 - 0s - loss: 2.4886e-07 - accuracy: 1.0000 - 383ms/epoch - 15ms/step\n",
            "Epoch 446/500\n",
            "25/25 - 0s - loss: 2.4706e-07 - accuracy: 1.0000 - 374ms/epoch - 15ms/step\n",
            "Epoch 447/500\n",
            "25/25 - 0s - loss: 2.4457e-07 - accuracy: 1.0000 - 373ms/epoch - 15ms/step\n",
            "Epoch 448/500\n",
            "25/25 - 0s - loss: 2.4337e-07 - accuracy: 1.0000 - 318ms/epoch - 13ms/step\n",
            "Epoch 449/500\n",
            "25/25 - 0s - loss: 2.4033e-07 - accuracy: 1.0000 - 295ms/epoch - 12ms/step\n",
            "Epoch 450/500\n",
            "25/25 - 0s - loss: 2.3907e-07 - accuracy: 1.0000 - 330ms/epoch - 13ms/step\n",
            "Epoch 451/500\n",
            "25/25 - 0s - loss: 2.3650e-07 - accuracy: 1.0000 - 302ms/epoch - 12ms/step\n",
            "Epoch 452/500\n",
            "25/25 - 0s - loss: 2.3538e-07 - accuracy: 1.0000 - 309ms/epoch - 12ms/step\n",
            "Epoch 453/500\n",
            "25/25 - 0s - loss: 2.3355e-07 - accuracy: 1.0000 - 306ms/epoch - 12ms/step\n",
            "Epoch 454/500\n",
            "25/25 - 0s - loss: 2.3146e-07 - accuracy: 1.0000 - 310ms/epoch - 12ms/step\n",
            "Epoch 455/500\n",
            "25/25 - 0s - loss: 2.2801e-07 - accuracy: 1.0000 - 309ms/epoch - 12ms/step\n",
            "Epoch 456/500\n",
            "25/25 - 0s - loss: 2.2613e-07 - accuracy: 1.0000 - 309ms/epoch - 12ms/step\n",
            "Epoch 457/500\n",
            "25/25 - 0s - loss: 2.2553e-07 - accuracy: 1.0000 - 308ms/epoch - 12ms/step\n",
            "Epoch 458/500\n",
            "25/25 - 0s - loss: 2.2426e-07 - accuracy: 1.0000 - 301ms/epoch - 12ms/step\n",
            "Epoch 459/500\n",
            "25/25 - 0s - loss: 2.2199e-07 - accuracy: 1.0000 - 314ms/epoch - 13ms/step\n",
            "Epoch 460/500\n",
            "25/25 - 0s - loss: 2.2187e-07 - accuracy: 1.0000 - 307ms/epoch - 12ms/step\n",
            "Epoch 461/500\n",
            "25/25 - 0s - loss: 2.1698e-07 - accuracy: 1.0000 - 295ms/epoch - 12ms/step\n",
            "Epoch 462/500\n",
            "25/25 - 0s - loss: 2.1537e-07 - accuracy: 1.0000 - 301ms/epoch - 12ms/step\n",
            "Epoch 463/500\n",
            "25/25 - 0s - loss: 2.1572e-07 - accuracy: 1.0000 - 304ms/epoch - 12ms/step\n",
            "Epoch 464/500\n",
            "25/25 - 0s - loss: 2.1234e-07 - accuracy: 1.0000 - 306ms/epoch - 12ms/step\n",
            "Epoch 465/500\n",
            "25/25 - 0s - loss: 2.1101e-07 - accuracy: 1.0000 - 304ms/epoch - 12ms/step\n",
            "Epoch 466/500\n",
            "25/25 - 0s - loss: 2.0941e-07 - accuracy: 1.0000 - 299ms/epoch - 12ms/step\n",
            "Epoch 467/500\n",
            "25/25 - 0s - loss: 2.0686e-07 - accuracy: 1.0000 - 302ms/epoch - 12ms/step\n",
            "Epoch 468/500\n",
            "25/25 - 0s - loss: 2.0609e-07 - accuracy: 1.0000 - 292ms/epoch - 12ms/step\n",
            "Epoch 469/500\n",
            "25/25 - 0s - loss: 2.0546e-07 - accuracy: 1.0000 - 305ms/epoch - 12ms/step\n",
            "Epoch 470/500\n",
            "25/25 - 0s - loss: 2.0257e-07 - accuracy: 1.0000 - 312ms/epoch - 12ms/step\n",
            "Epoch 471/500\n",
            "25/25 - 0s - loss: 2.0101e-07 - accuracy: 1.0000 - 291ms/epoch - 12ms/step\n",
            "Epoch 472/500\n",
            "25/25 - 0s - loss: 1.9997e-07 - accuracy: 1.0000 - 294ms/epoch - 12ms/step\n",
            "Epoch 473/500\n",
            "25/25 - 0s - loss: 1.9993e-07 - accuracy: 1.0000 - 299ms/epoch - 12ms/step\n",
            "Epoch 474/500\n",
            "25/25 - 0s - loss: 1.9821e-07 - accuracy: 1.0000 - 316ms/epoch - 13ms/step\n",
            "Epoch 475/500\n",
            "25/25 - 0s - loss: 1.9458e-07 - accuracy: 1.0000 - 311ms/epoch - 12ms/step\n",
            "Epoch 476/500\n",
            "25/25 - 0s - loss: 1.9418e-07 - accuracy: 1.0000 - 299ms/epoch - 12ms/step\n",
            "Epoch 477/500\n",
            "25/25 - 0s - loss: 1.9186e-07 - accuracy: 1.0000 - 311ms/epoch - 12ms/step\n",
            "Epoch 478/500\n",
            "25/25 - 0s - loss: 1.9079e-07 - accuracy: 1.0000 - 300ms/epoch - 12ms/step\n",
            "Epoch 479/500\n",
            "25/25 - 0s - loss: 1.8884e-07 - accuracy: 1.0000 - 303ms/epoch - 12ms/step\n",
            "Epoch 480/500\n",
            "25/25 - 0s - loss: 1.8756e-07 - accuracy: 1.0000 - 367ms/epoch - 15ms/step\n",
            "Epoch 481/500\n",
            "25/25 - 0s - loss: 1.8589e-07 - accuracy: 1.0000 - 367ms/epoch - 15ms/step\n",
            "Epoch 482/500\n",
            "25/25 - 0s - loss: 1.8396e-07 - accuracy: 1.0000 - 374ms/epoch - 15ms/step\n",
            "Epoch 483/500\n",
            "25/25 - 0s - loss: 1.8303e-07 - accuracy: 1.0000 - 403ms/epoch - 16ms/step\n",
            "Epoch 484/500\n",
            "25/25 - 0s - loss: 1.8250e-07 - accuracy: 1.0000 - 392ms/epoch - 16ms/step\n",
            "Epoch 485/500\n",
            "25/25 - 0s - loss: 1.8098e-07 - accuracy: 1.0000 - 381ms/epoch - 15ms/step\n",
            "Epoch 486/500\n",
            "25/25 - 0s - loss: 1.7899e-07 - accuracy: 1.0000 - 363ms/epoch - 15ms/step\n",
            "Epoch 487/500\n",
            "25/25 - 0s - loss: 1.7853e-07 - accuracy: 1.0000 - 393ms/epoch - 16ms/step\n",
            "Epoch 488/500\n",
            "25/25 - 0s - loss: 1.7855e-07 - accuracy: 1.0000 - 436ms/epoch - 17ms/step\n",
            "Epoch 489/500\n",
            "25/25 - 0s - loss: 1.7473e-07 - accuracy: 1.0000 - 306ms/epoch - 12ms/step\n",
            "Epoch 490/500\n",
            "25/25 - 0s - loss: 1.7294e-07 - accuracy: 1.0000 - 321ms/epoch - 13ms/step\n",
            "Epoch 491/500\n",
            "25/25 - 0s - loss: 1.7403e-07 - accuracy: 1.0000 - 314ms/epoch - 13ms/step\n",
            "Epoch 492/500\n",
            "25/25 - 0s - loss: 1.6971e-07 - accuracy: 1.0000 - 316ms/epoch - 13ms/step\n",
            "Epoch 493/500\n",
            "25/25 - 0s - loss: 1.6954e-07 - accuracy: 1.0000 - 299ms/epoch - 12ms/step\n",
            "Epoch 494/500\n",
            "25/25 - 0s - loss: 1.6786e-07 - accuracy: 1.0000 - 295ms/epoch - 12ms/step\n",
            "Epoch 495/500\n",
            "25/25 - 0s - loss: 1.6693e-07 - accuracy: 1.0000 - 298ms/epoch - 12ms/step\n",
            "Epoch 496/500\n",
            "25/25 - 0s - loss: 1.6483e-07 - accuracy: 1.0000 - 296ms/epoch - 12ms/step\n",
            "Epoch 497/500\n",
            "25/25 - 0s - loss: 1.6356e-07 - accuracy: 1.0000 - 298ms/epoch - 12ms/step\n",
            "Epoch 498/500\n",
            "25/25 - 0s - loss: 1.6270e-07 - accuracy: 1.0000 - 303ms/epoch - 12ms/step\n",
            "Epoch 499/500\n",
            "25/25 - 0s - loss: 1.6194e-07 - accuracy: 1.0000 - 297ms/epoch - 12ms/step\n",
            "Epoch 500/500\n",
            "25/25 - 0s - loss: 1.6182e-07 - accuracy: 1.0000 - 293ms/epoch - 12ms/step\n"
          ]
        }
      ]
    },
    {
      "cell_type": "markdown",
      "source": [
        "Se muestra un resumen del modelo, así como la evaluación de los resultados"
      ],
      "metadata": {
        "id": "5jMO--L47dx8"
      }
    },
    {
      "cell_type": "code",
      "source": [
        "# resumen del model\n",
        "model.summary()"
      ],
      "metadata": {
        "id": "uVCjYu8o7n9O",
        "outputId": "93305985-c331-4775-a8de-8fde1fbcbb54",
        "colab": {
          "base_uri": "https://localhost:8080/"
        }
      },
      "execution_count": 53,
      "outputs": [
        {
          "output_type": "stream",
          "name": "stdout",
          "text": [
            "Model: \"sequential_4\"\n",
            "_________________________________________________________________\n",
            " Layer (type)                Output Shape              Param #   \n",
            "=================================================================\n",
            " dense_6 (Dense)             (None, 1)                 100001    \n",
            "                                                                 \n",
            "=================================================================\n",
            "Total params: 100,001\n",
            "Trainable params: 100,001\n",
            "Non-trainable params: 0\n",
            "_________________________________________________________________\n"
          ]
        }
      ]
    },
    {
      "cell_type": "code",
      "source": [
        "# Exactitud del modelo\n",
        "plt.plot(hist.history['accuracy']) \n",
        "plt.legend(['Exactitud'])\n",
        "plt.ylabel('Exactitud')\n",
        "plt.xlabel('Epoca')"
      ],
      "metadata": {
        "id": "0UpBOYER7pj0",
        "outputId": "b7c9a1ac-d0fe-4307-d0af-03617097f3e8",
        "colab": {
          "base_uri": "https://localhost:8080/",
          "height": 467
        }
      },
      "execution_count": 54,
      "outputs": [
        {
          "output_type": "execute_result",
          "data": {
            "text/plain": [
              "Text(0.5, 0, 'Epoca')"
            ]
          },
          "metadata": {},
          "execution_count": 54
        },
        {
          "output_type": "display_data",
          "data": {
            "text/plain": [
              "<Figure size 640x480 with 1 Axes>"
            ],
            "image/png": "[encoded data removed]"
          },
          "metadata": {}
        }
      ]
    },
    {
      "cell_type": "code",
      "source": [
        "# Función de pérdida\n",
        "plt.plot(hist.history['loss'])\n",
        "plt.legend(['Error'])\n",
        "plt.title('Error')\n",
        "plt.xlabel('Epoca')"
      ],
      "metadata": {
        "id": "lyTDOC267rBD",
        "outputId": "78059f0e-e8b9-49cb-c775-6f5e7d7aa558",
        "colab": {
          "base_uri": "https://localhost:8080/",
          "height": 490
        }
      },
      "execution_count": 55,
      "outputs": [
        {
          "output_type": "execute_result",
          "data": {
            "text/plain": [
              "Text(0.5, 0, 'Epoca')"
            ]
          },
          "metadata": {},
          "execution_count": 55
        },
        {
          "output_type": "display_data",
          "data": {
            "text/plain": [
              "<Figure size 640x480 with 1 Axes>"
            ],
            "image/png": "[encoded data removed]"
          },
          "metadata": {}
        }
      ]
    },
    {
      "cell_type": "code",
      "source": [
        "# Se calculan las predicciones del modelo para graficar la matriz de confusión\n",
        "# Se compara contra 0.5 para determinar si es clase 0 ó clase 1\n",
        "# ya que la salida que da la función Sigmoid es continua entre 0 y 1\n",
        "y_predict = (model.predict(X_test) > 0.5).astype(\"int32\")"
      ],
      "metadata": {
        "id": "fWDz_uGf7us8",
        "outputId": "92d7b27d-33de-40d6-b67d-bb1672aba302",
        "colab": {
          "base_uri": "https://localhost:8080/"
        }
      },
      "execution_count": 56,
      "outputs": [
        {
          "output_type": "stream",
          "name": "stdout",
          "text": [
            "13/13 [==============================] - 0s 8ms/step\n"
          ]
        }
      ]
    },
    {
      "cell_type": "code",
      "source": [
        "from sklearn.metrics import classification_report, confusion_matrix\n",
        "\n",
        "cm = confusion_matrix(y_test, y_predict)\n",
        "\n",
        "sns.heatmap(cm, annot=True, fmt=\"d\")"
      ],
      "metadata": {
        "id": "lONiFOrf7xTd",
        "outputId": "b8d36f14-0158-48a8-9437-87680d207fc4",
        "colab": {
          "base_uri": "https://localhost:8080/",
          "height": 448
        }
      },
      "execution_count": 57,
      "outputs": [
        {
          "output_type": "execute_result",
          "data": {
            "text/plain": [
              "<Axes: >"
            ]
          },
          "metadata": {},
          "execution_count": 57
        },
        {
          "output_type": "display_data",
          "data": {
            "text/plain": [
              "<Figure size 640x480 with 2 Axes>"
            ],
            "image/png": "[encoded data removed]"
          },
          "metadata": {}
        }
      ]
    }
  ]
}