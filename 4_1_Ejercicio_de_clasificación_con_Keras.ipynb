{
  "nbformat": 4,
  "nbformat_minor": 0,
  "metadata": {
    "colab": {
      "provenance": [],
      "gpuType": "T4",
      "include_colab_link": true
    },
    "kernelspec": {
      "name": "python3",
      "display_name": "Python 3"
    },
    "language_info": {
      "name": "python"
    },
    "accelerator": "GPU"
  },
  "cells": [
    {
      "cell_type": "markdown",
      "metadata": {
        "id": "view-in-github",
        "colab_type": "text"
      },
      "source": [
        "<a href=\"https://colab.research.google.com/github/aalr007/NavegacionAutonoma/blob/main/4_1_Ejercicio_de_clasificaci%C3%B3n_con_Keras.ipynb\" target=\"_parent\"><img src=\"https://colab.research.google.com/assets/colab-badge.svg\" alt=\"Open In Colab\"/></a>"
      ]
    },
    {
      "cell_type": "markdown",
      "source": [
        "# <center> ***Navegación Autónoma*** </center>\n",
        "## <center> ***Actividad 4.1 - Ejercicio de clasificación con Keras*** </center>\n",
        "\n",
        "### Profesor: Dr. David Antonio Torres\n",
        "### Alumnos: \n",
        "* Andrei García Torres               A01793891\n",
        "* Aurelio Antonio Lozano Rábago      A01081266\n",
        "* Jorge Luis Tapia Peñaloza          A01793013\n",
        "* Luis Alfredo Negron Naldos         A01793865\n",
        "\n",
        "#### <p style='text-align: right;'> 4 de Junio del 2023 </p>"
      ],
      "metadata": {
        "id": "ya5H_nAoTjiE"
      }
    },
    {
      "cell_type": "markdown",
      "source": [
        "#Instrucciones\n",
        "1- Si es necesario, estudia el código y el video que explica el uso de Keras para el diseño, entrenamiento y verificación de redes neuronales, los cuales están disponibles como materiales de aprendizaje en este módulo.\n",
        "\n",
        "2-Crea un Notebook en Google Colab y sube el dataset que usaste para resolver la detección de peatones con SVM. De preferencia, incorpora el uso de GPU en tu Notebook.\n",
        "\n",
        "3-Diseña una red neuronal adecuada para detectar peatones. Toma en cuenta el número de entradas de la red, crea un número adecuado de capas ocultas y crea una capa de salida con una sola neurona con salida binaria.\n",
        "\n",
        "4-Si es el caso, reporta como bibliografía otras fuentes de información que consultaste para llegar a la solución.\n",
        "\n",
        "5-Crea un video, con una duración menor a dos minutos, en donde expliques los parámetros de la red neuronal y del entrenamiento que permitieron llegar a una solución correcta. Asegúrate de obtener un score de al menos 90%. Sube tu video a tu canal de YouTube y guarda el enlace.\n",
        "\n",
        "6-A manera de reporte, crea un documento que incluya tu script con los comentarios y el enlace de tu video en YouTube. Tanto el código como los comentarios son importantes para el documento."
      ],
      "metadata": {
        "id": "vYfBzPd3UeLs"
      }
    },
    {
      "cell_type": "markdown",
      "source": [
        "obtenemos la base de datos con imagenes de peatones y sin peatones que se uso en la actividad 3.1\n",
        "\n",
        "https://www.kaggle.com/datasets/tejasvdante/pedestrian-no-pedestrian"
      ],
      "metadata": {
        "id": "21LZKIKuU2SO"
      }
    },
    {
      "cell_type": "markdown",
      "source": [
        "#Cargamos Bibliotecas necesarias"
      ],
      "metadata": {
        "id": "Y-JHlL7-W4Ph"
      }
    },
    {
      "cell_type": "code",
      "execution_count": 1,
      "metadata": {
        "id": "ymD9JMVdTi3D"
      },
      "outputs": [],
      "source": [
        "import numpy as np\n",
        "import matplotlib.pyplot as plt\n",
        "import keras\n",
        "from keras.datasets import cifar10\n",
        "from keras.models import Sequential\n",
        "from keras.layers import Dense\n",
        "from keras.optimizers import Adam\n",
        "from keras.utils.np_utils import to_categorical\n",
        "import random\n",
        "     \n",
        "from keras.layers import Dropout\n",
        "from keras.layers import Flatten\n",
        "from keras.layers.convolutional import Conv2D\n",
        "from keras.layers.convolutional import MaxPooling2D\n",
        "     \n",
        "from keras.models import Model\n",
        "\n",
        "import matplotlib.image as mpimg\n",
        "import seaborn as sns\n",
        "import cv2\n",
        "\n",
        "from google.colab import drive\n",
        "import glob"
      ]
    },
    {
      "cell_type": "markdown",
      "source": [
        "#Se carga el dataset y se verifica el número de muestras en cada set"
      ],
      "metadata": {
        "id": "4G2VvEdAXB10"
      }
    },
    {
      "cell_type": "code",
      "source": [
        "drive.mount('/content/drive')\n",
        "file_path = '/content/drive/MyDrive/MNA/DetPeatones/*'\n"
      ],
      "metadata": {
        "id": "eU6TQjt5XIOG",
        "outputId": "2c0a7e30-304f-4627-efa2-7d1b7839eacd",
        "colab": {
          "base_uri": "https://localhost:8080/"
        }
      },
      "execution_count": 2,
      "outputs": [
        {
          "output_type": "stream",
          "name": "stdout",
          "text": [
            "Drive already mounted at /content/drive; to attempt to forcibly remount, call drive.mount(\"/content/drive\", force_remount=True).\n"
          ]
        }
      ]
    },
    {
      "cell_type": "code",
      "source": [
        "pedestrian = glob.glob('/content/drive/MyDrive/MNA/NavAutonoma/DetPeatones/Pedestrian/*')\n",
        "no_pedestrian = glob.glob('/content/drive/MyDrive/MNA/NavAutonoma/DetPeatones/NoPedestrian/*')"
      ],
      "metadata": {
        "id": "UOkdfgq6n-Wo"
      },
      "execution_count": 3,
      "outputs": []
    },
    {
      "cell_type": "markdown",
      "source": [
        "Obtenemos el numero de imagenes que contienen peatones y las que no contienen peatones"
      ],
      "metadata": {
        "id": "uIX4VrrmXd6B"
      }
    },
    {
      "cell_type": "code",
      "execution_count": 4,
      "metadata": {
        "id": "4yoXQCKbMgyK",
        "outputId": "56cbe342-022b-4ce3-e268-1400a19fb5a5",
        "colab": {
          "base_uri": "https://localhost:8080/"
        }
      },
      "outputs": [
        {
          "output_type": "execute_result",
          "data": {
            "text/plain": [
              "808"
            ]
          },
          "metadata": {},
          "execution_count": 4
        }
      ],
      "source": [
        "len(pedestrian)"
      ]
    },
    {
      "cell_type": "code",
      "execution_count": 5,
      "metadata": {
        "id": "4n-S07nIMgyL",
        "outputId": "c5b10a17-f459-488d-c493-609029b6481e",
        "colab": {
          "base_uri": "https://localhost:8080/"
        }
      },
      "outputs": [
        {
          "output_type": "execute_result",
          "data": {
            "text/plain": [
              "808"
            ]
          },
          "metadata": {},
          "execution_count": 5
        }
      ],
      "source": [
        "len(no_pedestrian)"
      ]
    },
    {
      "cell_type": "markdown",
      "source": [
        "Es un problema con clases balanceadas, ya que hay el mismo número de imagenes con y sin peatones"
      ],
      "metadata": {
        "id": "CS9hZuAwUA4d"
      }
    },
    {
      "cell_type": "markdown",
      "source": [
        "#preprocesamiento imagenes\n",
        "Formateamos las imagenes a escala de grises, un tamaño comun, y agrupamos los datos"
      ],
      "metadata": {
        "id": "LfvYkAEzYngv"
      }
    },
    {
      "cell_type": "markdown",
      "source": [
        "Tamaño comun"
      ],
      "metadata": {
        "id": "nK9Dtv4DYxHN"
      }
    },
    {
      "cell_type": "code",
      "source": [
        "Pedestrian_Formated = []\n",
        "NoPedestrian_Formated = []\n",
        "\n",
        "width = 400 \n",
        "height = 250\n",
        "dim = (width, height)\n",
        "\n",
        "for i in pedestrian:\n",
        "    img_color = mpimg.imread(i)\n",
        "    #convert to grayscale\n",
        "    img_gray = cv2.cvtColor(img_color,cv2.COLOR_BGR2GRAY)\n",
        "    #resize image\n",
        "    img_resized = cv2.resize(img_gray, dim, interpolation = cv2.INTER_AREA)\n",
        "    \n",
        "    #add the new image to a new array\n",
        "    Pedestrian_Formated.append(img_resized)\n",
        "\n",
        "for i in no_pedestrian:\n",
        "    img_color = mpimg.imread(i)\n",
        "    #convert to grayscale\n",
        "    img_gray = cv2.cvtColor(img_color,cv2.COLOR_BGR2GRAY)\n",
        "    #resize image\n",
        "    img_resized = cv2.resize(img_gray, dim, interpolation = cv2.INTER_AREA)\n",
        "    \n",
        "    #add the new image to a new array\n",
        "    NoPedestrian_Formated.append(img_resized)"
      ],
      "metadata": {
        "id": "mdm8mJtYYzOl"
      },
      "execution_count": 20,
      "outputs": []
    },
    {
      "cell_type": "markdown",
      "source": [
        "Creamos las etiquetas"
      ],
      "metadata": {
        "id": "uFbn1HS9daro"
      }
    },
    {
      "cell_type": "code",
      "source": [
        "y_pedestrian = np.ones(len(Pedestrian_Formated))\n",
        "y_Nopedestrian = np.zeros(len(NoPedestrian_Formated))\n"
      ],
      "metadata": {
        "id": "HnngvG2epqDG"
      },
      "execution_count": 21,
      "outputs": []
    },
    {
      "cell_type": "markdown",
      "source": [
        "Combinacion de ambos tipos de datos en una sola pila"
      ],
      "metadata": {
        "id": "AwQ1ICH7qG8u"
      }
    },
    {
      "cell_type": "code",
      "source": [
        "X = np.vstack((Pedestrian_Formated,NoPedestrian_Formated))\n",
        "X.shape"
      ],
      "metadata": {
        "id": "6Kk9G_K9qPZq",
        "outputId": "f6d9b7e9-3bc6-423d-b838-f0bc91f440af",
        "colab": {
          "base_uri": "https://localhost:8080/"
        }
      },
      "execution_count": 22,
      "outputs": [
        {
          "output_type": "execute_result",
          "data": {
            "text/plain": [
              "(1616, 250, 400)"
            ]
          },
          "metadata": {},
          "execution_count": 22
        }
      ]
    },
    {
      "cell_type": "code",
      "source": [
        "y = np.hstack((y_pedestrian,y_Nopedestrian))\n",
        "y.shape"
      ],
      "metadata": {
        "id": "Z83yPp74qRcZ",
        "outputId": "64632cb6-b6b7-4f27-89f9-6d9256d524f2",
        "colab": {
          "base_uri": "https://localhost:8080/"
        }
      },
      "execution_count": 23,
      "outputs": [
        {
          "output_type": "execute_result",
          "data": {
            "text/plain": [
              "(1616,)"
            ]
          },
          "metadata": {},
          "execution_count": 23
        }
      ]
    },
    {
      "cell_type": "markdown",
      "source": [
        "Se normalizan las intensidades de los pixeles en un intervalo de 0 y 1"
      ],
      "metadata": {
        "id": "GUgwCiY7uTsk"
      }
    },
    {
      "cell_type": "code",
      "source": [
        "X=X/255"
      ],
      "metadata": {
        "id": "GePpj_GvuUqS"
      },
      "execution_count": 24,
      "outputs": []
    },
    {
      "cell_type": "markdown",
      "source": [
        "Se unidimensionan las imágenes para adecuarlas como capa de entrada en la red neuronal"
      ],
      "metadata": {
        "id": "KC6cjJQnvkrQ"
      }
    },
    {
      "cell_type": "code",
      "source": [
        "# 250 x 400 = 100,000\n",
        "num_pixels = 100000\n",
        "X = X.reshape(X.shape[0], num_pixels)\n",
        "print(X.shape)\n"
      ],
      "metadata": {
        "id": "6uc6ROW6vmN1",
        "outputId": "3731f116-ce97-4aa8-cca1-5df974a4c262",
        "colab": {
          "base_uri": "https://localhost:8080/"
        }
      },
      "execution_count": 26,
      "outputs": [
        {
          "output_type": "stream",
          "name": "stdout",
          "text": [
            "(1616, 100000)\n"
          ]
        }
      ]
    },
    {
      "cell_type": "markdown",
      "source": [
        "#Se define el modelo"
      ],
      "metadata": {
        "id": "n1LMt_kmv9t2"
      }
    },
    {
      "cell_type": "code",
      "source": [
        "model = Sequential()\n",
        "model.add(Dense(units = 30, input_dim=num_pixels, activation='relu'))\n",
        "#model.add(Dropout(0.2))\n",
        "model.add(Dense(units = 10, activation='relu'))\n",
        "#model.add(Dropout(0.2))\n",
        "model.add(Dense(units = 10, activation='softmax'))\n",
        "model.compile(Adam(lr=0.01), loss='categorical_crossentropy', metrics=['accuracy'])\n",
        "print(model.summary())"
      ],
      "metadata": {
        "id": "0vYCs98LwE2z",
        "outputId": "cfcdee41-310f-4dea-e152-0c2f4f0eb244",
        "colab": {
          "base_uri": "https://localhost:8080/"
        }
      },
      "execution_count": 27,
      "outputs": [
        {
          "output_type": "stream",
          "name": "stdout",
          "text": [
            "Model: \"sequential\"\n",
            "_________________________________________________________________\n",
            " Layer (type)                Output Shape              Param #   \n",
            "=================================================================\n",
            " dense (Dense)               (None, 30)                3000030   \n",
            "                                                                 \n",
            " dense_1 (Dense)             (None, 10)                310       \n",
            "                                                                 \n",
            " dense_2 (Dense)             (None, 10)                110       \n",
            "                                                                 \n",
            "=================================================================\n",
            "Total params: 3,000,450\n",
            "Trainable params: 3,000,450\n",
            "Non-trainable params: 0\n",
            "_________________________________________________________________\n",
            "None\n"
          ]
        },
        {
          "output_type": "stream",
          "name": "stderr",
          "text": [
            "/usr/local/lib/python3.10/dist-packages/keras/optimizers/legacy/adam.py:117: UserWarning: The `lr` argument is deprecated, use `learning_rate` instead.\n",
            "  super().__init__(name, **kwargs)\n"
          ]
        }
      ]
    },
    {
      "cell_type": "code",
      "source": [
        "print(X.shape)\n",
        "print(y.shape)\n",
        "print(y)"
      ],
      "metadata": {
        "id": "DFZRbm1qwd6g",
        "outputId": "a96274e6-3c6a-45a8-ee22-fea16f635585",
        "colab": {
          "base_uri": "https://localhost:8080/"
        }
      },
      "execution_count": 32,
      "outputs": [
        {
          "output_type": "stream",
          "name": "stdout",
          "text": [
            "(1616, 100000)\n",
            "(1616,)\n",
            "[1. 1. 1. ... 0. 0. 0.]\n"
          ]
        }
      ]
    },
    {
      "cell_type": "markdown",
      "source": [
        "Se separa un 10% del set de entrenamiento para fines de validación"
      ],
      "metadata": {
        "id": "ozZwOlzXwHpS"
      }
    },
    {
      "cell_type": "code",
      "source": [
        "history = model.fit(X, y, validation_split=0.1, epochs = 10, batch_size = 200, verbose = 1, shuffle = 1)"
      ],
      "metadata": {
        "id": "zG33UI-TwHVV",
        "outputId": "bd6b3564-768d-49b0-e583-4a339cfb5212",
        "colab": {
          "base_uri": "https://localhost:8080/",
          "height": 944
        }
      },
      "execution_count": 33,
      "outputs": [
        {
          "output_type": "stream",
          "name": "stdout",
          "text": [
            "Epoch 1/10\n"
          ]
        },
        {
          "output_type": "error",
          "ename": "ValueError",
          "evalue": "ignored",
          "traceback": [
            "\u001b[0;31m---------------------------------------------------------------------------\u001b[0m",
            "\u001b[0;31mValueError\u001b[0m                                Traceback (most recent call last)",
            "\u001b[0;32m<ipython-input-33-d9382135752a>\u001b[0m in \u001b[0;36m<cell line: 1>\u001b[0;34m()\u001b[0m\n\u001b[0;32m----> 1\u001b[0;31m \u001b[0mhistory\u001b[0m \u001b[0;34m=\u001b[0m \u001b[0mmodel\u001b[0m\u001b[0;34m.\u001b[0m\u001b[0mfit\u001b[0m\u001b[0;34m(\u001b[0m\u001b[0mX\u001b[0m\u001b[0;34m,\u001b[0m \u001b[0my\u001b[0m\u001b[0;34m,\u001b[0m \u001b[0mvalidation_split\u001b[0m\u001b[0;34m=\u001b[0m\u001b[0;36m0.1\u001b[0m\u001b[0;34m,\u001b[0m \u001b[0mepochs\u001b[0m \u001b[0;34m=\u001b[0m \u001b[0;36m10\u001b[0m\u001b[0;34m,\u001b[0m \u001b[0mbatch_size\u001b[0m \u001b[0;34m=\u001b[0m \u001b[0;36m200\u001b[0m\u001b[0;34m,\u001b[0m \u001b[0mverbose\u001b[0m \u001b[0;34m=\u001b[0m \u001b[0;36m1\u001b[0m\u001b[0;34m,\u001b[0m \u001b[0mshuffle\u001b[0m \u001b[0;34m=\u001b[0m \u001b[0;36m1\u001b[0m\u001b[0;34m)\u001b[0m\u001b[0;34m\u001b[0m\u001b[0;34m\u001b[0m\u001b[0m\n\u001b[0m",
            "\u001b[0;32m/usr/local/lib/python3.10/dist-packages/keras/utils/traceback_utils.py\u001b[0m in \u001b[0;36merror_handler\u001b[0;34m(*args, **kwargs)\u001b[0m\n\u001b[1;32m     68\u001b[0m             \u001b[0;31m# To get the full stack trace, call:\u001b[0m\u001b[0;34m\u001b[0m\u001b[0;34m\u001b[0m\u001b[0m\n\u001b[1;32m     69\u001b[0m             \u001b[0;31m# `tf.debugging.disable_traceback_filtering()`\u001b[0m\u001b[0;34m\u001b[0m\u001b[0;34m\u001b[0m\u001b[0m\n\u001b[0;32m---> 70\u001b[0;31m             \u001b[0;32mraise\u001b[0m \u001b[0me\u001b[0m\u001b[0;34m.\u001b[0m\u001b[0mwith_traceback\u001b[0m\u001b[0;34m(\u001b[0m\u001b[0mfiltered_tb\u001b[0m\u001b[0;34m)\u001b[0m \u001b[0;32mfrom\u001b[0m \u001b[0;32mNone\u001b[0m\u001b[0;34m\u001b[0m\u001b[0;34m\u001b[0m\u001b[0m\n\u001b[0m\u001b[1;32m     71\u001b[0m         \u001b[0;32mfinally\u001b[0m\u001b[0;34m:\u001b[0m\u001b[0;34m\u001b[0m\u001b[0;34m\u001b[0m\u001b[0m\n\u001b[1;32m     72\u001b[0m             \u001b[0;32mdel\u001b[0m \u001b[0mfiltered_tb\u001b[0m\u001b[0;34m\u001b[0m\u001b[0;34m\u001b[0m\u001b[0m\n",
            "\u001b[0;32m/usr/local/lib/python3.10/dist-packages/keras/engine/training.py\u001b[0m in \u001b[0;36mtf__train_function\u001b[0;34m(iterator)\u001b[0m\n\u001b[1;32m     13\u001b[0m                 \u001b[0;32mtry\u001b[0m\u001b[0;34m:\u001b[0m\u001b[0;34m\u001b[0m\u001b[0;34m\u001b[0m\u001b[0m\n\u001b[1;32m     14\u001b[0m                     \u001b[0mdo_return\u001b[0m \u001b[0;34m=\u001b[0m \u001b[0;32mTrue\u001b[0m\u001b[0;34m\u001b[0m\u001b[0;34m\u001b[0m\u001b[0m\n\u001b[0;32m---> 15\u001b[0;31m                     \u001b[0mretval_\u001b[0m \u001b[0;34m=\u001b[0m \u001b[0mag__\u001b[0m\u001b[0;34m.\u001b[0m\u001b[0mconverted_call\u001b[0m\u001b[0;34m(\u001b[0m\u001b[0mag__\u001b[0m\u001b[0;34m.\u001b[0m\u001b[0mld\u001b[0m\u001b[0;34m(\u001b[0m\u001b[0mstep_function\u001b[0m\u001b[0;34m)\u001b[0m\u001b[0;34m,\u001b[0m \u001b[0;34m(\u001b[0m\u001b[0mag__\u001b[0m\u001b[0;34m.\u001b[0m\u001b[0mld\u001b[0m\u001b[0;34m(\u001b[0m\u001b[0mself\u001b[0m\u001b[0;34m)\u001b[0m\u001b[0;34m,\u001b[0m \u001b[0mag__\u001b[0m\u001b[0;34m.\u001b[0m\u001b[0mld\u001b[0m\u001b[0;34m(\u001b[0m\u001b[0miterator\u001b[0m\u001b[0;34m)\u001b[0m\u001b[0;34m)\u001b[0m\u001b[0;34m,\u001b[0m \u001b[0;32mNone\u001b[0m\u001b[0;34m,\u001b[0m \u001b[0mfscope\u001b[0m\u001b[0;34m)\u001b[0m\u001b[0;34m\u001b[0m\u001b[0;34m\u001b[0m\u001b[0m\n\u001b[0m\u001b[1;32m     16\u001b[0m                 \u001b[0;32mexcept\u001b[0m\u001b[0;34m:\u001b[0m\u001b[0;34m\u001b[0m\u001b[0;34m\u001b[0m\u001b[0m\n\u001b[1;32m     17\u001b[0m                     \u001b[0mdo_return\u001b[0m \u001b[0;34m=\u001b[0m \u001b[0;32mFalse\u001b[0m\u001b[0;34m\u001b[0m\u001b[0;34m\u001b[0m\u001b[0m\n",
            "\u001b[0;31mValueError\u001b[0m: in user code:\n\n    File \"/usr/local/lib/python3.10/dist-packages/keras/engine/training.py\", line 1284, in train_function  *\n        return step_function(self, iterator)\n    File \"/usr/local/lib/python3.10/dist-packages/keras/engine/training.py\", line 1268, in step_function  **\n        outputs = model.distribute_strategy.run(run_step, args=(data,))\n    File \"/usr/local/lib/python3.10/dist-packages/keras/engine/training.py\", line 1249, in run_step  **\n        outputs = model.train_step(data)\n    File \"/usr/local/lib/python3.10/dist-packages/keras/engine/training.py\", line 1051, in train_step\n        loss = self.compute_loss(x, y, y_pred, sample_weight)\n    File \"/usr/local/lib/python3.10/dist-packages/keras/engine/training.py\", line 1109, in compute_loss\n        return self.compiled_loss(\n    File \"/usr/local/lib/python3.10/dist-packages/keras/engine/compile_utils.py\", line 265, in __call__\n        loss_value = loss_obj(y_t, y_p, sample_weight=sw)\n    File \"/usr/local/lib/python3.10/dist-packages/keras/losses.py\", line 142, in __call__\n        losses = call_fn(y_true, y_pred)\n    File \"/usr/local/lib/python3.10/dist-packages/keras/losses.py\", line 268, in call  **\n        return ag_fn(y_true, y_pred, **self._fn_kwargs)\n    File \"/usr/local/lib/python3.10/dist-packages/keras/losses.py\", line 1984, in categorical_crossentropy\n        return backend.categorical_crossentropy(\n    File \"/usr/local/lib/python3.10/dist-packages/keras/backend.py\", line 5559, in categorical_crossentropy\n        target.shape.assert_is_compatible_with(output.shape)\n\n    ValueError: Shapes (None, 1) and (None, 10) are incompatible\n"
          ]
        }
      ]
    }
  ]
}