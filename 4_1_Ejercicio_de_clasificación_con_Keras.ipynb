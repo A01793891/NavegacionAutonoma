{
  "nbformat": 4,
  "nbformat_minor": 0,
  "metadata": {
    "colab": {
      "provenance": [],
      "gpuType": "T4",
      "authorship_tag": "ABX9TyOO6r/tTc/CTNtIel9IERtX",
      "include_colab_link": true
    },
    "kernelspec": {
      "name": "python3",
      "display_name": "Python 3"
    },
    "language_info": {
      "name": "python"
    },
    "accelerator": "GPU"
  },
  "cells": [
    {
      "cell_type": "markdown",
      "metadata": {
        "id": "view-in-github",
        "colab_type": "text"
      },
      "source": [
        "<a href=\"https://colab.research.google.com/github/aalr007/NavegacionAutonoma/blob/main/4_1_Ejercicio_de_clasificaci%C3%B3n_con_Keras.ipynb\" target=\"_parent\"><img src=\"https://colab.research.google.com/assets/colab-badge.svg\" alt=\"Open In Colab\"/></a>"
      ]
    },
    {
      "cell_type": "markdown",
      "source": [
        "# <center> ***Navegación Autónoma*** </center>\n",
        "## <center> ***Actividad 4.1 - Ejercicio de clasificación con Keras*** </center>\n",
        "\n",
        "### Profesor: Dr. David Antonio Torres\n",
        "### Alumnos: \n",
        "* Andrei García Torres               A01793891\n",
        "* Aurelio Antonio Lozano Rábago      A01081266\n",
        "* Jorge Luis Tapia Peñaloza          A01793013\n",
        "* Luis Alfredo Negron Naldos         A01793865\n",
        "\n",
        "#### <p style='text-align: right;'> 4 de Junio del 2023 </p>"
      ],
      "metadata": {
        "id": "ya5H_nAoTjiE"
      }
    },
    {
      "cell_type": "markdown",
      "source": [
        "#Instrucciones\n",
        "1- Si es necesario, estudia el código y el video que explica el uso de Keras para el diseño, entrenamiento y verificación de redes neuronales, los cuales están disponibles como materiales de aprendizaje en este módulo.\n",
        "\n",
        "2-Crea un Notebook en Google Colab y sube el dataset que usaste para resolver la detección de peatones con SVM. De preferencia, incorpora el uso de GPU en tu Notebook.\n",
        "\n",
        "3-Diseña una red neuronal adecuada para detectar peatones. Toma en cuenta el número de entradas de la red, crea un número adecuado de capas ocultas y crea una capa de salida con una sola neurona con salida binaria.\n",
        "\n",
        "4-Si es el caso, reporta como bibliografía otras fuentes de información que consultaste para llegar a la solución.\n",
        "\n",
        "5-Crea un video, con una duración menor a dos minutos, en donde expliques los parámetros de la red neuronal y del entrenamiento que permitieron llegar a una solución correcta. Asegúrate de obtener un score de al menos 90%. Sube tu video a tu canal de YouTube y guarda el enlace.\n",
        "\n",
        "6-A manera de reporte, crea un documento que incluya tu script con los comentarios y el enlace de tu video en YouTube. Tanto el código como los comentarios son importantes para el documento."
      ],
      "metadata": {
        "id": "vYfBzPd3UeLs"
      }
    },
    {
      "cell_type": "markdown",
      "source": [
        "obtenemos la base de datos con imagenes de peatones y sin peatones que se uso en la actividad 3.1\n",
        "\n",
        "https://www.kaggle.com/datasets/tejasvdante/pedestrian-no-pedestrian"
      ],
      "metadata": {
        "id": "21LZKIKuU2SO"
      }
    },
    {
      "cell_type": "markdown",
      "source": [
        "#Cargamos Bibliotecas necesarias"
      ],
      "metadata": {
        "id": "Y-JHlL7-W4Ph"
      }
    },
    {
      "cell_type": "code",
      "execution_count": 1,
      "metadata": {
        "id": "ymD9JMVdTi3D"
      },
      "outputs": [],
      "source": [
        "import numpy as np\n",
        "import matplotlib.pyplot as plt\n",
        "import keras\n",
        "from keras.datasets import cifar10\n",
        "from keras.models import Sequential\n",
        "from keras.layers import Dense\n",
        "from keras.optimizers import Adam\n",
        "from keras.utils.np_utils import to_categorical\n",
        "import random\n",
        "     \n",
        "from keras.layers import Dropout\n",
        "from keras.layers import Flatten\n",
        "from keras.layers.convolutional import Conv2D\n",
        "from keras.layers.convolutional import MaxPooling2D\n",
        "     \n",
        "from keras.models import Model\n",
        "\n",
        "import glob"
      ]
    },
    {
      "cell_type": "markdown",
      "source": [
        "#Se carga el dataset y se verifica el número de muestras en cada set"
      ],
      "metadata": {
        "id": "4G2VvEdAXB10"
      }
    },
    {
      "cell_type": "code",
      "source": [
        "pedestrian = glob.glob(\"data_pedestrian/pedestrian/*.jpg\")\n",
        "no_pedestrian = glob.glob(\"data_pedestrian/no-pedestrian/*.jpg\")"
      ],
      "metadata": {
        "id": "eU6TQjt5XIOG"
      },
      "execution_count": 2,
      "outputs": []
    },
    {
      "cell_type": "markdown",
      "source": [
        "Obtenemos el numero de imagenes que contienen peatones y las que no contienen peatones"
      ],
      "metadata": {
        "id": "uIX4VrrmXd6B"
      }
    },
    {
      "cell_type": "code",
      "execution_count": 3,
      "metadata": {
        "id": "4yoXQCKbMgyK",
        "outputId": "c9c534ac-bdb5-4511-97cc-4479cc90cff9",
        "colab": {
          "base_uri": "https://localhost:8080/"
        }
      },
      "outputs": [
        {
          "output_type": "execute_result",
          "data": {
            "text/plain": [
              "0"
            ]
          },
          "metadata": {},
          "execution_count": 3
        }
      ],
      "source": [
        "len(pedestrian)"
      ]
    },
    {
      "cell_type": "code",
      "execution_count": null,
      "metadata": {
        "id": "4n-S07nIMgyL",
        "outputId": "c0f66045-ce0f-4f98-aeed-a6748c8db909"
      },
      "outputs": [
        {
          "data": {
            "text/plain": [
              "631"
            ]
          },
          "execution_count": 5,
          "metadata": {},
          "output_type": "execute_result"
        }
      ],
      "source": [
        "len(no_pedestrian)"
      ]
    },
    {
      "cell_type": "markdown",
      "source": [
        "Es un problema con clases balanceadas, ya que hay el mismo número de imagenes con y sin peatones"
      ],
      "metadata": {
        "id": "CS9hZuAwUA4d"
      }
    },
    {
      "cell_type": "markdown",
      "source": [
        "#preprocesamiento imagenes\n",
        "Formateamos las imagenes a escala de grises, un tamaño comun, y agrupamos los datos"
      ],
      "metadata": {
        "id": "LfvYkAEzYngv"
      }
    },
    {
      "cell_type": "markdown",
      "source": [
        "Tamaño comun"
      ],
      "metadata": {
        "id": "nK9Dtv4DYxHN"
      }
    },
    {
      "cell_type": "code",
      "source": [
        "Pedestrian_Formated = []\n",
        "NoPedestrian_Formated = []\n",
        "\n",
        "width = 400 \n",
        "height = 250\n",
        "dim = (width, height)\n",
        "\n",
        "for i in pedestrian:\n",
        "    img_color = mpimg.imread(i)\n",
        "    #convert to grayscale\n",
        "    img_gray = cv2.cvtColor(img_color,cv2.COLOR_BGR2GRAY)\n",
        "    #resize image\n",
        "    img_resized = cv2.resize(img_gray, dim, interpolation = cv2.INTER_AREA)\n",
        "    \n",
        "    #add the new image to a new array\n",
        "    Pedestrian_Formated.append(img_resized)\n",
        "\n",
        "for i in no_pedestrian:\n",
        "    img_color = mpimg.imread(i)\n",
        "    #convert to grayscale\n",
        "    img_gray = cv2.cvtColor(img_color,cv2.COLOR_BGR2GRAY)\n",
        "    #resize image\n",
        "    img_resized = cv2.resize(img_gray, dim, interpolation = cv2.INTER_AREA)\n",
        "    \n",
        "    #add the new image to a new array\n",
        "    NoPedestrian_Formated.append(img_resized)"
      ],
      "metadata": {
        "id": "mdm8mJtYYzOl"
      },
      "execution_count": null,
      "outputs": []
    },
    {
      "cell_type": "markdown",
      "source": [],
      "metadata": {
        "id": "uFbn1HS9daro"
      }
    }
  ]
}