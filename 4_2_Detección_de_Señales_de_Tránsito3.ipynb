{
  "nbformat": 4,
  "nbformat_minor": 0,
  "metadata": {
    "colab": {
      "provenance": [],
      "gpuType": "T4",
      "include_colab_link": true
    },
    "kernelspec": {
      "name": "python3",
      "display_name": "Python 3"
    },
    "language_info": {
      "name": "python"
    },
    "accelerator": "GPU"
  },
  "cells": [
    {
      "cell_type": "markdown",
      "metadata": {
        "id": "view-in-github",
        "colab_type": "text"
      },
      "source": [
        "<a href=\"https://colab.research.google.com/github/aalr007/NavegacionAutonoma/blob/main/4_2_Detecci%C3%B3n_de_Se%C3%B1ales_de_Tr%C3%A1nsito3.ipynb\" target=\"_parent\"><img src=\"https://colab.research.google.com/assets/colab-badge.svg\" alt=\"Open In Colab\"/></a>"
      ]
    },
    {
      "cell_type": "markdown",
      "source": [
        "# <center> ***Navegación Autónoma*** </center>\n",
        "## <center> ***Actividad 4.2 - Detección de Señales de Tránsito*** </center>\n",
        "\n",
        "### Profesor: Dr. David Antonio Torres\n",
        "### Alumnos: \n",
        "* Andrei García Torres               A01793891\n",
        "* Aurelio Antonio Lozano Rábago      A01081266\n",
        "* Jorge Luis Tapia Peñaloza          A01793013\n",
        "* Luis Alfredo Negron Naldos         A01793865\n",
        "\n",
        "#### <p style='text-align: right;'> 11 de Junio del 2023 </p>"
      ],
      "metadata": {
        "id": "znbCd227raWG"
      }
    },
    {
      "cell_type": "code",
      "execution_count": 1,
      "metadata": {
        "id": "RZTJ9g4erY1p"
      },
      "outputs": [],
      "source": [
        "import numpy as np\n",
        "import matplotlib.pyplot as plt\n",
        "import keras\n",
        "from keras.datasets import cifar10\n",
        "from keras.models import Sequential\n",
        "from keras.layers import Dense\n",
        "from keras.optimizers import Adam\n",
        "from keras.utils.np_utils import to_categorical\n",
        "import random\n",
        "     \n",
        "from keras.layers import Dropout\n",
        "from keras.layers import Flatten\n",
        "from keras.layers.convolutional import Conv2D\n",
        "from keras.layers.convolutional import MaxPooling2D\n",
        "     \n",
        "from keras.models import Model\n",
        "\n",
        "import matplotlib.image as mpimg\n",
        "import seaborn as sns\n",
        "import cv2\n",
        "\n",
        "from google.colab import drive\n",
        "import glob"
      ]
    },
    {
      "cell_type": "markdown",
      "source": [
        "#Se carga el dataset y se verifica el número de muestras en cada set"
      ],
      "metadata": {
        "id": "4G2VvEdAXB10"
      }
    },
    {
      "cell_type": "code",
      "source": [
        "drive.mount('/content/drive',force_remount=True)\n",
        "file_path = '/content/drive/MyDrive/GTRA/*'\n"
      ],
      "metadata": {
        "id": "eU6TQjt5XIOG",
        "colab": {
          "base_uri": "https://localhost:8080/"
        },
        "outputId": "0d1e8377-66b6-4a26-c694-55e3a4fee64e"
      },
      "execution_count": 2,
      "outputs": [
        {
          "output_type": "stream",
          "name": "stdout",
          "text": [
            "Mounted at /content/drive\n"
          ]
        }
      ]
    },
    {
      "cell_type": "code",
      "source": [
        "ID0 = glob.glob('/content/drive/MyDrive/GTRA/0/*')\n",
        "ID1 = glob.glob('/content/drive/MyDrive/GTRA/1/*')\n",
        "ID2 = glob.glob('/content/drive/MyDrive/GTRA/2/*')\n",
        "ID3 = glob.glob('/content/drive/MyDrive/GTRA/3/*')\n",
        "ID4 = glob.glob('/content/drive/MyDrive/GTRA/4/*')\n",
        "ID5 = glob.glob('/content/drive/MyDrive/GTRA/5/*')\n",
        "ID6 = glob.glob('/content/drive/MyDrive/GTRA/6/*')\n",
        "ID7 = glob.glob('/content/drive/MyDrive/GTRA/7/*')\n",
        "ID8 = glob.glob('/content/drive/MyDrive/GTRA/8/*')\n",
        "ID9 = glob.glob('/content/drive/MyDrive/GTRA/9/*')\n",
        "ID10 = glob.glob('/content/drive/MyDrive/GTRA/10/*')\n",
        "ID11 = glob.glob('/content/drive/MyDrive/GTRA/11/*')\n",
        "ID12 = glob.glob('/content/drive/MyDrive/GTRA/12/*')\n",
        "ID13 = glob.glob('/content/drive/MyDrive/GTRA/13/*')\n",
        "ID14 = glob.glob('/content/drive/MyDrive/GTRA/14/*')\n",
        "ID15 = glob.glob('/content/drive/MyDrive/GTRA/15/*')\n",
        "ID16 = glob.glob('/content/drive/MyDrive/GTRA/16/*')\n",
        "ID17 = glob.glob('/content/drive/MyDrive/GTRA/17/*')\n",
        "ID18 = glob.glob('/content/drive/MyDrive/GTRA/18/*')\n",
        "ID19 = glob.glob('/content/drive/MyDrive/GTRA/19/*')\n",
        "ID20 = glob.glob('/content/drive/MyDrive/GTRA/20/*')\n",
        "ID21 = glob.glob('/content/drive/MyDrive/GTRA/21/*')\n",
        "ID22 = glob.glob('/content/drive/MyDrive/GTRA/22/*')\n",
        "ID23 = glob.glob('/content/drive/MyDrive/GTRA/23/*')\n",
        "ID24 = glob.glob('/content/drive/MyDrive/GTRA/24/*')\n",
        "ID25 = glob.glob('/content/drive/MyDrive/GTRA/25/*')\n",
        "ID26 = glob.glob('/content/drive/MyDrive/GTRA/26/*')\n",
        "ID27 = glob.glob('/content/drive/MyDrive/GTRA/27/*')\n",
        "ID28 = glob.glob('/content/drive/MyDrive/GTRA/28/*')\n",
        "ID29 = glob.glob('/content/drive/MyDrive/GTRA/29/*')\n",
        "ID30 = glob.glob('/content/drive/MyDrive/GTRA/30/*')\n",
        "ID31 = glob.glob('/content/drive/MyDrive/GTRA/31/*')\n",
        "ID32 = glob.glob('/content/drive/MyDrive/GTRA/32/*')\n",
        "ID33 = glob.glob('/content/drive/MyDrive/GTRA/33/*')\n",
        "ID34 = glob.glob('/content/drive/MyDrive/GTRA/34/*')\n",
        "ID35 = glob.glob('/content/drive/MyDrive/GTRA/35/*')\n",
        "ID36 = glob.glob('/content/drive/MyDrive/GTRA/36/*')\n",
        "ID37 = glob.glob('/content/drive/MyDrive/GTRA/37/*')\n",
        "ID38 = glob.glob('/content/drive/MyDrive/GTRA/38/*')\n",
        "ID39 = glob.glob('/content/drive/MyDrive/GTRA/39/*')\n",
        "ID40 = glob.glob('/content/drive/MyDrive/GTRA/40/*')\n",
        "ID41 = glob.glob('/content/drive/MyDrive/GTRA/41/*')\n",
        "ID42 = glob.glob('/content/drive/MyDrive/GTRA/42/*')"
      ],
      "metadata": {
        "id": "UOkdfgq6n-Wo"
      },
      "execution_count": 3,
      "outputs": []
    },
    {
      "cell_type": "code",
      "source": [
        "print(len(ID0))\n",
        "print(len(ID1))\n",
        "print(len(ID2))\n",
        "print(len(ID3))\n",
        "print(len(ID4))\n",
        "print(len(ID5))\n",
        "print(len(ID6))\n",
        "print(len(ID7))\n",
        "print(len(ID8))\n",
        "print(len(ID9))\n",
        "print(len(ID10))\n",
        "print(len(ID11))\n",
        "print(len(ID12))\n",
        "print(len(ID13))\n",
        "print(len(ID14))\n",
        "print(len(ID15))\n",
        "print(len(ID16))\n",
        "print(len(ID17))\n",
        "print(len(ID18))\n",
        "print(len(ID19))\n",
        "print(len(ID20))\n",
        "print(len(ID21))\n",
        "print(len(ID22))\n",
        "print(len(ID23))\n",
        "print(len(ID24))\n",
        "print(len(ID25))\n",
        "print(len(ID26))\n",
        "print(len(ID27))\n",
        "print(len(ID28))\n",
        "print(len(ID29))\n",
        "print(len(ID30))\n",
        "print(len(ID31))\n",
        "print(len(ID32))\n",
        "print(len(ID33))\n",
        "print(len(ID34))\n",
        "print(len(ID35))\n",
        "print(len(ID36))\n",
        "print(len(ID37))\n",
        "print(len(ID38))\n",
        "print(len(ID39))\n",
        "print(len(ID40))\n",
        "print(len(ID41))\n",
        "print(len(ID42))"
      ],
      "metadata": {
        "colab": {
          "base_uri": "https://localhost:8080/"
        },
        "id": "2MUDb3DwMOJG",
        "outputId": "0c8b6ae7-6ca1-4b21-eb68-3845b263fa3f"
      },
      "execution_count": 4,
      "outputs": [
        {
          "output_type": "stream",
          "name": "stdout",
          "text": [
            "150\n",
            "150\n",
            "150\n",
            "150\n",
            "150\n",
            "150\n",
            "150\n",
            "150\n",
            "150\n",
            "150\n",
            "150\n",
            "150\n",
            "150\n",
            "150\n",
            "150\n",
            "150\n",
            "150\n",
            "150\n",
            "150\n",
            "150\n",
            "150\n",
            "150\n",
            "150\n",
            "150\n",
            "150\n",
            "150\n",
            "150\n",
            "150\n",
            "150\n",
            "150\n",
            "150\n",
            "150\n",
            "150\n",
            "150\n",
            "150\n",
            "150\n",
            "150\n",
            "150\n",
            "150\n",
            "150\n",
            "150\n",
            "150\n",
            "150\n"
          ]
        }
      ]
    },
    {
      "cell_type": "markdown",
      "source": [
        "Cambiamos el tamaño de las imagenes para que todas sean del mismo tamaño."
      ],
      "metadata": {
        "id": "__ubwhzpoJJE"
      }
    },
    {
      "cell_type": "code",
      "source": [
        "size = (25, 25)\n",
        "IList = [ID0, ID1,ID2, ID3, ID4, ID5, ID6,ID7,ID8,ID9,ID10,ID11,ID12,ID13,ID14,ID15,ID16,ID17,ID18,ID19,ID20,ID21,ID22,ID23,ID24,ID25,ID26,ID27,ID28,ID29,ID30,ID31,ID32,ID33,ID34,ID35,ID26,ID37,ID38,ID39,ID40,ID41,ID42]\n",
        "X = []\n",
        "\n",
        "for sublist in IList:\n",
        "    images = [cv2.resize(plt.imread(img_path), size) for img_path in sublist]\n",
        "    X.extend(images)\n",
        "\n",
        "X = np.array(X)"
      ],
      "metadata": {
        "id": "NcMYkwyvu9DD"
      },
      "execution_count": 5,
      "outputs": []
    },
    {
      "cell_type": "code",
      "source": [
        "print(X.shape)"
      ],
      "metadata": {
        "colab": {
          "base_uri": "https://localhost:8080/"
        },
        "id": "q9_3zeWUt9Cx",
        "outputId": "831688de-ee16-4815-873d-0e84950abb17"
      },
      "execution_count": 7,
      "outputs": [
        {
          "output_type": "stream",
          "name": "stdout",
          "text": [
            "(6450, 25, 25, 3)\n"
          ]
        }
      ]
    },
    {
      "cell_type": "markdown",
      "source": [
        "Convertir la lista de listas en un arreglo unidimensional"
      ],
      "metadata": {
        "id": "JRaumpRvrdlv"
      }
    },
    {
      "cell_type": "markdown",
      "source": [
        "Imprimimos una imagen para checar"
      ],
      "metadata": {
        "id": "GITDyVUtoSQj"
      }
    },
    {
      "cell_type": "markdown",
      "source": [
        "Creamos las etiquetas de la salida"
      ],
      "metadata": {
        "id": "oXjN66O8oVRF"
      }
    },
    {
      "cell_type": "code",
      "source": [
        "Y0 = [0] * len(ID0)\n",
        "Y1 = [1] * len(ID1)\n",
        "Y2 = [2] * len(ID2)\n",
        "Y3 = [3] * len(ID3)\n",
        "Y4 = [4] * len(ID4)\n",
        "Y5 = [5] * len(ID5)\n",
        "Y6 = [6] * len(ID6)\n",
        "Y7 = [7] * len(ID7)\n",
        "Y8 = [8] * len(ID8)\n",
        "Y9 = [9] * len(ID9)\n",
        "Y10 = [10] * len(ID10)\n",
        "Y11 = [11] * len(ID11)\n",
        "Y12 = [12] * len(ID12)\n",
        "Y13 = [13] * len(ID13)\n",
        "Y14 = [14] * len(ID14)\n",
        "Y15 = [15] * len(ID15)\n",
        "Y16 = [16] * len(ID16)\n",
        "Y17 = [17] * len(ID17)\n",
        "Y18 = [18] * len(ID18)\n",
        "Y19 = [19] * len(ID19)\n",
        "Y20 = [20] * len(ID20)\n",
        "Y21 = [21] * len(ID21)\n",
        "Y22 = [22] * len(ID22)\n",
        "Y23 = [23] * len(ID23)\n",
        "Y24 = [24] * len(ID24)\n",
        "Y25 = [25] * len(ID25)\n",
        "Y26 = [26] * len(ID26)\n",
        "Y27 = [27] * len(ID27)\n",
        "Y28 = [28] * len(ID28)\n",
        "Y29 = [29] * len(ID29)\n",
        "Y30 = [30] * len(ID30)\n",
        "Y31 = [31] * len(ID31)\n",
        "Y32 = [32] * len(ID32)\n",
        "Y33 = [33] * len(ID33)\n",
        "Y34 = [34] * len(ID34)\n",
        "Y35 = [35] * len(ID35)\n",
        "Y36 = [36] * len(ID36)\n",
        "Y37 = [37] * len(ID37)\n",
        "Y38 = [38] * len(ID38)\n",
        "Y39 = [39] * len(ID39)\n",
        "Y40 = [40] * len(ID40)\n",
        "Y41 = [41] * len(ID41)\n",
        "Y42 = [42] * len(ID42)"
      ],
      "metadata": {
        "id": "bNO_BWrNLABn"
      },
      "execution_count": 8,
      "outputs": []
    },
    {
      "cell_type": "markdown",
      "source": [
        "Hacemos one hot encoding para cada salida"
      ],
      "metadata": {
        "id": "YD1EcHnJoYSz"
      }
    },
    {
      "cell_type": "code",
      "source": [
        "Y = to_categorical (Y0+Y1+Y2+Y3+Y4+Y5+Y6+Y7+Y8+Y9+Y10+Y11+Y12+Y13+Y14+Y15+Y16+Y17+Y18+Y19+Y20+Y21+Y22+Y23+Y24+Y25+Y26+Y27+Y28+Y29+Y30+Y31+Y32+Y33+Y34+Y35+Y36+Y37+Y38+Y39+Y40+Y41+Y42,43)\n",
        "Y = np.array(Y)"
      ],
      "metadata": {
        "id": "Ft-I9XsfoGuA"
      },
      "execution_count": 9,
      "outputs": []
    },
    {
      "cell_type": "code",
      "source": [
        "print(Y.shape)"
      ],
      "metadata": {
        "colab": {
          "base_uri": "https://localhost:8080/"
        },
        "id": "nvCuy5xbvraR",
        "outputId": "8fc190f8-27a8-4901-9288-ad9bbfbf458f"
      },
      "execution_count": 10,
      "outputs": [
        {
          "output_type": "stream",
          "name": "stdout",
          "text": [
            "(6450, 43)\n"
          ]
        }
      ]
    },
    {
      "cell_type": "markdown",
      "source": [
        "Se Define el modelo"
      ],
      "metadata": {
        "id": "tDregPNJp3O0"
      }
    },
    {
      "cell_type": "code",
      "source": [
        "model = Sequential()\n",
        "\n",
        "model.add(Conv2D(filters = 32, kernel_size = (3, 3), input_shape = X.shape[1:], activation='relu', padding='same'))\n",
        "model.add(Conv2D(filters = 32, kernel_size = (3, 3), activation='relu'))\n",
        "model.add(MaxPooling2D(pool_size=(2, 2)))\n",
        "model.add(Dropout(0.5))\n",
        "#model.add(AveragePooling2D())\n",
        "\n",
        "model.add(Conv2D(filters = 64, kernel_size = (3, 3), activation='relu', padding='same'))\n",
        "model.add(Conv2D(filters = 64, kernel_size = (3, 3), activation='relu'))\n",
        "model.add(MaxPooling2D(pool_size=(2, 2)))\n",
        "model.add(Dropout(0.5))\n",
        "\n",
        "model.add(Conv2D(filters = 64, kernel_size = (3, 3), activation='relu', padding='same'))\n",
        "model.add(Conv2D(filters = 64, kernel_size = (3, 3), activation='relu'))\n",
        "model.add(MaxPooling2D(pool_size=(2, 2)))\n",
        "model.add(Dropout(0.5))\n",
        "\n",
        "model.add(Flatten())\n",
        "model.add(Dense(units = 512, activation='relu'))\n",
        "model.add(Dropout(0.5))\n",
        "model.add(Dense(units = 512, activation='relu'))\n",
        "model.add(Dropout(0.5))\n",
        "model.add(Dense(units = 43, activation='softmax'))\n",
        "\n",
        "model.compile(Adam(lr = 0.001), loss='categorical_crossentropy', metrics=['accuracy'])\n",
        "print(model.summary())"
      ],
      "metadata": {
        "colab": {
          "base_uri": "https://localhost:8080/"
        },
        "id": "nMu1Hr4Zp5Au",
        "outputId": "7037db39-918f-45fa-84fb-7557f2d6676f"
      },
      "execution_count": 27,
      "outputs": [
        {
          "output_type": "stream",
          "name": "stdout",
          "text": [
            "Model: \"sequential_1\"\n",
            "_________________________________________________________________\n",
            " Layer (type)                Output Shape              Param #   \n",
            "=================================================================\n",
            " conv2d_6 (Conv2D)           (None, 25, 25, 32)        896       \n",
            "                                                                 \n",
            " conv2d_7 (Conv2D)           (None, 23, 23, 32)        9248      \n",
            "                                                                 \n",
            " max_pooling2d_3 (MaxPooling  (None, 11, 11, 32)       0         \n",
            " 2D)                                                             \n",
            "                                                                 \n",
            " dropout_4 (Dropout)         (None, 11, 11, 32)        0         \n",
            "                                                                 \n",
            " conv2d_8 (Conv2D)           (None, 11, 11, 64)        18496     \n",
            "                                                                 \n",
            " conv2d_9 (Conv2D)           (None, 9, 9, 64)          36928     \n",
            "                                                                 \n",
            " max_pooling2d_4 (MaxPooling  (None, 4, 4, 64)         0         \n",
            " 2D)                                                             \n",
            "                                                                 \n",
            " dropout_5 (Dropout)         (None, 4, 4, 64)          0         \n",
            "                                                                 \n",
            " conv2d_10 (Conv2D)          (None, 4, 4, 64)          36928     \n",
            "                                                                 \n",
            " conv2d_11 (Conv2D)          (None, 2, 2, 64)          36928     \n",
            "                                                                 \n",
            " max_pooling2d_5 (MaxPooling  (None, 1, 1, 64)         0         \n",
            " 2D)                                                             \n",
            "                                                                 \n",
            " dropout_6 (Dropout)         (None, 1, 1, 64)          0         \n",
            "                                                                 \n",
            " flatten_1 (Flatten)         (None, 64)                0         \n",
            "                                                                 \n",
            " dense_2 (Dense)             (None, 512)               33280     \n",
            "                                                                 \n",
            " dropout_7 (Dropout)         (None, 512)               0         \n",
            "                                                                 \n",
            " dense_3 (Dense)             (None, 512)               262656    \n",
            "                                                                 \n",
            " dropout_8 (Dropout)         (None, 512)               0         \n",
            "                                                                 \n",
            " dense_4 (Dense)             (None, 43)                22059     \n",
            "                                                                 \n",
            "=================================================================\n",
            "Total params: 457,419\n",
            "Trainable params: 457,419\n",
            "Non-trainable params: 0\n",
            "_________________________________________________________________\n",
            "None\n"
          ]
        },
        {
          "output_type": "stream",
          "name": "stderr",
          "text": [
            "/usr/local/lib/python3.10/dist-packages/keras/optimizers/legacy/adam.py:117: UserWarning: The `lr` argument is deprecated, use `learning_rate` instead.\n",
            "  super().__init__(name, **kwargs)\n"
          ]
        }
      ]
    },
    {
      "cell_type": "markdown",
      "source": [
        "Se separa un 10% del set de entrenamiento para fines de validación"
      ],
      "metadata": {
        "id": "OQE6AJk8wO-N"
      }
    },
    {
      "cell_type": "code",
      "source": [
        "# Obtener el índice del punto de corte para separar los datos de entrenamiento y validación\n",
        "split_index = int(len(X) * 0.9)\n",
        "\n",
        "# Separar los datos de entrenamiento y validación\n",
        "X_train = X[:split_index]\n",
        "y_train = Y[:split_index]\n",
        "X_val = X[split_index:]\n",
        "y_val = Y[split_index:]"
      ],
      "metadata": {
        "id": "qncBXjyl0nP6"
      },
      "execution_count": 28,
      "outputs": []
    },
    {
      "cell_type": "code",
      "source": [
        "history = model.fit(X_train, y_train, validation_split=0.1, epochs = 40, batch_size = 50, verbose = 1, shuffle = True)"
      ],
      "metadata": {
        "colab": {
          "base_uri": "https://localhost:8080/"
        },
        "id": "uJ0cpQJDwM5y",
        "outputId": "4c5a4e5c-b5ba-4ee3-d1c8-a75cb55b5131"
      },
      "execution_count": 29,
      "outputs": [
        {
          "output_type": "stream",
          "name": "stdout",
          "text": [
            "Epoch 1/40\n",
            "105/105 [==============================] - 21s 179ms/step - loss: 3.6069 - accuracy: 0.0331 - val_loss: 5.0757 - val_accuracy: 0.0000e+00\n",
            "Epoch 2/40\n",
            "105/105 [==============================] - 19s 177ms/step - loss: 3.3725 - accuracy: 0.0547 - val_loss: 7.7154 - val_accuracy: 0.0000e+00\n",
            "Epoch 3/40\n",
            "105/105 [==============================] - 19s 185ms/step - loss: 3.1411 - accuracy: 0.0641 - val_loss: 10.5633 - val_accuracy: 0.0000e+00\n",
            "Epoch 4/40\n",
            "105/105 [==============================] - 20s 189ms/step - loss: 2.8260 - accuracy: 0.1269 - val_loss: 14.0092 - val_accuracy: 0.0448\n",
            "Epoch 5/40\n",
            "105/105 [==============================] - 19s 177ms/step - loss: 2.4136 - accuracy: 0.2167 - val_loss: 14.9625 - val_accuracy: 0.0448\n",
            "Epoch 6/40\n",
            "105/105 [==============================] - 18s 175ms/step - loss: 2.1237 - accuracy: 0.2799 - val_loss: 14.7877 - val_accuracy: 0.0448\n",
            "Epoch 7/40\n",
            "105/105 [==============================] - 19s 184ms/step - loss: 1.8812 - accuracy: 0.3438 - val_loss: 16.0638 - val_accuracy: 0.0034\n",
            "Epoch 8/40\n",
            "105/105 [==============================] - 20s 190ms/step - loss: 1.7150 - accuracy: 0.3911 - val_loss: 16.8956 - val_accuracy: 0.0034\n",
            "Epoch 9/40\n",
            "105/105 [==============================] - 19s 177ms/step - loss: 1.5959 - accuracy: 0.4340 - val_loss: 18.5954 - val_accuracy: 0.0000e+00\n",
            "Epoch 10/40\n",
            "105/105 [==============================] - 19s 177ms/step - loss: 1.4617 - accuracy: 0.4707 - val_loss: 17.3969 - val_accuracy: 0.0207\n",
            "Epoch 11/40\n",
            "105/105 [==============================] - 19s 184ms/step - loss: 1.3372 - accuracy: 0.5163 - val_loss: 20.1909 - val_accuracy: 0.0172\n",
            "Epoch 12/40\n",
            "105/105 [==============================] - 20s 190ms/step - loss: 1.2882 - accuracy: 0.5379 - val_loss: 23.4162 - val_accuracy: 0.0430\n",
            "Epoch 13/40\n",
            "105/105 [==============================] - 19s 179ms/step - loss: 1.2154 - accuracy: 0.5572 - val_loss: 18.1852 - val_accuracy: 0.0413\n",
            "Epoch 14/40\n",
            "105/105 [==============================] - 18s 176ms/step - loss: 1.1307 - accuracy: 0.5882 - val_loss: 22.1513 - val_accuracy: 0.0448\n",
            "Epoch 15/40\n",
            "105/105 [==============================] - 20s 187ms/step - loss: 1.0825 - accuracy: 0.6126 - val_loss: 21.0515 - val_accuracy: 0.0430\n",
            "Epoch 16/40\n",
            "105/105 [==============================] - 20s 187ms/step - loss: 1.0466 - accuracy: 0.6309 - val_loss: 24.7959 - val_accuracy: 0.0430\n",
            "Epoch 17/40\n",
            "105/105 [==============================] - 18s 175ms/step - loss: 0.9668 - accuracy: 0.6535 - val_loss: 26.7993 - val_accuracy: 0.0448\n",
            "Epoch 18/40\n",
            "105/105 [==============================] - 19s 177ms/step - loss: 0.9732 - accuracy: 0.6476 - val_loss: 21.5420 - val_accuracy: 0.0430\n",
            "Epoch 19/40\n",
            "105/105 [==============================] - 20s 187ms/step - loss: 0.8837 - accuracy: 0.6780 - val_loss: 21.8375 - val_accuracy: 0.0430\n",
            "Epoch 20/40\n",
            "105/105 [==============================] - 20s 186ms/step - loss: 0.8820 - accuracy: 0.6863 - val_loss: 23.7028 - val_accuracy: 0.0448\n",
            "Epoch 21/40\n",
            "105/105 [==============================] - 19s 177ms/step - loss: 0.8569 - accuracy: 0.7054 - val_loss: 29.9560 - val_accuracy: 0.0448\n",
            "Epoch 22/40\n",
            "105/105 [==============================] - 18s 175ms/step - loss: 0.8244 - accuracy: 0.7117 - val_loss: 21.4174 - val_accuracy: 0.0430\n",
            "Epoch 23/40\n",
            "105/105 [==============================] - 20s 189ms/step - loss: 0.7965 - accuracy: 0.7123 - val_loss: 25.3600 - val_accuracy: 0.0448\n",
            "Epoch 24/40\n",
            "105/105 [==============================] - 19s 184ms/step - loss: 0.7722 - accuracy: 0.7234 - val_loss: 24.4533 - val_accuracy: 0.0448\n",
            "Epoch 25/40\n",
            "105/105 [==============================] - 18s 175ms/step - loss: 0.7507 - accuracy: 0.7330 - val_loss: 30.6650 - val_accuracy: 0.0448\n",
            "Epoch 26/40\n",
            "105/105 [==============================] - 19s 177ms/step - loss: 0.7411 - accuracy: 0.7441 - val_loss: 26.6971 - val_accuracy: 0.0448\n",
            "Epoch 27/40\n",
            "105/105 [==============================] - 20s 193ms/step - loss: 0.7143 - accuracy: 0.7460 - val_loss: 27.3734 - val_accuracy: 0.0448\n",
            "Epoch 28/40\n",
            "105/105 [==============================] - 19s 184ms/step - loss: 0.7252 - accuracy: 0.7533 - val_loss: 26.6514 - val_accuracy: 0.0448\n",
            "Epoch 29/40\n",
            "105/105 [==============================] - 19s 177ms/step - loss: 0.7131 - accuracy: 0.7538 - val_loss: 26.9866 - val_accuracy: 0.0448\n",
            "Epoch 30/40\n",
            "105/105 [==============================] - 19s 178ms/step - loss: 0.6947 - accuracy: 0.7624 - val_loss: 20.2903 - val_accuracy: 0.0448\n",
            "Epoch 31/40\n",
            "105/105 [==============================] - 20s 194ms/step - loss: 0.6543 - accuracy: 0.7735 - val_loss: 24.8229 - val_accuracy: 0.0448\n",
            "Epoch 32/40\n",
            "105/105 [==============================] - 19s 181ms/step - loss: 0.6585 - accuracy: 0.7649 - val_loss: 28.2497 - val_accuracy: 0.0448\n",
            "Epoch 33/40\n",
            "105/105 [==============================] - 18s 176ms/step - loss: 0.6197 - accuracy: 0.7827 - val_loss: 25.7430 - val_accuracy: 0.0448\n",
            "Epoch 34/40\n",
            "105/105 [==============================] - 18s 176ms/step - loss: 0.6030 - accuracy: 0.7877 - val_loss: 26.6242 - val_accuracy: 0.0448\n",
            "Epoch 35/40\n",
            "105/105 [==============================] - 20s 194ms/step - loss: 0.5929 - accuracy: 0.7940 - val_loss: 28.9418 - val_accuracy: 0.0448\n",
            "Epoch 36/40\n",
            "105/105 [==============================] - 19s 180ms/step - loss: 0.5869 - accuracy: 0.7975 - val_loss: 30.5692 - val_accuracy: 0.0448\n",
            "Epoch 37/40\n",
            "105/105 [==============================] - 18s 176ms/step - loss: 0.5704 - accuracy: 0.7996 - val_loss: 35.0458 - val_accuracy: 0.0448\n",
            "Epoch 38/40\n",
            "105/105 [==============================] - 19s 177ms/step - loss: 0.5981 - accuracy: 0.7927 - val_loss: 28.0613 - val_accuracy: 0.0448\n",
            "Epoch 39/40\n",
            "105/105 [==============================] - 21s 197ms/step - loss: 0.5498 - accuracy: 0.8113 - val_loss: 33.1783 - val_accuracy: 0.0448\n",
            "Epoch 40/40\n",
            "105/105 [==============================] - 19s 178ms/step - loss: 0.5589 - accuracy: 0.8109 - val_loss: 32.4354 - val_accuracy: 0.0448\n"
          ]
        }
      ]
    },
    {
      "cell_type": "code",
      "source": [
        "print(X_val.shape)\n",
        "print(y_val.shape)"
      ],
      "metadata": {
        "colab": {
          "base_uri": "https://localhost:8080/"
        },
        "id": "XlOJ_8HzHetd",
        "outputId": "898bfba7-1a10-4006-848f-78f11a05a225"
      },
      "execution_count": 30,
      "outputs": [
        {
          "output_type": "stream",
          "name": "stdout",
          "text": [
            "(645, 25, 25, 3)\n",
            "(645, 43)\n"
          ]
        }
      ]
    },
    {
      "cell_type": "code",
      "source": [
        "scores = model.evaluate(X_val, y_val, verbose=1)\n",
        "print('Test loss:', scores[0])\n",
        "print('Test accuracy:', scores[1])"
      ],
      "metadata": {
        "colab": {
          "base_uri": "https://localhost:8080/"
        },
        "id": "pW0qrFIA0rE9",
        "outputId": "aef2cd65-9dbc-4ed3-a2cc-b2241611b2bb"
      },
      "execution_count": 31,
      "outputs": [
        {
          "output_type": "stream",
          "name": "stdout",
          "text": [
            "21/21 [==============================] - 1s 26ms/step - loss: 36.7280 - accuracy: 0.0000e+00\n",
            "Test loss: 36.727996826171875\n",
            "Test accuracy: 0.0\n"
          ]
        }
      ]
    },
    {
      "cell_type": "code",
      "source": [
        "plt.plot(history.history['loss'])\n",
        "plt.plot(history.history['val_loss'])\n",
        "plt.legend(['loss', 'val_loss'])\n",
        "plt.title('Loss')\n",
        "plt.xlabel('epoch')"
      ],
      "metadata": {
        "colab": {
          "base_uri": "https://localhost:8080/",
          "height": 489
        },
        "id": "oEV_Dyb00zPP",
        "outputId": "114024af-b08a-45c8-a3af-14a010516c5d"
      },
      "execution_count": 32,
      "outputs": [
        {
          "output_type": "execute_result",
          "data": {
            "text/plain": [
              "Text(0.5, 0, 'epoch')"
            ]
          },
          "metadata": {},
          "execution_count": 32
        },
        {
          "output_type": "display_data",
          "data": {
            "text/plain": [
              "<Figure size 640x480 with 1 Axes>"
            ],
            "image/png": "[encoded data removed]"
          },
          "metadata": {}
        }
      ]
    },
    {
      "cell_type": "code",
      "source": [
        "plt.plot(history.history['accuracy'])\n",
        "plt.plot(history.history['val_accuracy'])\n",
        "plt.legend(['acc', 'val_acc'])\n",
        "plt.title('Accuracy')\n",
        "plt.xlabel('epoch')"
      ],
      "metadata": {
        "colab": {
          "base_uri": "https://localhost:8080/",
          "height": 489
        },
        "id": "0QnI07ib04f0",
        "outputId": "7ef6828d-3eb5-4c92-d051-7759306f84da"
      },
      "execution_count": 33,
      "outputs": [
        {
          "output_type": "execute_result",
          "data": {
            "text/plain": [
              "Text(0.5, 0, 'epoch')"
            ]
          },
          "metadata": {},
          "execution_count": 33
        },
        {
          "output_type": "display_data",
          "data": {
            "text/plain": [
              "<Figure size 640x480 with 1 Axes>"
            ],
            "image/png": "[encoded data removed]"
          },
          "metadata": {}
        }
      ]
    },
    {
      "cell_type": "code",
      "source": [
        "import cv2\n",
        "import glob\n",
        "import matplotlib.pyplot as plt\n",
        "\n",
        "TstImg = glob.glob('/content/drive/MyDrive/GTRA/Test/*')\n",
        "TstImg = ID0[0]  # Selecciona la primera imagen de la lista\n",
        "\n",
        "img_arr = cv2.imread(TstImg)  # Carga la imagen utilizando cv2.imread\n",
        "img_rs = cv2.resize(img_arr, (25, 25))  # Redimensiona la imagen a 25x25\n",
        "img_dim = np.expand_dims(img_rs, axis=0)  # Agrega una dimensión adicional\n",
        "\n",
        "plt.imshow(img_rs)\n",
        "plt.show()"
      ],
      "metadata": {
        "colab": {
          "base_uri": "https://localhost:8080/",
          "height": 430
        },
        "id": "xH7qpCSW1H06",
        "outputId": "4468be33-752b-48de-fb6d-480b7f29ac30"
      },
      "execution_count": 40,
      "outputs": [
        {
          "output_type": "display_data",
          "data": {
            "text/plain": [
              "<Figure size 640x480 with 1 Axes>"
            ],
            "image/png": "[encoded data removed]"
          },
          "metadata": {}
        }
      ]
    },
    {
      "cell_type": "code",
      "source": [
        "print(img_dim.shape)"
      ],
      "metadata": {
        "colab": {
          "base_uri": "https://localhost:8080/"
        },
        "id": "d4_JJR0OMKqb",
        "outputId": "b98bf78e-9247-4b9d-c1fe-8668ab10b0e3"
      },
      "execution_count": 41,
      "outputs": [
        {
          "output_type": "stream",
          "name": "stdout",
          "text": [
            "(1, 25, 25, 3)\n"
          ]
        }
      ]
    },
    {
      "cell_type": "code",
      "source": [
        "prediction = np.argmax(model.predict(img_dim), axis=-1)\n",
        "print(\"objeto:\", str(prediction))"
      ],
      "metadata": {
        "colab": {
          "base_uri": "https://localhost:8080/"
        },
        "id": "5WPn5n2w1G52",
        "outputId": "497d1c66-1d95-484f-bed0-e9578afd834e"
      },
      "execution_count": 42,
      "outputs": [
        {
          "output_type": "stream",
          "name": "stdout",
          "text": [
            "1/1 [==============================] - 0s 24ms/step\n",
            "objeto: [0]\n"
          ]
        }
      ]
    }
  ]
}