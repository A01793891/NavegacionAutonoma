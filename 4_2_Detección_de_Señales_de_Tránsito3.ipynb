{
  "nbformat": 4,
  "nbformat_minor": 0,
  "metadata": {
    "colab": {
      "provenance": [],
      "gpuType": "T4",
      "include_colab_link": true
    },
    "kernelspec": {
      "name": "python3",
      "display_name": "Python 3"
    },
    "language_info": {
      "name": "python"
    },
    "accelerator": "GPU"
  },
  "cells": [
    {
      "cell_type": "markdown",
      "metadata": {
        "id": "view-in-github",
        "colab_type": "text"
      },
      "source": [
        "<a href=\"https://colab.research.google.com/github/aalr007/NavegacionAutonoma/blob/main/4_2_Detecci%C3%B3n_de_Se%C3%B1ales_de_Tr%C3%A1nsito3.ipynb\" target=\"_parent\"><img src=\"https://colab.research.google.com/assets/colab-badge.svg\" alt=\"Open In Colab\"/></a>"
      ]
    },
    {
      "cell_type": "markdown",
      "source": [
        "# <center> ***Navegación Autónoma*** </center>\n",
        "## <center> ***Actividad 4.2 - Detección de Señales de Tránsito*** </center>\n",
        "\n",
        "### Profesor: Dr. David Antonio Torres\n",
        "### Alumnos: \n",
        "* Andrei García Torres               A01793891\n",
        "* Aurelio Antonio Lozano Rábago      A01081266\n",
        "* Jorge Luis Tapia Peñaloza          A01793013\n",
        "* Luis Alfredo Negron Naldos         A01793865\n",
        "\n",
        "#### <p style='text-align: right;'> 11 de Junio del 2023 </p>"
      ],
      "metadata": {
        "id": "znbCd227raWG"
      }
    },
    {
      "cell_type": "code",
      "execution_count": 24,
      "metadata": {
        "id": "RZTJ9g4erY1p"
      },
      "outputs": [],
      "source": [
        "import numpy as np\n",
        "import matplotlib.pyplot as plt\n",
        "import keras\n",
        "from keras.datasets import cifar10\n",
        "from keras.models import Sequential\n",
        "from keras.layers import Dense\n",
        "from keras.optimizers import Adam\n",
        "from keras.utils.np_utils import to_categorical\n",
        "import random\n",
        "     \n",
        "from keras.layers import Dropout\n",
        "from keras.layers import Flatten\n",
        "from keras.layers.convolutional import Conv2D\n",
        "from keras.layers.convolutional import MaxPooling2D\n",
        "from keras.layers.convolutional import AveragePooling2D\n",
        "     \n",
        "from keras.models import Model\n",
        "\n",
        "import matplotlib.image as mpimg\n",
        "import seaborn as sns\n",
        "import cv2\n",
        "\n",
        "from google.colab import drive\n",
        "import glob"
      ]
    },
    {
      "cell_type": "markdown",
      "source": [
        "#Se carga el dataset y se verifica el número de muestras en cada set"
      ],
      "metadata": {
        "id": "4G2VvEdAXB10"
      }
    },
    {
      "cell_type": "code",
      "source": [
        "drive.mount('/content/drive',force_remount=True)\n",
        "file_path = '/content/drive/MyDrive/GTRA/*'\n"
      ],
      "metadata": {
        "id": "eU6TQjt5XIOG",
        "colab": {
          "base_uri": "https://localhost:8080/"
        },
        "outputId": "23a83155-14a5-491f-abea-0f239f646f26"
      },
      "execution_count": 2,
      "outputs": [
        {
          "output_type": "stream",
          "name": "stdout",
          "text": [
            "Mounted at /content/drive\n"
          ]
        }
      ]
    },
    {
      "cell_type": "code",
      "source": [
        "ID0 = glob.glob('/content/drive/MyDrive/GTRA/0/*')\n",
        "ID1 = glob.glob('/content/drive/MyDrive/GTRA/1/*')\n",
        "ID2 = glob.glob('/content/drive/MyDrive/GTRA/2/*')\n",
        "ID3 = glob.glob('/content/drive/MyDrive/GTRA/3/*')\n",
        "ID4 = glob.glob('/content/drive/MyDrive/GTRA/4/*')\n",
        "ID5 = glob.glob('/content/drive/MyDrive/GTRA/5/*')\n",
        "ID6 = glob.glob('/content/drive/MyDrive/GTRA/6/*')\n",
        "ID7 = glob.glob('/content/drive/MyDrive/GTRA/7/*')\n",
        "ID8 = glob.glob('/content/drive/MyDrive/GTRA/8/*')\n",
        "ID9 = glob.glob('/content/drive/MyDrive/GTRA/9/*')\n",
        "ID10 = glob.glob('/content/drive/MyDrive/GTRA/10/*')\n",
        "ID11 = glob.glob('/content/drive/MyDrive/GTRA/11/*')\n",
        "ID12 = glob.glob('/content/drive/MyDrive/GTRA/12/*')\n",
        "ID13 = glob.glob('/content/drive/MyDrive/GTRA/13/*')\n",
        "ID14 = glob.glob('/content/drive/MyDrive/GTRA/14/*')\n",
        "ID15 = glob.glob('/content/drive/MyDrive/GTRA/15/*')\n",
        "ID16 = glob.glob('/content/drive/MyDrive/GTRA/16/*')\n",
        "ID17 = glob.glob('/content/drive/MyDrive/GTRA/17/*')\n",
        "ID18 = glob.glob('/content/drive/MyDrive/GTRA/18/*')\n",
        "ID19 = glob.glob('/content/drive/MyDrive/GTRA/19/*')\n",
        "ID20 = glob.glob('/content/drive/MyDrive/GTRA/20/*')\n",
        "ID21 = glob.glob('/content/drive/MyDrive/GTRA/21/*')\n",
        "ID22 = glob.glob('/content/drive/MyDrive/GTRA/22/*')\n",
        "ID23 = glob.glob('/content/drive/MyDrive/GTRA/23/*')\n",
        "ID24 = glob.glob('/content/drive/MyDrive/GTRA/24/*')\n",
        "ID25 = glob.glob('/content/drive/MyDrive/GTRA/25/*')\n",
        "ID26 = glob.glob('/content/drive/MyDrive/GTRA/26/*')\n",
        "ID27 = glob.glob('/content/drive/MyDrive/GTRA/27/*')\n",
        "ID28 = glob.glob('/content/drive/MyDrive/GTRA/28/*')\n",
        "ID29 = glob.glob('/content/drive/MyDrive/GTRA/29/*')\n",
        "ID30 = glob.glob('/content/drive/MyDrive/GTRA/30/*')\n",
        "ID31 = glob.glob('/content/drive/MyDrive/GTRA/31/*')\n",
        "ID32 = glob.glob('/content/drive/MyDrive/GTRA/32/*')\n",
        "ID33 = glob.glob('/content/drive/MyDrive/GTRA/33/*')\n",
        "ID34 = glob.glob('/content/drive/MyDrive/GTRA/34/*')\n",
        "ID35 = glob.glob('/content/drive/MyDrive/GTRA/35/*')\n",
        "ID36 = glob.glob('/content/drive/MyDrive/GTRA/36/*')\n",
        "ID37 = glob.glob('/content/drive/MyDrive/GTRA/37/*')\n",
        "ID38 = glob.glob('/content/drive/MyDrive/GTRA/38/*')\n",
        "ID39 = glob.glob('/content/drive/MyDrive/GTRA/39/*')\n",
        "ID40 = glob.glob('/content/drive/MyDrive/GTRA/40/*')\n",
        "ID41 = glob.glob('/content/drive/MyDrive/GTRA/41/*')\n",
        "ID42 = glob.glob('/content/drive/MyDrive/GTRA/42/*')"
      ],
      "metadata": {
        "id": "UOkdfgq6n-Wo"
      },
      "execution_count": 3,
      "outputs": []
    },
    {
      "cell_type": "code",
      "source": [
        "print(len(ID0))\n",
        "print(len(ID1))\n",
        "print(len(ID2))\n",
        "print(len(ID3))\n",
        "print(len(ID4))\n",
        "print(len(ID5))\n",
        "print(len(ID6))\n",
        "print(len(ID7))\n",
        "print(len(ID8))\n",
        "print(len(ID9))\n",
        "print(len(ID10))\n",
        "print(len(ID11))\n",
        "print(len(ID12))\n",
        "print(len(ID13))\n",
        "print(len(ID14))\n",
        "print(len(ID15))\n",
        "print(len(ID16))\n",
        "print(len(ID17))\n",
        "print(len(ID18))\n",
        "print(len(ID19))\n",
        "print(len(ID20))\n",
        "print(len(ID21))\n",
        "print(len(ID22))\n",
        "print(len(ID23))\n",
        "print(len(ID24))\n",
        "print(len(ID25))\n",
        "print(len(ID26))\n",
        "print(len(ID27))\n",
        "print(len(ID28))\n",
        "print(len(ID29))\n",
        "print(len(ID30))\n",
        "print(len(ID31))\n",
        "print(len(ID32))\n",
        "print(len(ID33))\n",
        "print(len(ID34))\n",
        "print(len(ID35))\n",
        "print(len(ID36))\n",
        "print(len(ID37))\n",
        "print(len(ID38))\n",
        "print(len(ID39))\n",
        "print(len(ID40))\n",
        "print(len(ID41))\n",
        "print(len(ID42))"
      ],
      "metadata": {
        "colab": {
          "base_uri": "https://localhost:8080/"
        },
        "id": "2MUDb3DwMOJG",
        "outputId": "a0885beb-da4a-481f-b22e-6fa482820d6b"
      },
      "execution_count": 4,
      "outputs": [
        {
          "output_type": "stream",
          "name": "stdout",
          "text": [
            "210\n",
            "210\n",
            "210\n",
            "210\n",
            "210\n",
            "210\n",
            "210\n",
            "210\n",
            "210\n",
            "210\n",
            "210\n",
            "210\n",
            "210\n",
            "210\n",
            "210\n",
            "210\n",
            "210\n",
            "210\n",
            "210\n",
            "210\n",
            "210\n",
            "210\n",
            "210\n",
            "210\n",
            "210\n",
            "210\n",
            "210\n",
            "210\n",
            "210\n",
            "210\n",
            "210\n",
            "210\n",
            "210\n",
            "210\n",
            "210\n",
            "210\n",
            "210\n",
            "210\n",
            "210\n",
            "210\n",
            "210\n",
            "210\n",
            "210\n"
          ]
        }
      ]
    },
    {
      "cell_type": "markdown",
      "source": [
        "Cambiamos el tamaño de las imagenes para que todas sean del mismo tamaño."
      ],
      "metadata": {
        "id": "__ubwhzpoJJE"
      }
    },
    {
      "cell_type": "code",
      "source": [
        "size = (25, 25)\n",
        "IList = [ID0, ID1,ID2, ID3, ID4, ID5, ID6,ID7,ID8,ID9,ID10,ID11,ID12,ID13,ID14,ID15,ID16,ID17,ID18,ID19,ID20,ID21,ID22,ID23,ID24,ID25,ID26,ID27,ID28,ID29,ID30,ID31,ID32,ID33,ID34,ID35,ID26,ID37,ID38,ID39,ID40,ID41,ID42]\n",
        "X = []\n",
        "\n",
        "for sublist in IList:\n",
        "    images = [cv2.resize(plt.imread(img_path), size) for img_path in sublist]\n",
        "    X.extend(images)\n",
        "\n",
        "X = np.array(X)"
      ],
      "metadata": {
        "id": "NcMYkwyvu9DD"
      },
      "execution_count": 5,
      "outputs": []
    },
    {
      "cell_type": "code",
      "source": [
        "print(X.shape)"
      ],
      "metadata": {
        "colab": {
          "base_uri": "https://localhost:8080/"
        },
        "id": "q9_3zeWUt9Cx",
        "outputId": "ed77a89c-4ced-4363-d2f8-cb4a9e6e53f0"
      },
      "execution_count": 6,
      "outputs": [
        {
          "output_type": "stream",
          "name": "stdout",
          "text": [
            "(9030, 25, 25, 3)\n"
          ]
        }
      ]
    },
    {
      "cell_type": "markdown",
      "source": [
        "Convertir la lista de listas en un arreglo unidimensional"
      ],
      "metadata": {
        "id": "JRaumpRvrdlv"
      }
    },
    {
      "cell_type": "markdown",
      "source": [
        "Imprimimos una imagen para checar"
      ],
      "metadata": {
        "id": "GITDyVUtoSQj"
      }
    },
    {
      "cell_type": "markdown",
      "source": [
        "Creamos las etiquetas de la salida"
      ],
      "metadata": {
        "id": "oXjN66O8oVRF"
      }
    },
    {
      "cell_type": "code",
      "source": [
        "Y0 = [0] * len(ID0)\n",
        "Y1 = [1] * len(ID1)\n",
        "Y2 = [2] * len(ID2)\n",
        "Y3 = [3] * len(ID3)\n",
        "Y4 = [4] * len(ID4)\n",
        "Y5 = [5] * len(ID5)\n",
        "Y6 = [6] * len(ID6)\n",
        "Y7 = [7] * len(ID7)\n",
        "Y8 = [8] * len(ID8)\n",
        "Y9 = [9] * len(ID9)\n",
        "Y10 = [10] * len(ID10)\n",
        "Y11 = [11] * len(ID11)\n",
        "Y12 = [12] * len(ID12)\n",
        "Y13 = [13] * len(ID13)\n",
        "Y14 = [14] * len(ID14)\n",
        "Y15 = [15] * len(ID15)\n",
        "Y16 = [16] * len(ID16)\n",
        "Y17 = [17] * len(ID17)\n",
        "Y18 = [18] * len(ID18)\n",
        "Y19 = [19] * len(ID19)\n",
        "Y20 = [20] * len(ID20)\n",
        "Y21 = [21] * len(ID21)\n",
        "Y22 = [22] * len(ID22)\n",
        "Y23 = [23] * len(ID23)\n",
        "Y24 = [24] * len(ID24)\n",
        "Y25 = [25] * len(ID25)\n",
        "Y26 = [26] * len(ID26)\n",
        "Y27 = [27] * len(ID27)\n",
        "Y28 = [28] * len(ID28)\n",
        "Y29 = [29] * len(ID29)\n",
        "Y30 = [30] * len(ID30)\n",
        "Y31 = [31] * len(ID31)\n",
        "Y32 = [32] * len(ID32)\n",
        "Y33 = [33] * len(ID33)\n",
        "Y34 = [34] * len(ID34)\n",
        "Y35 = [35] * len(ID35)\n",
        "Y36 = [36] * len(ID36)\n",
        "Y37 = [37] * len(ID37)\n",
        "Y38 = [38] * len(ID38)\n",
        "Y39 = [39] * len(ID39)\n",
        "Y40 = [40] * len(ID40)\n",
        "Y41 = [41] * len(ID41)\n",
        "Y42 = [42] * len(ID42)"
      ],
      "metadata": {
        "id": "bNO_BWrNLABn"
      },
      "execution_count": 7,
      "outputs": []
    },
    {
      "cell_type": "markdown",
      "source": [
        "Hacemos one hot encoding para cada salida"
      ],
      "metadata": {
        "id": "YD1EcHnJoYSz"
      }
    },
    {
      "cell_type": "code",
      "source": [
        "Y = to_categorical (Y0+Y1+Y2+Y3+Y4+Y5+Y6+Y7+Y8+Y9+Y10+Y11+Y12+Y13+Y14+Y15+Y16+Y17+Y18+Y19+Y20+Y21+Y22+Y23+Y24+Y25+Y26+Y27+Y28+Y29+Y30+Y31+Y32+Y33+Y34+Y35+Y36+Y37+Y38+Y39+Y40+Y41+Y42,43)\n",
        "Y = np.array(Y)"
      ],
      "metadata": {
        "id": "Ft-I9XsfoGuA"
      },
      "execution_count": 8,
      "outputs": []
    },
    {
      "cell_type": "code",
      "source": [
        "print(Y.shape)"
      ],
      "metadata": {
        "colab": {
          "base_uri": "https://localhost:8080/"
        },
        "id": "nvCuy5xbvraR",
        "outputId": "48ce44b2-43f2-467b-d732-a208ef0353f0"
      },
      "execution_count": 9,
      "outputs": [
        {
          "output_type": "stream",
          "name": "stdout",
          "text": [
            "(9030, 43)\n"
          ]
        }
      ]
    },
    {
      "cell_type": "markdown",
      "source": [
        "Se Define el modelo"
      ],
      "metadata": {
        "id": "tDregPNJp3O0"
      }
    },
    {
      "cell_type": "code",
      "source": [
        "model = Sequential()\n",
        "\n",
        "model.add(Conv2D(filters = 32, kernel_size = (3, 3), input_shape = X.shape[1:], activation='relu'))\n",
        "model.add(Conv2D(filters = 32, kernel_size = (3, 3), activation='relu'))\n",
        "model.add(AveragePooling2D(pool_size=(2, 2)))\n",
        "model.add(Dropout(0.5))\n",
        "#model.add(AveragePooling2D())\n",
        "\n",
        "model.add(Conv2D(filters = 64, kernel_size = (3, 3), activation='relu'))\n",
        "model.add(Conv2D(filters = 64, kernel_size = (3, 3), activation='relu'))\n",
        "model.add(AveragePooling2D(pool_size=(2, 2)))\n",
        "model.add(Dropout(0.5))\n",
        "\n",
        "model.add(Conv2D(filters = 64, kernel_size = (3, 3), activation='relu'))\n",
        "#model.add(Conv2D(filters = 64, kernel_size = (3, 3), activation='relu'))\n",
        "model.add(AveragePooling2D(pool_size=(1, 1)))\n",
        "model.add(Dropout(0.5))\n",
        "\n",
        "model.add(Flatten())\n",
        "model.add(Dense(units = 625, activation='relu'))\n",
        "model.add(Dropout(0.5))\n",
        "model.add(Dense(units = 625, activation='relu'))\n",
        "model.add(Dropout(0.5))\n",
        "model.add(Dense(units = 43, activation='softmax'))\n",
        "\n",
        "model.compile(Adam(lr = 0.001), loss='categorical_crossentropy', metrics=['accuracy'])\n",
        "print(model.summary())"
      ],
      "metadata": {
        "colab": {
          "base_uri": "https://localhost:8080/"
        },
        "id": "nMu1Hr4Zp5Au",
        "outputId": "6fa00054-2d06-4a51-a936-5aca6f66021a"
      },
      "execution_count": 28,
      "outputs": [
        {
          "output_type": "stream",
          "name": "stdout",
          "text": [
            "Model: \"sequential_8\"\n",
            "_________________________________________________________________\n",
            " Layer (type)                Output Shape              Param #   \n",
            "=================================================================\n",
            " conv2d_29 (Conv2D)          (None, 23, 23, 32)        896       \n",
            "                                                                 \n",
            " conv2d_30 (Conv2D)          (None, 21, 21, 32)        9248      \n",
            "                                                                 \n",
            " average_pooling2d_7 (Averag  (None, 10, 10, 32)       0         \n",
            " ePooling2D)                                                     \n",
            "                                                                 \n",
            " dropout_11 (Dropout)        (None, 10, 10, 32)        0         \n",
            "                                                                 \n",
            " conv2d_31 (Conv2D)          (None, 8, 8, 64)          18496     \n",
            "                                                                 \n",
            " conv2d_32 (Conv2D)          (None, 6, 6, 64)          36928     \n",
            "                                                                 \n",
            " average_pooling2d_8 (Averag  (None, 3, 3, 64)         0         \n",
            " ePooling2D)                                                     \n",
            "                                                                 \n",
            " dropout_12 (Dropout)        (None, 3, 3, 64)          0         \n",
            "                                                                 \n",
            " conv2d_33 (Conv2D)          (None, 1, 1, 64)          36928     \n",
            "                                                                 \n",
            " average_pooling2d_9 (Averag  (None, 1, 1, 64)         0         \n",
            " ePooling2D)                                                     \n",
            "                                                                 \n",
            " dropout_13 (Dropout)        (None, 1, 1, 64)          0         \n",
            "                                                                 \n",
            " flatten_1 (Flatten)         (None, 64)                0         \n",
            "                                                                 \n",
            " dense_3 (Dense)             (None, 625)               40625     \n",
            "                                                                 \n",
            " dropout_14 (Dropout)        (None, 625)               0         \n",
            "                                                                 \n",
            " dense_4 (Dense)             (None, 625)               391250    \n",
            "                                                                 \n",
            " dropout_15 (Dropout)        (None, 625)               0         \n",
            "                                                                 \n",
            " dense_5 (Dense)             (None, 43)                26918     \n",
            "                                                                 \n",
            "=================================================================\n",
            "Total params: 561,289\n",
            "Trainable params: 561,289\n",
            "Non-trainable params: 0\n",
            "_________________________________________________________________\n",
            "None\n"
          ]
        }
      ]
    },
    {
      "cell_type": "markdown",
      "source": [
        "Se separa un 10% del set de entrenamiento para fines de validación"
      ],
      "metadata": {
        "id": "OQE6AJk8wO-N"
      }
    },
    {
      "cell_type": "code",
      "source": [
        "# Obtener el índice del punto de corte para separar los datos de entrenamiento y validación\n",
        "split_index = int(len(X) * 0.9)\n",
        "\n",
        "# Separar los datos de entrenamiento y validación\n",
        "X_train = X[:split_index]\n",
        "y_train = Y[:split_index]\n",
        "X_val = X[split_index:]\n",
        "y_val = Y[split_index:]"
      ],
      "metadata": {
        "id": "qncBXjyl0nP6"
      },
      "execution_count": 29,
      "outputs": []
    },
    {
      "cell_type": "code",
      "source": [
        "history = model.fit(X_train, y_train, validation_split=0.1, epochs = 40, batch_size = 50, verbose = 1, shuffle = True)"
      ],
      "metadata": {
        "colab": {
          "base_uri": "https://localhost:8080/"
        },
        "id": "uJ0cpQJDwM5y",
        "outputId": "82cd13e0-a628-4992-c118-133d64f34dfd"
      },
      "execution_count": null,
      "outputs": [
        {
          "output_type": "stream",
          "name": "stdout",
          "text": [
            "Epoch 1/40\n",
            "147/147 [==============================] - 20s 127ms/step - loss: 3.5883 - accuracy: 0.0358 - val_loss: 6.0379 - val_accuracy: 0.0000e+00\n",
            "Epoch 2/40\n",
            "  1/147 [..............................] - ETA: 16s - loss: 3.4237 - accuracy: 0.0200"
          ]
        }
      ]
    },
    {
      "cell_type": "code",
      "source": [
        "print(X_val.shape)\n",
        "print(y_val.shape)"
      ],
      "metadata": {
        "colab": {
          "base_uri": "https://localhost:8080/"
        },
        "id": "XlOJ_8HzHetd",
        "outputId": "85f108ba-0d72-4130-8924-48491d58a93a"
      },
      "execution_count": 13,
      "outputs": [
        {
          "output_type": "stream",
          "name": "stdout",
          "text": [
            "(903, 25, 25, 3)\n",
            "(903, 43)\n"
          ]
        }
      ]
    },
    {
      "cell_type": "code",
      "source": [
        "scores = model.evaluate(X_val, y_val, verbose=1)\n",
        "print('Test loss:', scores[0])\n",
        "print('Test accuracy:', scores[1])"
      ],
      "metadata": {
        "colab": {
          "base_uri": "https://localhost:8080/"
        },
        "id": "pW0qrFIA0rE9",
        "outputId": "c1ba8e34-8cbc-4ebc-ef22-49aa372216f5"
      },
      "execution_count": 14,
      "outputs": [
        {
          "output_type": "stream",
          "name": "stdout",
          "text": [
            "29/29 [==============================] - 1s 27ms/step - loss: 21.0745 - accuracy: 0.0000e+00\n",
            "Test loss: 21.07447624206543\n",
            "Test accuracy: 0.0\n"
          ]
        }
      ]
    },
    {
      "cell_type": "code",
      "source": [
        "plt.plot(history.history['loss'])\n",
        "plt.plot(history.history['val_loss'])\n",
        "plt.legend(['loss', 'val_loss'])\n",
        "plt.title('Loss')\n",
        "plt.xlabel('epoch')"
      ],
      "metadata": {
        "colab": {
          "base_uri": "https://localhost:8080/",
          "height": 489
        },
        "id": "oEV_Dyb00zPP",
        "outputId": "49db8faf-52c5-4d4b-9af4-4312446dbf70"
      },
      "execution_count": 15,
      "outputs": [
        {
          "output_type": "execute_result",
          "data": {
            "text/plain": [
              "Text(0.5, 0, 'epoch')"
            ]
          },
          "metadata": {},
          "execution_count": 15
        },
        {
          "output_type": "display_data",
          "data": {
            "text/plain": [
              "<Figure size 640x480 with 1 Axes>"
            ],
            "image/png": "[encoded data removed]"
          },
          "metadata": {}
        }
      ]
    },
    {
      "cell_type": "code",
      "source": [
        "plt.plot(history.history['accuracy'])\n",
        "plt.plot(history.history['val_accuracy'])\n",
        "plt.legend(['acc', 'val_acc'])\n",
        "plt.title('Accuracy')\n",
        "plt.xlabel('epoch')"
      ],
      "metadata": {
        "colab": {
          "base_uri": "https://localhost:8080/",
          "height": 489
        },
        "id": "0QnI07ib04f0",
        "outputId": "606e3e24-5bd9-4957-d8cb-187b747d9586"
      },
      "execution_count": 16,
      "outputs": [
        {
          "output_type": "execute_result",
          "data": {
            "text/plain": [
              "Text(0.5, 0, 'epoch')"
            ]
          },
          "metadata": {},
          "execution_count": 16
        },
        {
          "output_type": "display_data",
          "data": {
            "text/plain": [
              "<Figure size 640x480 with 1 Axes>"
            ],
            "image/png": "[encoded data removed]"
          },
          "metadata": {}
        }
      ]
    },
    {
      "cell_type": "code",
      "source": [
        "import cv2\n",
        "import glob\n",
        "import matplotlib.pyplot as plt\n",
        "\n",
        "TstImg = glob.glob('/content/drive/MyDrive/GTRA/Test/*')\n",
        "TstImg = ID0[0]  # Selecciona la primera imagen de la lista\n",
        "\n",
        "img_arr = cv2.imread(TstImg)  # Carga la imagen utilizando cv2.imread\n",
        "img_rs = cv2.resize(img_arr, (25, 25))  # Redimensiona la imagen a 25x25\n",
        "img_dim = np.expand_dims(img_rs, axis=0)  # Agrega una dimensión adicional\n",
        "\n",
        "plt.imshow(img_rs)\n",
        "plt.show()"
      ],
      "metadata": {
        "colab": {
          "base_uri": "https://localhost:8080/",
          "height": 430
        },
        "id": "xH7qpCSW1H06",
        "outputId": "e007d02b-1686-4aa3-f976-97a5c7ba199a"
      },
      "execution_count": 17,
      "outputs": [
        {
          "output_type": "display_data",
          "data": {
            "text/plain": [
              "<Figure size 640x480 with 1 Axes>"
            ],
            "image/png": "[encoded data removed]"
          },
          "metadata": {}
        }
      ]
    },
    {
      "cell_type": "code",
      "source": [
        "print(img_dim.shape)"
      ],
      "metadata": {
        "colab": {
          "base_uri": "https://localhost:8080/"
        },
        "id": "d4_JJR0OMKqb",
        "outputId": "111fb6d6-74be-4a72-b227-93a8a359e66a"
      },
      "execution_count": 18,
      "outputs": [
        {
          "output_type": "stream",
          "name": "stdout",
          "text": [
            "(1, 25, 25, 3)\n"
          ]
        }
      ]
    },
    {
      "cell_type": "code",
      "source": [
        "prediction = np.argmax(model.predict(img_dim), axis=-1)\n",
        "print(\"objeto:\", str(prediction))"
      ],
      "metadata": {
        "colab": {
          "base_uri": "https://localhost:8080/"
        },
        "id": "5WPn5n2w1G52",
        "outputId": "257eb8c1-1d72-440b-ccf1-8e538af0922c"
      },
      "execution_count": 19,
      "outputs": [
        {
          "output_type": "stream",
          "name": "stdout",
          "text": [
            "1/1 [==============================] - 0s 177ms/step\n",
            "objeto: [0]\n"
          ]
        }
      ]
    }
  ]
}