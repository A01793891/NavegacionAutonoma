{
  "cells": [
    {
      "cell_type": "markdown",
      "metadata": {
        "id": "view-in-github"
      },
      "source": [
        "<a href=\"https://colab.research.google.com/github/aalr007/NavegacionAutonoma/blob/main/4_2_Detecci%C3%B3n_de_Se%C3%B1ales_de_Tr%C3%A1nsito3.ipynb\" target=\"_parent\"><img src=\"https://colab.research.google.com/assets/colab-badge.svg\" alt=\"Open In Colab\"/></a>"
      ]
    },
    {
      "cell_type": "markdown",
      "metadata": {
        "id": "znbCd227raWG"
      },
      "source": [
        "# <center> ***Navegación Autónoma*** </center>\n",
        "## <center> ***Actividad 4.2 - Detección de Señales de Tránsito*** </center>\n",
        "\n",
        "### Profesor: Dr. David Antonio Torres\n",
        "### Alumnos: \n",
        "* Andrei García Torres               A01793891\n",
        "* Aurelio Antonio Lozano Rábago      A01081266\n",
        "* Jorge Luis Tapia Peñaloza          A01793013\n",
        "* Luis Alfredo Negron Naldos         A01793865\n",
        "\n",
        "#### <p style='text-align: right;'> 11 de Junio del 2023 </p>"
      ]
    },
    {
      "cell_type": "code",
      "execution_count": 1,
      "metadata": {
        "id": "RZTJ9g4erY1p"
      },
      "outputs": [],
      "source": [
        "import numpy as np\n",
        "import matplotlib.pyplot as plt\n",
        "import keras\n",
        "from keras.datasets import cifar10\n",
        "from keras.models import Sequential\n",
        "from keras.layers import Dense\n",
        "from keras.optimizers import Adam\n",
        "from keras.utils.np_utils import to_categorical\n",
        "import random\n",
        "     \n",
        "from keras.layers import Dropout\n",
        "from keras.layers import Flatten\n",
        "from keras.layers.convolutional import Conv2D\n",
        "from keras.layers.convolutional import MaxPooling2D\n",
        "from keras.layers.convolutional import AveragePooling2D\n",
        "     \n",
        "from keras.models import Model\n",
        "\n",
        "import matplotlib.image as mpimg\n",
        "import seaborn as sns\n",
        "import cv2\n",
        "\n",
        "from google.colab import drive\n",
        "import glob"
      ]
    },
    {
      "cell_type": "markdown",
      "metadata": {
        "id": "4G2VvEdAXB10"
      },
      "source": [
        "#Se carga el dataset y se verifica el número de muestras en cada set"
      ]
    },
    {
      "cell_type": "code",
      "execution_count": 2,
      "metadata": {
        "colab": {
          "base_uri": "https://localhost:8080/"
        },
        "id": "eU6TQjt5XIOG",
        "outputId": "896e9e57-70e7-49b2-ab6d-d1f10875a4b2"
      },
      "outputs": [
        {
          "output_type": "stream",
          "name": "stdout",
          "text": [
            "Mounted at /content/drive\n"
          ]
        }
      ],
      "source": [
        "drive.mount('/content/drive',force_remount=True)\n",
        "file_path = '/content/drive/MyDrive/MNA/NavAutonoma/GTRA/*'\n"
      ]
    },
    {
      "cell_type": "code",
      "execution_count": 3,
      "metadata": {
        "id": "UOkdfgq6n-Wo"
      },
      "outputs": [],
      "source": [
        "ID0 = glob.glob('/content/drive/MyDrive/MNA/NavAutonoma/GTRA/0/*')\n",
        "ID1 = glob.glob('/content/drive/MyDrive/MNA/NavAutonoma/GTRA/1/*')\n",
        "ID2 = glob.glob('/content/drive/MyDrive/MNA/NavAutonoma/GTRA/2/*')\n",
        "ID3 = glob.glob('/content/drive/MyDrive/MNA/NavAutonoma/GTRA/3/*')\n",
        "ID4 = glob.glob('/content/drive/MyDrive/MNA/NavAutonoma/GTRA/4/*')\n",
        "ID5 = glob.glob('/content/drive/MyDrive/MNA/NavAutonoma/GTRA/5/*')\n",
        "ID6 = glob.glob('/content/drive/MyDrive/MNA/NavAutonoma/GTRA/6/*')\n",
        "ID7 = glob.glob('/content/drive/MyDrive/MNA/NavAutonoma/GTRA/7/*')\n",
        "ID8 = glob.glob('/content/drive/MyDrive/MNA/NavAutonoma/GTRA/8/*')\n",
        "ID9 = glob.glob('/content/drive/MyDrive/MNA/NavAutonoma/GTRA/9/*')\n",
        "ID10 = glob.glob('/content/drive/MyDrive/MNA/NavAutonoma/GTRA/10/*')\n",
        "ID11 = glob.glob('/content/drive/MyDrive/MNA/NavAutonoma/GTRA/11/*')\n",
        "ID12 = glob.glob('/content/drive/MyDrive/MNA/NavAutonoma/GTRA/12/*')\n",
        "ID13 = glob.glob('/content/drive/MyDrive/MNA/NavAutonoma/GTRA/13/*')\n",
        "ID14 = glob.glob('/content/drive/MyDrive/MNA/NavAutonoma/GTRA/14/*')\n",
        "ID15 = glob.glob('/content/drive/MyDrive/MNA/NavAutonoma/GTRA/15/*')\n",
        "ID16 = glob.glob('/content/drive/MyDrive/MNA/NavAutonoma/GTRA/16/*')\n",
        "ID17 = glob.glob('/content/drive/MyDrive/MNA/NavAutonoma/GTRA/17/*')\n",
        "ID18 = glob.glob('/content/drive/MyDrive/MNA/NavAutonoma/GTRA/18/*')\n",
        "ID19 = glob.glob('/content/drive/MyDrive/MNA/NavAutonoma/GTRA/19/*')\n",
        "ID20 = glob.glob('/content/drive/MyDrive/MNA/NavAutonoma/GTRA/20/*')\n",
        "ID21 = glob.glob('/content/drive/MyDrive/MNA/NavAutonoma/GTRA/21/*')\n",
        "ID22 = glob.glob('/content/drive/MyDrive/MNA/NavAutonoma/GTRA/22/*')\n",
        "ID23 = glob.glob('/content/drive/MyDrive/MNA/NavAutonoma/GTRA/23/*')\n",
        "ID24 = glob.glob('/content/drive/MyDrive/MNA/NavAutonoma/GTRA/24/*')\n",
        "ID25 = glob.glob('/content/drive/MyDrive/MNA/NavAutonoma/GTRA/25/*')\n",
        "ID26 = glob.glob('/content/drive/MyDrive/MNA/NavAutonoma/GTRA/26/*')\n",
        "ID27 = glob.glob('/content/drive/MyDrive/MNA/NavAutonoma/GTRA/27/*')\n",
        "ID28 = glob.glob('/content/drive/MyDrive/MNA/NavAutonoma/GTRA/28/*')\n",
        "ID29 = glob.glob('/content/drive/MyDrive/MNA/NavAutonoma/GTRA/29/*')\n",
        "ID30 = glob.glob('/content/drive/MyDrive/MNA/NavAutonoma/GTRA/30/*')\n",
        "ID31 = glob.glob('/content/drive/MyDrive/MNA/NavAutonoma/GTRA/31/*')\n",
        "ID32 = glob.glob('/content/drive/MyDrive/MNA/NavAutonoma/GTRA/32/*')\n",
        "ID33 = glob.glob('/content/drive/MyDrive/MNA/NavAutonoma/GTRA/33/*')\n",
        "ID34 = glob.glob('/content/drive/MyDrive/MNA/NavAutonoma/GTRA/34/*')\n",
        "ID35 = glob.glob('/content/drive/MyDrive/MNA/NavAutonoma/GTRA/35/*')\n",
        "ID36 = glob.glob('/content/drive/MyDrive/MNA/NavAutonoma/GTRA/36/*')\n",
        "ID37 = glob.glob('/content/drive/MyDrive/MNA/NavAutonoma/GTRA/37/*')\n",
        "ID38 = glob.glob('/content/drive/MyDrive/MNA/NavAutonoma/GTRA/38/*')\n",
        "ID39 = glob.glob('/content/drive/MyDrive/MNA/NavAutonoma/GTRA/39/*')\n",
        "ID40 = glob.glob('/content/drive/MyDrive/MNA/NavAutonoma/GTRA/40/*')\n",
        "ID41 = glob.glob('/content/drive/MyDrive/MNA/NavAutonoma/GTRA/41/*')\n",
        "ID42 = glob.glob('/content/drive/MyDrive/MNA/NavAutonoma/GTRA/42/*')"
      ]
    },
    {
      "cell_type": "code",
      "execution_count": 4,
      "metadata": {
        "colab": {
          "base_uri": "https://localhost:8080/"
        },
        "id": "2MUDb3DwMOJG",
        "outputId": "f64f3258-e064-467c-9cdc-9bf489daae67"
      },
      "outputs": [
        {
          "output_type": "stream",
          "name": "stdout",
          "text": [
            "210\n",
            "2220\n",
            "2250\n",
            "1410\n",
            "1980\n",
            "1860\n",
            "420\n",
            "1440\n",
            "1410\n",
            "1470\n",
            "2010\n",
            "1320\n",
            "2100\n",
            "2160\n",
            "780\n",
            "630\n",
            "420\n",
            "1110\n",
            "1200\n",
            "210\n",
            "360\n",
            "330\n",
            "390\n",
            "510\n",
            "270\n",
            "1500\n",
            "600\n",
            "240\n",
            "540\n",
            "270\n",
            "450\n",
            "780\n",
            "240\n",
            "689\n",
            "420\n",
            "1200\n",
            "390\n",
            "210\n",
            "2070\n",
            "300\n",
            "360\n",
            "240\n",
            "240\n"
          ]
        }
      ],
      "source": [
        "print(len(ID0))\n",
        "print(len(ID1))\n",
        "print(len(ID2))\n",
        "print(len(ID3))\n",
        "print(len(ID4))\n",
        "print(len(ID5))\n",
        "print(len(ID6))\n",
        "print(len(ID7))\n",
        "print(len(ID8))\n",
        "print(len(ID9))\n",
        "print(len(ID10))\n",
        "print(len(ID11))\n",
        "print(len(ID12))\n",
        "print(len(ID13))\n",
        "print(len(ID14))\n",
        "print(len(ID15))\n",
        "print(len(ID16))\n",
        "print(len(ID17))\n",
        "print(len(ID18))\n",
        "print(len(ID19))\n",
        "print(len(ID20))\n",
        "print(len(ID21))\n",
        "print(len(ID22))\n",
        "print(len(ID23))\n",
        "print(len(ID24))\n",
        "print(len(ID25))\n",
        "print(len(ID26))\n",
        "print(len(ID27))\n",
        "print(len(ID28))\n",
        "print(len(ID29))\n",
        "print(len(ID30))\n",
        "print(len(ID31))\n",
        "print(len(ID32))\n",
        "print(len(ID33))\n",
        "print(len(ID34))\n",
        "print(len(ID35))\n",
        "print(len(ID36))\n",
        "print(len(ID37))\n",
        "print(len(ID38))\n",
        "print(len(ID39))\n",
        "print(len(ID40))\n",
        "print(len(ID41))\n",
        "print(len(ID42))"
      ]
    },
    {
      "cell_type": "markdown",
      "metadata": {
        "id": "__ubwhzpoJJE"
      },
      "source": [
        "Cambiamos el tamaño de las imagenes para que todas sean del mismo tamaño."
      ]
    },
    {
      "cell_type": "code",
      "execution_count": 5,
      "metadata": {
        "id": "NcMYkwyvu9DD"
      },
      "outputs": [],
      "source": [
        "size = (25, 25)\n",
        "IList = [ID0, ID1,ID2, ID3, ID4, ID5, ID6,ID7,ID8,ID9,ID10,ID11,ID12,ID13,ID14,ID15,ID16,ID17,ID18,ID19,ID20,ID21,ID22,ID23,ID24,ID25,ID26,ID27,ID28,ID29,ID30,ID31,ID32,ID33,ID34,ID35,ID36,ID37,ID38,ID39,ID40,ID41,ID42]\n",
        "X = []\n",
        "\n",
        "for sublist in IList:\n",
        "    images = [cv2.resize(plt.imread(img_path), size) for img_path in sublist]\n",
        "    X.extend(images)\n",
        "\n",
        "X = np.array(X)"
      ]
    },
    {
      "cell_type": "code",
      "execution_count": 6,
      "metadata": {
        "colab": {
          "base_uri": "https://localhost:8080/"
        },
        "id": "q9_3zeWUt9Cx",
        "outputId": "5fbbfb55-7b72-4b92-8ac0-a26e5e5b2c2e"
      },
      "outputs": [
        {
          "output_type": "stream",
          "name": "stdout",
          "text": [
            "(39209, 25, 25, 3)\n"
          ]
        }
      ],
      "source": [
        "print(X.shape)"
      ]
    },
    {
      "cell_type": "markdown",
      "metadata": {
        "id": "JRaumpRvrdlv"
      },
      "source": [
        "Convertir la lista de listas en un arreglo unidimensional"
      ]
    },
    {
      "cell_type": "markdown",
      "metadata": {
        "id": "GITDyVUtoSQj"
      },
      "source": [
        "Imprimimos una imagen para checar"
      ]
    },
    {
      "cell_type": "markdown",
      "metadata": {
        "id": "oXjN66O8oVRF"
      },
      "source": [
        "Creamos las etiquetas de la salida"
      ]
    },
    {
      "cell_type": "code",
      "execution_count": 7,
      "metadata": {
        "id": "bNO_BWrNLABn"
      },
      "outputs": [],
      "source": [
        "Y0 = [0] * len(ID0)\n",
        "Y1 = [1] * len(ID1)\n",
        "Y2 = [2] * len(ID2)\n",
        "Y3 = [3] * len(ID3)\n",
        "Y4 = [4] * len(ID4)\n",
        "Y5 = [5] * len(ID5)\n",
        "Y6 = [6] * len(ID6)\n",
        "Y7 = [7] * len(ID7)\n",
        "Y8 = [8] * len(ID8)\n",
        "Y9 = [9] * len(ID9)\n",
        "Y10 = [10] * len(ID10)\n",
        "Y11 = [11] * len(ID11)\n",
        "Y12 = [12] * len(ID12)\n",
        "Y13 = [13] * len(ID13)\n",
        "Y14 = [14] * len(ID14)\n",
        "Y15 = [15] * len(ID15)\n",
        "Y16 = [16] * len(ID16)\n",
        "Y17 = [17] * len(ID17)\n",
        "Y18 = [18] * len(ID18)\n",
        "Y19 = [19] * len(ID19)\n",
        "Y20 = [20] * len(ID20)\n",
        "Y21 = [21] * len(ID21)\n",
        "Y22 = [22] * len(ID22)\n",
        "Y23 = [23] * len(ID23)\n",
        "Y24 = [24] * len(ID24)\n",
        "Y25 = [25] * len(ID25)\n",
        "Y26 = [26] * len(ID26)\n",
        "Y27 = [27] * len(ID27)\n",
        "Y28 = [28] * len(ID28)\n",
        "Y29 = [29] * len(ID29)\n",
        "Y30 = [30] * len(ID30)\n",
        "Y31 = [31] * len(ID31)\n",
        "Y32 = [32] * len(ID32)\n",
        "Y33 = [33] * len(ID33)\n",
        "Y34 = [34] * len(ID34)\n",
        "Y35 = [35] * len(ID35)\n",
        "Y36 = [36] * len(ID36)\n",
        "Y37 = [37] * len(ID37)\n",
        "Y38 = [38] * len(ID38)\n",
        "Y39 = [39] * len(ID39)\n",
        "Y40 = [40] * len(ID40)\n",
        "Y41 = [41] * len(ID41)\n",
        "Y42 = [42] * len(ID42)"
      ]
    },
    {
      "cell_type": "markdown",
      "metadata": {
        "id": "YD1EcHnJoYSz"
      },
      "source": [
        "Hacemos one hot encoding para cada salida"
      ]
    },
    {
      "cell_type": "code",
      "execution_count": 8,
      "metadata": {
        "id": "Ft-I9XsfoGuA"
      },
      "outputs": [],
      "source": [
        "Y = to_categorical (Y0+Y1+Y2+Y3+Y4+Y5+Y6+Y7+Y8+Y9+Y10+Y11+Y12+Y13+Y14+Y15+Y16+Y17+Y18+Y19+Y20+Y21+Y22+Y23+Y24+Y25+Y26+Y27+Y28+Y29+Y30+Y31+Y32+Y33+Y34+Y35+Y36+Y37+Y38+Y39+Y40+Y41+Y42,43)\n",
        "Y = np.array(Y)"
      ]
    },
    {
      "cell_type": "code",
      "execution_count": 9,
      "metadata": {
        "colab": {
          "base_uri": "https://localhost:8080/"
        },
        "id": "nvCuy5xbvraR",
        "outputId": "863b0dbf-bfb2-45af-829b-344ce9ebce65"
      },
      "outputs": [
        {
          "output_type": "stream",
          "name": "stdout",
          "text": [
            "(39209, 43)\n"
          ]
        }
      ],
      "source": [
        "print(Y.shape)"
      ]
    },
    {
      "cell_type": "markdown",
      "metadata": {
        "id": "tDregPNJp3O0"
      },
      "source": [
        "Se Define el modelo"
      ]
    },
    {
      "cell_type": "code",
      "execution_count": 10,
      "metadata": {
        "colab": {
          "base_uri": "https://localhost:8080/"
        },
        "id": "nMu1Hr4Zp5Au",
        "outputId": "c248f4ad-fd91-4589-9f19-b73121782c22"
      },
      "outputs": [
        {
          "output_type": "stream",
          "name": "stdout",
          "text": [
            "Model: \"sequential\"\n",
            "_________________________________________________________________\n",
            " Layer (type)                Output Shape              Param #   \n",
            "=================================================================\n",
            " conv2d (Conv2D)             (None, 23, 23, 32)        896       \n",
            "                                                                 \n",
            " conv2d_1 (Conv2D)           (None, 21, 21, 32)        9248      \n",
            "                                                                 \n",
            " average_pooling2d (AverageP  (None, 10, 10, 32)       0         \n",
            " ooling2D)                                                       \n",
            "                                                                 \n",
            " dropout (Dropout)           (None, 10, 10, 32)        0         \n",
            "                                                                 \n",
            " conv2d_2 (Conv2D)           (None, 8, 8, 64)          18496     \n",
            "                                                                 \n",
            " conv2d_3 (Conv2D)           (None, 6, 6, 64)          36928     \n",
            "                                                                 \n",
            " average_pooling2d_1 (Averag  (None, 3, 3, 64)         0         \n",
            " ePooling2D)                                                     \n",
            "                                                                 \n",
            " dropout_1 (Dropout)         (None, 3, 3, 64)          0         \n",
            "                                                                 \n",
            " conv2d_4 (Conv2D)           (None, 1, 1, 64)          36928     \n",
            "                                                                 \n",
            " average_pooling2d_2 (Averag  (None, 1, 1, 64)         0         \n",
            " ePooling2D)                                                     \n",
            "                                                                 \n",
            " dropout_2 (Dropout)         (None, 1, 1, 64)          0         \n",
            "                                                                 \n",
            " flatten (Flatten)           (None, 64)                0         \n",
            "                                                                 \n",
            " dense (Dense)               (None, 625)               40625     \n",
            "                                                                 \n",
            " dropout_3 (Dropout)         (None, 625)               0         \n",
            "                                                                 \n",
            " dense_1 (Dense)             (None, 625)               391250    \n",
            "                                                                 \n",
            " dropout_4 (Dropout)         (None, 625)               0         \n",
            "                                                                 \n",
            " dense_2 (Dense)             (None, 43)                26918     \n",
            "                                                                 \n",
            "=================================================================\n",
            "Total params: 561,289\n",
            "Trainable params: 561,289\n",
            "Non-trainable params: 0\n",
            "_________________________________________________________________\n",
            "None\n"
          ]
        },
        {
          "output_type": "stream",
          "name": "stderr",
          "text": [
            "/usr/local/lib/python3.10/dist-packages/keras/optimizers/legacy/adam.py:117: UserWarning: The `lr` argument is deprecated, use `learning_rate` instead.\n",
            "  super().__init__(name, **kwargs)\n"
          ]
        }
      ],
      "source": [
        "model = Sequential()\n",
        "\n",
        "model.add(Conv2D(filters = 32, kernel_size = (3, 3), input_shape = X.shape[1:], activation='relu'))\n",
        "model.add(Conv2D(filters = 32, kernel_size = (3, 3), activation='relu'))\n",
        "model.add(AveragePooling2D(pool_size=(2, 2)))\n",
        "model.add(Dropout(0.5))\n",
        "#model.add(AveragePooling2D())\n",
        "\n",
        "model.add(Conv2D(filters = 64, kernel_size = (3, 3), activation='relu'))\n",
        "model.add(Conv2D(filters = 64, kernel_size = (3, 3), activation='relu'))\n",
        "model.add(AveragePooling2D(pool_size=(2, 2)))\n",
        "model.add(Dropout(0.5))\n",
        "\n",
        "model.add(Conv2D(filters = 64, kernel_size = (3, 3), activation='relu'))\n",
        "#model.add(Conv2D(filters = 64, kernel_size = (3, 3), activation='relu'))\n",
        "model.add(AveragePooling2D(pool_size=(1, 1)))\n",
        "model.add(Dropout(0.5))\n",
        "\n",
        "model.add(Flatten())\n",
        "model.add(Dense(units = 625, activation='relu'))\n",
        "model.add(Dropout(0.5))\n",
        "model.add(Dense(units = 625, activation='relu'))\n",
        "model.add(Dropout(0.5))\n",
        "model.add(Dense(units = 43, activation='softmax'))\n",
        "\n",
        "model.compile(Adam(lr = 0.001), loss='categorical_crossentropy', metrics=['accuracy'])\n",
        "print(model.summary())"
      ]
    },
    {
      "cell_type": "markdown",
      "metadata": {
        "id": "OQE6AJk8wO-N"
      },
      "source": [
        "Se separa un 10% del set de entrenamiento para fines de validación"
      ]
    },
    {
      "cell_type": "code",
      "execution_count": 11,
      "metadata": {
        "id": "qncBXjyl0nP6"
      },
      "outputs": [],
      "source": [
        "# Obtener el índice del punto de corte para separar los datos de entrenamiento y validación\n",
        "split_index = int(len(X) * 0.9)\n",
        "\n",
        "# Separar los datos de entrenamiento y validación\n",
        "X_train = X[:split_index]\n",
        "y_train = Y[:split_index]\n",
        "X_val = X[split_index:]\n",
        "y_val = Y[split_index:]"
      ]
    },
    {
      "cell_type": "code",
      "execution_count": 13,
      "metadata": {
        "colab": {
          "base_uri": "https://localhost:8080/"
        },
        "id": "uJ0cpQJDwM5y",
        "outputId": "aabe3cbe-2fb6-4e73-9a8e-1ef7e4ba4858"
      },
      "outputs": [
        {
          "output_type": "stream",
          "name": "stdout",
          "text": [
            "Epoch 1/20\n",
            "1059/1059 [==============================] - 86s 81ms/step - loss: 2.0136 - accuracy: 0.3567 - val_loss: 15.6342 - val_accuracy: 0.0000e+00\n",
            "Epoch 2/20\n",
            "1059/1059 [==============================] - 88s 83ms/step - loss: 0.9925 - accuracy: 0.6627 - val_loss: 11.0634 - val_accuracy: 0.0000e+00\n",
            "Epoch 3/20\n",
            "1059/1059 [==============================] - 84s 79ms/step - loss: 0.6925 - accuracy: 0.7671 - val_loss: 12.1900 - val_accuracy: 0.0000e+00\n",
            "Epoch 4/20\n",
            "1059/1059 [==============================] - 87s 82ms/step - loss: 0.5605 - accuracy: 0.8145 - val_loss: 11.7141 - val_accuracy: 0.0000e+00\n",
            "Epoch 5/20\n",
            "1059/1059 [==============================] - 85s 80ms/step - loss: 0.4752 - accuracy: 0.8434 - val_loss: 12.7073 - val_accuracy: 0.0184\n",
            "Epoch 6/20\n",
            "1059/1059 [==============================] - 86s 81ms/step - loss: 0.4334 - accuracy: 0.8604 - val_loss: 12.5715 - val_accuracy: 0.0201\n",
            "Epoch 7/20\n",
            "1059/1059 [==============================] - 85s 80ms/step - loss: 0.3878 - accuracy: 0.8767 - val_loss: 15.3481 - val_accuracy: 0.0428\n",
            "Epoch 8/20\n",
            "1059/1059 [==============================] - 84s 80ms/step - loss: 0.3533 - accuracy: 0.8876 - val_loss: 16.1433 - val_accuracy: 0.0663\n",
            "Epoch 9/20\n",
            "1059/1059 [==============================] - 86s 81ms/step - loss: 0.3342 - accuracy: 0.8974 - val_loss: 16.0042 - val_accuracy: 0.0694\n",
            "Epoch 10/20\n",
            "1059/1059 [==============================] - 84s 79ms/step - loss: 0.3107 - accuracy: 0.9032 - val_loss: 18.0056 - val_accuracy: 0.0677\n",
            "Epoch 11/20\n",
            "1059/1059 [==============================] - 86s 81ms/step - loss: 0.3062 - accuracy: 0.9069 - val_loss: 17.2675 - val_accuracy: 0.0706\n",
            "Epoch 12/20\n",
            "1059/1059 [==============================] - 85s 80ms/step - loss: 0.2868 - accuracy: 0.9121 - val_loss: 18.4105 - val_accuracy: 0.0776\n",
            "Epoch 13/20\n",
            "1059/1059 [==============================] - 86s 81ms/step - loss: 0.2880 - accuracy: 0.9132 - val_loss: 19.0203 - val_accuracy: 0.0765\n",
            "Epoch 14/20\n",
            "1059/1059 [==============================] - 84s 79ms/step - loss: 0.2770 - accuracy: 0.9171 - val_loss: 17.9081 - val_accuracy: 0.0833\n",
            "Epoch 15/20\n",
            "1059/1059 [==============================] - 87s 82ms/step - loss: 0.2659 - accuracy: 0.9218 - val_loss: 17.6105 - val_accuracy: 0.0796\n",
            "Epoch 16/20\n",
            "1059/1059 [==============================] - 85s 80ms/step - loss: 0.2493 - accuracy: 0.9264 - val_loss: 20.0905 - val_accuracy: 0.0830\n",
            "Epoch 17/20\n",
            "1059/1059 [==============================] - 86s 82ms/step - loss: 0.2492 - accuracy: 0.9270 - val_loss: 19.8544 - val_accuracy: 0.0717\n",
            "Epoch 18/20\n",
            "1059/1059 [==============================] - 87s 82ms/step - loss: 0.2533 - accuracy: 0.9262 - val_loss: 19.5288 - val_accuracy: 0.0776\n",
            "Epoch 19/20\n",
            "1059/1059 [==============================] - 85s 80ms/step - loss: 0.2348 - accuracy: 0.9310 - val_loss: 19.7456 - val_accuracy: 0.0825\n",
            "Epoch 20/20\n",
            "1059/1059 [==============================] - 87s 82ms/step - loss: 0.2307 - accuracy: 0.9322 - val_loss: 20.3873 - val_accuracy: 0.0827\n"
          ]
        }
      ],
      "source": [
        "history = model.fit(X_train, y_train, validation_split=0.1, epochs = 20, batch_size = 30, verbose = 1, shuffle = True)"
      ]
    },
    {
      "cell_type": "code",
      "execution_count": 14,
      "metadata": {
        "colab": {
          "base_uri": "https://localhost:8080/"
        },
        "id": "XlOJ_8HzHetd",
        "outputId": "3ec91331-fe43-4a93-abc1-a6c7a9f3dce7"
      },
      "outputs": [
        {
          "output_type": "stream",
          "name": "stdout",
          "text": [
            "(3921, 25, 25, 3)\n",
            "(3921, 43)\n"
          ]
        }
      ],
      "source": [
        "print(X_val.shape)\n",
        "print(y_val.shape)"
      ]
    },
    {
      "cell_type": "code",
      "execution_count": 15,
      "metadata": {
        "colab": {
          "base_uri": "https://localhost:8080/"
        },
        "id": "pW0qrFIA0rE9",
        "outputId": "31225655-3221-48d3-9de8-a4952d651f2a"
      },
      "outputs": [
        {
          "output_type": "stream",
          "name": "stdout",
          "text": [
            "123/123 [==============================] - 2s 19ms/step - loss: 18.9134 - accuracy: 0.0000e+00\n",
            "Test loss: 18.913387298583984\n",
            "Test accuracy: 0.0\n"
          ]
        }
      ],
      "source": [
        "scores = model.evaluate(X_val, y_val, verbose=1)\n",
        "print('Test loss:', scores[0])\n",
        "print('Test accuracy:', scores[1])"
      ]
    },
    {
      "cell_type": "code",
      "execution_count": 16,
      "metadata": {
        "colab": {
          "base_uri": "https://localhost:8080/",
          "height": 489
        },
        "id": "oEV_Dyb00zPP",
        "outputId": "d1956093-a8b6-45b5-8f15-71bf6fb8f594"
      },
      "outputs": [
        {
          "output_type": "execute_result",
          "data": {
            "text/plain": [
              "Text(0.5, 0, 'epoch')"
            ]
          },
          "metadata": {},
          "execution_count": 16
        },
        {
          "output_type": "display_data",
          "data": {
            "text/plain": [
              "<Figure size 640x480 with 1 Axes>"
            ],
            "image/png": "[encoded data removed]"
          },
          "metadata": {}
        }
      ],
      "source": [
        "plt.plot(history.history['loss'])\n",
        "plt.plot(history.history['val_loss'])\n",
        "plt.legend(['loss', 'val_loss'])\n",
        "plt.title('Loss')\n",
        "plt.xlabel('epoch')"
      ]
    },
    {
      "cell_type": "code",
      "execution_count": 17,
      "metadata": {
        "colab": {
          "base_uri": "https://localhost:8080/",
          "height": 489
        },
        "id": "0QnI07ib04f0",
        "outputId": "7fbc59f2-23f2-4748-dd17-bd258fcb20ad"
      },
      "outputs": [
        {
          "output_type": "execute_result",
          "data": {
            "text/plain": [
              "Text(0.5, 0, 'epoch')"
            ]
          },
          "metadata": {},
          "execution_count": 17
        },
        {
          "output_type": "display_data",
          "data": {
            "text/plain": [
              "<Figure size 640x480 with 1 Axes>"
            ],
            "image/png": "[encoded data removed]"
          },
          "metadata": {}
        }
      ],
      "source": [
        "plt.plot(history.history['accuracy'])\n",
        "plt.plot(history.history['val_accuracy'])\n",
        "plt.legend(['acc', 'val_acc'])\n",
        "plt.title('Accuracy')\n",
        "plt.xlabel('epoch')"
      ]
    },
    {
      "cell_type": "code",
      "execution_count": 18,
      "metadata": {
        "colab": {
          "base_uri": "https://localhost:8080/",
          "height": 430
        },
        "id": "xH7qpCSW1H06",
        "outputId": "76bc4056-4d59-4b1d-b33f-8d995a2779db"
      },
      "outputs": [
        {
          "output_type": "display_data",
          "data": {
            "text/plain": [
              "<Figure size 640x480 with 1 Axes>"
            ],
            "image/png": "[encoded data removed]"
          },
          "metadata": {}
        }
      ],
      "source": [
        "import cv2\n",
        "import glob\n",
        "import matplotlib.pyplot as plt\n",
        "\n",
        "TstImg = glob.glob('/content/drive/MyDrive/GTRA/Test/*')\n",
        "TstImg = ID0[0]  # Selecciona la primera imagen de la lista\n",
        "\n",
        "img_arr = cv2.imread(TstImg)  # Carga la imagen utilizando cv2.imread\n",
        "img_rs = cv2.resize(img_arr, (25, 25))  # Redimensiona la imagen a 25x25\n",
        "img_dim = np.expand_dims(img_rs, axis=0)  # Agrega una dimensión adicional\n",
        "\n",
        "plt.imshow(img_rs)\n",
        "plt.show()"
      ]
    },
    {
      "cell_type": "code",
      "execution_count": 19,
      "metadata": {
        "colab": {
          "base_uri": "https://localhost:8080/"
        },
        "id": "d4_JJR0OMKqb",
        "outputId": "bb0fc692-95e2-47a7-d10a-13a051cbcd72"
      },
      "outputs": [
        {
          "output_type": "stream",
          "name": "stdout",
          "text": [
            "(1, 25, 25, 3)\n"
          ]
        }
      ],
      "source": [
        "print(img_dim.shape)"
      ]
    },
    {
      "cell_type": "code",
      "execution_count": 20,
      "metadata": {
        "colab": {
          "base_uri": "https://localhost:8080/"
        },
        "id": "5WPn5n2w1G52",
        "outputId": "15754f9a-1488-4fb2-e153-b336884d16a9"
      },
      "outputs": [
        {
          "output_type": "stream",
          "name": "stdout",
          "text": [
            "1/1 [==============================] - 0s 265ms/step\n",
            "objeto: [0]\n"
          ]
        }
      ],
      "source": [
        "prediction = np.argmax(model.predict(img_dim), axis=-1)\n",
        "print(\"objeto:\", str(prediction))"
      ]
    },
    {
      "cell_type": "code",
      "source": [],
      "metadata": {
        "id": "5u6fg0ewYD40"
      },
      "execution_count": null,
      "outputs": []
    }
  ],
  "metadata": {
    "accelerator": "GPU",
    "colab": {
      "provenance": []
    },
    "kernelspec": {
      "display_name": "Python 3",
      "name": "python3"
    },
    "language_info": {
      "name": "python"
    }
  },
  "nbformat": 4,
  "nbformat_minor": 0
}