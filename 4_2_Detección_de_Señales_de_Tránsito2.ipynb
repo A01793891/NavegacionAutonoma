{
  "nbformat": 4,
  "nbformat_minor": 0,
  "metadata": {
    "colab": {
      "provenance": [],
      "gpuType": "T4",
      "include_colab_link": true
    },
    "kernelspec": {
      "name": "python3",
      "display_name": "Python 3"
    },
    "language_info": {
      "name": "python"
    },
    "accelerator": "GPU"
  },
  "cells": [
    {
      "cell_type": "markdown",
      "metadata": {
        "id": "view-in-github",
        "colab_type": "text"
      },
      "source": [
        "<a href=\"https://colab.research.google.com/github/aalr007/NavegacionAutonoma/blob/main/4_2_Detecci%C3%B3n_de_Se%C3%B1ales_de_Tr%C3%A1nsito2.ipynb\" target=\"_parent\"><img src=\"https://colab.research.google.com/assets/colab-badge.svg\" alt=\"Open In Colab\"/></a>"
      ]
    },
    {
      "cell_type": "markdown",
      "source": [
        "# <center> ***Navegación Autónoma*** </center>\n",
        "## <center> ***Actividad 4.2 - Detección de Señales de Tránsito*** </center>\n",
        "\n",
        "### Profesor: Dr. David Antonio Torres\n",
        "### Alumnos: \n",
        "* Andrei García Torres               A01793891\n",
        "* Aurelio Antonio Lozano Rábago      A01081266\n",
        "* Jorge Luis Tapia Peñaloza          A01793013\n",
        "* Luis Alfredo Negron Naldos         A01793865\n",
        "\n",
        "#### <p style='text-align: right;'> 11 de Junio del 2023 </p>"
      ],
      "metadata": {
        "id": "znbCd227raWG"
      }
    },
    {
      "cell_type": "code",
      "execution_count": 4,
      "metadata": {
        "id": "RZTJ9g4erY1p"
      },
      "outputs": [],
      "source": [
        "import numpy as np\n",
        "import matplotlib.pyplot as plt\n",
        "import keras\n",
        "from keras.datasets import cifar10\n",
        "from keras.models import Sequential\n",
        "from keras.layers import Dense\n",
        "from keras.optimizers import Adam\n",
        "from keras.utils.np_utils import to_categorical\n",
        "import random\n",
        "     \n",
        "from keras.layers import Dropout\n",
        "from keras.layers import Flatten\n",
        "from keras.layers.convolutional import Conv2D\n",
        "from keras.layers.convolutional import MaxPooling2D\n",
        "     \n",
        "from keras.models import Model\n",
        "\n",
        "import matplotlib.image as mpimg\n",
        "import seaborn as sns\n",
        "import cv2\n",
        "\n",
        "from google.colab import drive\n",
        "import glob"
      ]
    },
    {
      "cell_type": "markdown",
      "source": [
        "#Se carga el dataset y se verifica el número de muestras en cada set"
      ],
      "metadata": {
        "id": "4G2VvEdAXB10"
      }
    },
    {
      "cell_type": "code",
      "source": [
        "drive.mount('/content/drive',force_remount=True)\n",
        "file_path = '/content/drive/MyDrive/MNA/NavAutonoma/GTRS/*'\n"
      ],
      "metadata": {
        "id": "eU6TQjt5XIOG",
        "colab": {
          "base_uri": "https://localhost:8080/"
        },
        "outputId": "1538db42-b723-4dbf-9af0-771d81c583cf"
      },
      "execution_count": 5,
      "outputs": [
        {
          "output_type": "stream",
          "name": "stdout",
          "text": [
            "Mounted at /content/drive\n"
          ]
        }
      ]
    },
    {
      "cell_type": "code",
      "source": [
        "ID0 = glob.glob('/content/drive/MyDrive/MNA/NavAutonoma/GTRS/0/*')\n",
        "ID1 = glob.glob('/content/drive/MyDrive/MNA/NavAutonoma/GTRS/1/*')\n",
        "ID2 = glob.glob('/content/drive/MyDrive/MNA/NavAutonoma/GTRS/2/*')\n",
        "ID3 = glob.glob('/content/drive/MyDrive/MNA/NavAutonoma/GTRS/3/*')\n",
        "ID4 = glob.glob('/content/drive/MyDrive/MNA/NavAutonoma/GTRS/4/*')\n",
        "ID5 = glob.glob('/content/drive/MyDrive/MNA/NavAutonoma/GTRS/5/*')\n",
        "ID6 = glob.glob('/content/drive/MyDrive/MNA/NavAutonoma/GTRS/6/*')\n",
        "ID7 = glob.glob('/content/drive/MyDrive/MNA/NavAutonoma/GTRS/7/*')\n",
        "ID8 = glob.glob('/content/drive/MyDrive/MNA/NavAutonoma/GTRS/8/*')\n",
        "ID9 = glob.glob('/content/drive/MyDrive/MNA/NavAutonoma/GTRS/9/*')\n",
        "ID10 = glob.glob('/content/drive/MyDrive/MNA/NavAutonoma/GTRS/10/*')\n",
        "ID11 = glob.glob('/content/drive/MyDrive/MNA/NavAutonoma/GTRS/11/*')\n",
        "ID12 = glob.glob('/content/drive/MyDrive/MNA/NavAutonoma/GTRS/12/*')\n",
        "ID13 = glob.glob('/content/drive/MyDrive/MNA/NavAutonoma/GTRS/13/*')\n",
        "ID14 = glob.glob('/content/drive/MyDrive/MNA/NavAutonoma/GTRS/14/*')\n",
        "ID15 = glob.glob('/content/drive/MyDrive/MNA/NavAutonoma/GTRS/15/*')\n",
        "ID16 = glob.glob('/content/drive/MyDrive/MNA/NavAutonoma/GTRS/16/*')\n",
        "ID17 = glob.glob('/content/drive/MyDrive/MNA/NavAutonoma/GTRS/17/*')\n",
        "ID18 = glob.glob('/content/drive/MyDrive/MNA/NavAutonoma/GTRS/18/*')\n",
        "ID19 = glob.glob('/content/drive/MyDrive/MNA/NavAutonoma/GTRS/19/*')\n",
        "ID20 = glob.glob('/content/drive/MyDrive/MNA/NavAutonoma/GTRS/20/*')\n",
        "ID21 = glob.glob('/content/drive/MyDrive/MNA/NavAutonoma/GTRS/21/*')\n",
        "ID22 = glob.glob('/content/drive/MyDrive/MNA/NavAutonoma/GTRS/22/*')\n",
        "ID23 = glob.glob('/content/drive/MyDrive/MNA/NavAutonoma/GTRS/23/*')\n",
        "ID24 = glob.glob('/content/drive/MyDrive/MNA/NavAutonoma/GTRS/24/*')\n",
        "ID25 = glob.glob('/content/drive/MyDrive/MNA/NavAutonoma/GTRS/25/*')\n",
        "ID26 = glob.glob('/content/drive/MyDrive/MNA/NavAutonoma/GTRS/26/*')\n",
        "ID27 = glob.glob('/content/drive/MyDrive/MNA/NavAutonoma/GTRS/27/*')\n",
        "ID28 = glob.glob('/content/drive/MyDrive/MNA/NavAutonoma/GTRS/28/*')\n",
        "ID29 = glob.glob('/content/drive/MyDrive/MNA/NavAutonoma/GTRS/29/*')\n",
        "ID30 = glob.glob('/content/drive/MyDrive/MNA/NavAutonoma/GTRS/30/*')\n",
        "ID31 = glob.glob('/content/drive/MyDrive/MNA/NavAutonoma/GTRS/31/*')\n",
        "ID32 = glob.glob('/content/drive/MyDrive/MNA/NavAutonoma/GTRS/32/*')\n",
        "ID33 = glob.glob('/content/drive/MyDrive/MNA/NavAutonoma/GTRS/33/*')\n",
        "ID34 = glob.glob('/content/drive/MyDrive/MNA/NavAutonoma/GTRS/34/*')\n",
        "ID35 = glob.glob('/content/drive/MyDrive/MNA/NavAutonoma/GTRS/35/*')\n",
        "ID36 = glob.glob('/content/drive/MyDrive/MNA/NavAutonoma/GTRS/36/*')\n",
        "ID37 = glob.glob('/content/drive/MyDrive/MNA/NavAutonoma/GTRS/37/*')\n",
        "ID38 = glob.glob('/content/drive/MyDrive/MNA/NavAutonoma/GTRS/38/*')\n",
        "ID39 = glob.glob('/content/drive/MyDrive/MNA/NavAutonoma/GTRS/39/*')\n",
        "ID40 = glob.glob('/content/drive/MyDrive/MNA/NavAutonoma/GTRS/40/*')\n",
        "ID41 = glob.glob('/content/drive/MyDrive/MNA/NavAutonoma/GTRS/41/*')\n",
        "ID42 = glob.glob('/content/drive/MyDrive/MNA/NavAutonoma/GTRS/42/*')"
      ],
      "metadata": {
        "id": "UOkdfgq6n-Wo"
      },
      "execution_count": 6,
      "outputs": []
    },
    {
      "cell_type": "code",
      "source": [
        "print(ID0)"
      ],
      "metadata": {
        "colab": {
          "base_uri": "https://localhost:8080/"
        },
        "id": "2MUDb3DwMOJG",
        "outputId": "04c3130a-1603-4b89-8acb-ecfd8f8f2808"
      },
      "execution_count": 7,
      "outputs": [
        {
          "output_type": "stream",
          "name": "stdout",
          "text": [
            "['/content/drive/MyDrive/MNA/NavAutonoma/GTRS/0/00000_00000_00026.png', '/content/drive/MyDrive/MNA/NavAutonoma/GTRS/0/00000_00001_00009.png', '/content/drive/MyDrive/MNA/NavAutonoma/GTRS/0/00000_00001_00005.png', '/content/drive/MyDrive/MNA/NavAutonoma/GTRS/0/00000_00000_00029.png', '/content/drive/MyDrive/MNA/NavAutonoma/GTRS/0/00000_00002_00000.png', '/content/drive/MyDrive/MNA/NavAutonoma/GTRS/0/00000_00000_00003.png', '/content/drive/MyDrive/MNA/NavAutonoma/GTRS/0/00000_00000_00025.png', '/content/drive/MyDrive/MNA/NavAutonoma/GTRS/0/00000_00001_00013.png', '/content/drive/MyDrive/MNA/NavAutonoma/GTRS/0/00000_00001_00016.png', '/content/drive/MyDrive/MNA/NavAutonoma/GTRS/0/00000_00001_00029.png', '/content/drive/MyDrive/MNA/NavAutonoma/GTRS/0/00000_00001_00006.png', '/content/drive/MyDrive/MNA/NavAutonoma/GTRS/0/00000_00000_00007.png', '/content/drive/MyDrive/MNA/NavAutonoma/GTRS/0/00000_00001_00018.png', '/content/drive/MyDrive/MNA/NavAutonoma/GTRS/0/00000_00001_00024.png', '/content/drive/MyDrive/MNA/NavAutonoma/GTRS/0/00000_00000_00017.png', '/content/drive/MyDrive/MNA/NavAutonoma/GTRS/0/00000_00000_00016.png', '/content/drive/MyDrive/MNA/NavAutonoma/GTRS/0/00000_00001_00015.png', '/content/drive/MyDrive/MNA/NavAutonoma/GTRS/0/00000_00000_00011.png', '/content/drive/MyDrive/MNA/NavAutonoma/GTRS/0/00000_00000_00006.png', '/content/drive/MyDrive/MNA/NavAutonoma/GTRS/0/00000_00002_00002.png', '/content/drive/MyDrive/MNA/NavAutonoma/GTRS/0/00000_00001_00023.png', '/content/drive/MyDrive/MNA/NavAutonoma/GTRS/0/00000_00001_00027.png', '/content/drive/MyDrive/MNA/NavAutonoma/GTRS/0/00000_00001_00025.png', '/content/drive/MyDrive/MNA/NavAutonoma/GTRS/0/00000_00000_00010.png', '/content/drive/MyDrive/MNA/NavAutonoma/GTRS/0/00000_00000_00014.png', '/content/drive/MyDrive/MNA/NavAutonoma/GTRS/0/00000_00001_00019.png', '/content/drive/MyDrive/MNA/NavAutonoma/GTRS/0/00000_00000_00020.png', '/content/drive/MyDrive/MNA/NavAutonoma/GTRS/0/00000_00000_00005.png', '/content/drive/MyDrive/MNA/NavAutonoma/GTRS/0/00000_00000_00001.png', '/content/drive/MyDrive/MNA/NavAutonoma/GTRS/0/00000_00000_00008.png', '/content/drive/MyDrive/MNA/NavAutonoma/GTRS/0/00000_00000_00022.png', '/content/drive/MyDrive/MNA/NavAutonoma/GTRS/0/00000_00001_00022.png', '/content/drive/MyDrive/MNA/NavAutonoma/GTRS/0/00000_00001_00020.png', '/content/drive/MyDrive/MNA/NavAutonoma/GTRS/0/00000_00000_00023.png', '/content/drive/MyDrive/MNA/NavAutonoma/GTRS/0/00000_00000_00027.png', '/content/drive/MyDrive/MNA/NavAutonoma/GTRS/0/00000_00000_00028.png', '/content/drive/MyDrive/MNA/NavAutonoma/GTRS/0/00000_00001_00000.png', '/content/drive/MyDrive/MNA/NavAutonoma/GTRS/0/00000_00001_00003.png', '/content/drive/MyDrive/MNA/NavAutonoma/GTRS/0/00000_00001_00017.png', '/content/drive/MyDrive/MNA/NavAutonoma/GTRS/0/00000_00001_00014.png', '/content/drive/MyDrive/MNA/NavAutonoma/GTRS/0/00000_00002_00003.png', '/content/drive/MyDrive/MNA/NavAutonoma/GTRS/0/00000_00000_00015.png', '/content/drive/MyDrive/MNA/NavAutonoma/GTRS/0/00000_00001_00002.png', '/content/drive/MyDrive/MNA/NavAutonoma/GTRS/0/00000_00000_00024.png', '/content/drive/MyDrive/MNA/NavAutonoma/GTRS/0/00000_00001_00008.png', '/content/drive/MyDrive/MNA/NavAutonoma/GTRS/0/00000_00001_00004.png', '/content/drive/MyDrive/MNA/NavAutonoma/GTRS/0/00000_00001_00021.png', '/content/drive/MyDrive/MNA/NavAutonoma/GTRS/0/00000_00001_00026.png', '/content/drive/MyDrive/MNA/NavAutonoma/GTRS/0/00000_00000_00013.png', '/content/drive/MyDrive/MNA/NavAutonoma/GTRS/0/00000_00001_00007.png', '/content/drive/MyDrive/MNA/NavAutonoma/GTRS/0/00000_00001_00012.png', '/content/drive/MyDrive/MNA/NavAutonoma/GTRS/0/00000_00000_00002.png', '/content/drive/MyDrive/MNA/NavAutonoma/GTRS/0/00000_00000_00004.png', '/content/drive/MyDrive/MNA/NavAutonoma/GTRS/0/00000_00000_00021.png', '/content/drive/MyDrive/MNA/NavAutonoma/GTRS/0/00000_00000_00018.png', '/content/drive/MyDrive/MNA/NavAutonoma/GTRS/0/00000_00000_00000.png', '/content/drive/MyDrive/MNA/NavAutonoma/GTRS/0/00000_00000_00019.png', '/content/drive/MyDrive/MNA/NavAutonoma/GTRS/0/00000_00001_00001.png', '/content/drive/MyDrive/MNA/NavAutonoma/GTRS/0/00000_00000_00009.png', '/content/drive/MyDrive/MNA/NavAutonoma/GTRS/0/00000_00000_00012.png', '/content/drive/MyDrive/MNA/NavAutonoma/GTRS/0/00000_00002_00001.png', '/content/drive/MyDrive/MNA/NavAutonoma/GTRS/0/00000_00002_00005.png', '/content/drive/MyDrive/MNA/NavAutonoma/GTRS/0/00000_00001_00028.png', '/content/drive/MyDrive/MNA/NavAutonoma/GTRS/0/00000_00002_00004.png', '/content/drive/MyDrive/MNA/NavAutonoma/GTRS/0/00000_00001_00010.png', '/content/drive/MyDrive/MNA/NavAutonoma/GTRS/0/00000_00001_00011.png', '/content/drive/MyDrive/MNA/NavAutonoma/GTRS/0/00000_00002_00027.png', '/content/drive/MyDrive/MNA/NavAutonoma/GTRS/0/00000_00003_00013.png', '/content/drive/MyDrive/MNA/NavAutonoma/GTRS/0/00000_00003_00024.png', '/content/drive/MyDrive/MNA/NavAutonoma/GTRS/0/00000_00003_00010.png', '/content/drive/MyDrive/MNA/NavAutonoma/GTRS/0/00000_00002_00018.png', '/content/drive/MyDrive/MNA/NavAutonoma/GTRS/0/00000_00002_00010.png', '/content/drive/MyDrive/MNA/NavAutonoma/GTRS/0/00000_00003_00009.png', '/content/drive/MyDrive/MNA/NavAutonoma/GTRS/0/00000_00005_00008.png', '/content/drive/MyDrive/MNA/NavAutonoma/GTRS/0/00000_00002_00012.png', '/content/drive/MyDrive/MNA/NavAutonoma/GTRS/0/00000_00005_00005.png', '/content/drive/MyDrive/MNA/NavAutonoma/GTRS/0/00000_00002_00008.png', '/content/drive/MyDrive/MNA/NavAutonoma/GTRS/0/00000_00002_00013.png', '/content/drive/MyDrive/MNA/NavAutonoma/GTRS/0/00000_00003_00018.png', '/content/drive/MyDrive/MNA/NavAutonoma/GTRS/0/00000_00003_00012.png', '/content/drive/MyDrive/MNA/NavAutonoma/GTRS/0/00000_00005_00015.png', '/content/drive/MyDrive/MNA/NavAutonoma/GTRS/0/00000_00003_00016.png', '/content/drive/MyDrive/MNA/NavAutonoma/GTRS/0/00000_00002_00028.png', '/content/drive/MyDrive/MNA/NavAutonoma/GTRS/0/00000_00004_00005.png', '/content/drive/MyDrive/MNA/NavAutonoma/GTRS/0/00000_00004_00006.png', '/content/drive/MyDrive/MNA/NavAutonoma/GTRS/0/00000_00002_00021.png', '/content/drive/MyDrive/MNA/NavAutonoma/GTRS/0/00000_00005_00012.png', '/content/drive/MyDrive/MNA/NavAutonoma/GTRS/0/00000_00004_00003.png', '/content/drive/MyDrive/MNA/NavAutonoma/GTRS/0/00000_00004_00004.png', '/content/drive/MyDrive/MNA/NavAutonoma/GTRS/0/00000_00003_00023.png', '/content/drive/MyDrive/MNA/NavAutonoma/GTRS/0/00000_00005_00007.png', '/content/drive/MyDrive/MNA/NavAutonoma/GTRS/0/00000_00004_00008.png', '/content/drive/MyDrive/MNA/NavAutonoma/GTRS/0/00000_00002_00016.png', '/content/drive/MyDrive/MNA/NavAutonoma/GTRS/0/00000_00003_00003.png', '/content/drive/MyDrive/MNA/NavAutonoma/GTRS/0/00000_00003_00007.png', '/content/drive/MyDrive/MNA/NavAutonoma/GTRS/0/00000_00005_00013.png', '/content/drive/MyDrive/MNA/NavAutonoma/GTRS/0/00000_00004_00019.png', '/content/drive/MyDrive/MNA/NavAutonoma/GTRS/0/00000_00003_00005.png', '/content/drive/MyDrive/MNA/NavAutonoma/GTRS/0/00000_00003_00004.png', '/content/drive/MyDrive/MNA/NavAutonoma/GTRS/0/00000_00004_00012.png', '/content/drive/MyDrive/MNA/NavAutonoma/GTRS/0/00000_00002_00019.png', '/content/drive/MyDrive/MNA/NavAutonoma/GTRS/0/00000_00003_00015.png', '/content/drive/MyDrive/MNA/NavAutonoma/GTRS/0/00000_00004_00010.png', '/content/drive/MyDrive/MNA/NavAutonoma/GTRS/0/00000_00003_00008.png', '/content/drive/MyDrive/MNA/NavAutonoma/GTRS/0/00000_00004_00024.png', '/content/drive/MyDrive/MNA/NavAutonoma/GTRS/0/00000_00004_00017.png', '/content/drive/MyDrive/MNA/NavAutonoma/GTRS/0/00000_00005_00017.png', '/content/drive/MyDrive/MNA/NavAutonoma/GTRS/0/00000_00003_00022.png', '/content/drive/MyDrive/MNA/NavAutonoma/GTRS/0/00000_00004_00027.png', '/content/drive/MyDrive/MNA/NavAutonoma/GTRS/0/00000_00003_00029.png', '/content/drive/MyDrive/MNA/NavAutonoma/GTRS/0/00000_00004_00014.png', '/content/drive/MyDrive/MNA/NavAutonoma/GTRS/0/00000_00004_00002.png', '/content/drive/MyDrive/MNA/NavAutonoma/GTRS/0/00000_00004_00009.png', '/content/drive/MyDrive/MNA/NavAutonoma/GTRS/0/00000_00005_00002.png', '/content/drive/MyDrive/MNA/NavAutonoma/GTRS/0/00000_00004_00025.png', '/content/drive/MyDrive/MNA/NavAutonoma/GTRS/0/00000_00005_00000.png', '/content/drive/MyDrive/MNA/NavAutonoma/GTRS/0/00000_00004_00026.png', '/content/drive/MyDrive/MNA/NavAutonoma/GTRS/0/00000_00004_00020.png', '/content/drive/MyDrive/MNA/NavAutonoma/GTRS/0/00000_00003_00000.png', '/content/drive/MyDrive/MNA/NavAutonoma/GTRS/0/00000_00002_00017.png', '/content/drive/MyDrive/MNA/NavAutonoma/GTRS/0/00000_00002_00026.png', '/content/drive/MyDrive/MNA/NavAutonoma/GTRS/0/00000_00004_00001.png', '/content/drive/MyDrive/MNA/NavAutonoma/GTRS/0/00000_00004_00016.png', '/content/drive/MyDrive/MNA/NavAutonoma/GTRS/0/00000_00003_00011.png', '/content/drive/MyDrive/MNA/NavAutonoma/GTRS/0/00000_00004_00018.png', '/content/drive/MyDrive/MNA/NavAutonoma/GTRS/0/00000_00002_00023.png', '/content/drive/MyDrive/MNA/NavAutonoma/GTRS/0/00000_00004_00028.png', '/content/drive/MyDrive/MNA/NavAutonoma/GTRS/0/00000_00002_00015.png', '/content/drive/MyDrive/MNA/NavAutonoma/GTRS/0/00000_00003_00021.png', '/content/drive/MyDrive/MNA/NavAutonoma/GTRS/0/00000_00003_00028.png', '/content/drive/MyDrive/MNA/NavAutonoma/GTRS/0/00000_00002_00022.png', '/content/drive/MyDrive/MNA/NavAutonoma/GTRS/0/00000_00005_00004.png', '/content/drive/MyDrive/MNA/NavAutonoma/GTRS/0/00000_00003_00006.png', '/content/drive/MyDrive/MNA/NavAutonoma/GTRS/0/00000_00003_00001.png', '/content/drive/MyDrive/MNA/NavAutonoma/GTRS/0/00000_00002_00007.png', '/content/drive/MyDrive/MNA/NavAutonoma/GTRS/0/00000_00002_00029.png', '/content/drive/MyDrive/MNA/NavAutonoma/GTRS/0/00000_00003_00019.png', '/content/drive/MyDrive/MNA/NavAutonoma/GTRS/0/00000_00004_00011.png', '/content/drive/MyDrive/MNA/NavAutonoma/GTRS/0/00000_00003_00026.png', '/content/drive/MyDrive/MNA/NavAutonoma/GTRS/0/00000_00005_00009.png', '/content/drive/MyDrive/MNA/NavAutonoma/GTRS/0/00000_00003_00014.png', '/content/drive/MyDrive/MNA/NavAutonoma/GTRS/0/00000_00002_00014.png', '/content/drive/MyDrive/MNA/NavAutonoma/GTRS/0/00000_00003_00025.png', '/content/drive/MyDrive/MNA/NavAutonoma/GTRS/0/00000_00002_00011.png', '/content/drive/MyDrive/MNA/NavAutonoma/GTRS/0/00000_00002_00009.png', '/content/drive/MyDrive/MNA/NavAutonoma/GTRS/0/00000_00004_00023.png', '/content/drive/MyDrive/MNA/NavAutonoma/GTRS/0/00000_00005_00006.png', '/content/drive/MyDrive/MNA/NavAutonoma/GTRS/0/00000_00005_00014.png', '/content/drive/MyDrive/MNA/NavAutonoma/GTRS/0/00000_00004_00013.png', '/content/drive/MyDrive/MNA/NavAutonoma/GTRS/0/00000_00003_00002.png', '/content/drive/MyDrive/MNA/NavAutonoma/GTRS/0/00000_00005_00016.png', '/content/drive/MyDrive/MNA/NavAutonoma/GTRS/0/00000_00004_00015.png', '/content/drive/MyDrive/MNA/NavAutonoma/GTRS/0/00000_00005_00010.png', '/content/drive/MyDrive/MNA/NavAutonoma/GTRS/0/00000_00003_00017.png', '/content/drive/MyDrive/MNA/NavAutonoma/GTRS/0/00000_00002_00025.png', '/content/drive/MyDrive/MNA/NavAutonoma/GTRS/0/00000_00002_00024.png', '/content/drive/MyDrive/MNA/NavAutonoma/GTRS/0/00000_00004_00021.png', '/content/drive/MyDrive/MNA/NavAutonoma/GTRS/0/00000_00005_00001.png', '/content/drive/MyDrive/MNA/NavAutonoma/GTRS/0/00000_00004_00022.png', '/content/drive/MyDrive/MNA/NavAutonoma/GTRS/0/00000_00004_00029.png', '/content/drive/MyDrive/MNA/NavAutonoma/GTRS/0/00000_00002_00020.png', '/content/drive/MyDrive/MNA/NavAutonoma/GTRS/0/00000_00003_00020.png', '/content/drive/MyDrive/MNA/NavAutonoma/GTRS/0/00000_00004_00007.png', '/content/drive/MyDrive/MNA/NavAutonoma/GTRS/0/00000_00005_00011.png', '/content/drive/MyDrive/MNA/NavAutonoma/GTRS/0/00000_00002_00006.png', '/content/drive/MyDrive/MNA/NavAutonoma/GTRS/0/00000_00004_00000.png', '/content/drive/MyDrive/MNA/NavAutonoma/GTRS/0/00000_00003_00027.png', '/content/drive/MyDrive/MNA/NavAutonoma/GTRS/0/00000_00005_00003.png', '/content/drive/MyDrive/MNA/NavAutonoma/GTRS/0/00000_00005_00021.png', '/content/drive/MyDrive/MNA/NavAutonoma/GTRS/0/00000_00005_00018.png', '/content/drive/MyDrive/MNA/NavAutonoma/GTRS/0/00000_00006_00014.png', '/content/drive/MyDrive/MNA/NavAutonoma/GTRS/0/00000_00006_00008.png', '/content/drive/MyDrive/MNA/NavAutonoma/GTRS/0/00000_00006_00021.png', '/content/drive/MyDrive/MNA/NavAutonoma/GTRS/0/00000_00006_00026.png', '/content/drive/MyDrive/MNA/NavAutonoma/GTRS/0/00000_00006_00003.png', '/content/drive/MyDrive/MNA/NavAutonoma/GTRS/0/00000_00005_00029.png', '/content/drive/MyDrive/MNA/NavAutonoma/GTRS/0/00000_00006_00024.png', '/content/drive/MyDrive/MNA/NavAutonoma/GTRS/0/00000_00006_00015.png', '/content/drive/MyDrive/MNA/NavAutonoma/GTRS/0/00000_00005_00028.png', '/content/drive/MyDrive/MNA/NavAutonoma/GTRS/0/00000_00005_00027.png', '/content/drive/MyDrive/MNA/NavAutonoma/GTRS/0/00000_00006_00009.png', '/content/drive/MyDrive/MNA/NavAutonoma/GTRS/0/00000_00006_00001.png', '/content/drive/MyDrive/MNA/NavAutonoma/GTRS/0/00000_00006_00006.png', '/content/drive/MyDrive/MNA/NavAutonoma/GTRS/0/00000_00006_00005.png', '/content/drive/MyDrive/MNA/NavAutonoma/GTRS/0/00000_00006_00016.png', '/content/drive/MyDrive/MNA/NavAutonoma/GTRS/0/00000_00006_00013.png', '/content/drive/MyDrive/MNA/NavAutonoma/GTRS/0/00000_00006_00010.png', '/content/drive/MyDrive/MNA/NavAutonoma/GTRS/0/00000_00005_00022.png', '/content/drive/MyDrive/MNA/NavAutonoma/GTRS/0/00000_00006_00018.png', '/content/drive/MyDrive/MNA/NavAutonoma/GTRS/0/00000_00006_00017.png', '/content/drive/MyDrive/MNA/NavAutonoma/GTRS/0/00000_00006_00011.png', '/content/drive/MyDrive/MNA/NavAutonoma/GTRS/0/00000_00006_00019.png', '/content/drive/MyDrive/MNA/NavAutonoma/GTRS/0/00000_00006_00000.png', '/content/drive/MyDrive/MNA/NavAutonoma/GTRS/0/00000_00005_00024.png', '/content/drive/MyDrive/MNA/NavAutonoma/GTRS/0/00000_00006_00028.png', '/content/drive/MyDrive/MNA/NavAutonoma/GTRS/0/00000_00006_00022.png', '/content/drive/MyDrive/MNA/NavAutonoma/GTRS/0/00000_00006_00020.png', '/content/drive/MyDrive/MNA/NavAutonoma/GTRS/0/00000_00005_00019.png', '/content/drive/MyDrive/MNA/NavAutonoma/GTRS/0/00000_00006_00029.png', '/content/drive/MyDrive/MNA/NavAutonoma/GTRS/0/00000_00006_00002.png', '/content/drive/MyDrive/MNA/NavAutonoma/GTRS/0/00000_00005_00023.png', '/content/drive/MyDrive/MNA/NavAutonoma/GTRS/0/00000_00006_00007.png', '/content/drive/MyDrive/MNA/NavAutonoma/GTRS/0/00000_00006_00012.png', '/content/drive/MyDrive/MNA/NavAutonoma/GTRS/0/00000_00005_00020.png', '/content/drive/MyDrive/MNA/NavAutonoma/GTRS/0/00000_00006_00023.png', '/content/drive/MyDrive/MNA/NavAutonoma/GTRS/0/00000_00005_00025.png', '/content/drive/MyDrive/MNA/NavAutonoma/GTRS/0/00000_00005_00026.png', '/content/drive/MyDrive/MNA/NavAutonoma/GTRS/0/00000_00006_00025.png', '/content/drive/MyDrive/MNA/NavAutonoma/GTRS/0/00000_00006_00027.png', '/content/drive/MyDrive/MNA/NavAutonoma/GTRS/0/00000_00006_00004.png']\n"
          ]
        }
      ]
    },
    {
      "cell_type": "markdown",
      "source": [
        "Cambiamos el tamaño de las imagenes para que todas sean del mismo tamaño."
      ],
      "metadata": {
        "id": "__ubwhzpoJJE"
      }
    },
    {
      "cell_type": "code",
      "source": [
        "size = (25, 25)\n",
        "IList = [ID0, ID1,ID2, ID3, ID4, ID5, ID6,ID7,ID8,ID9,ID10,ID11,ID12,ID13,ID14,ID15,ID16,ID17,ID18,ID19,ID20,ID21,ID22,ID23,ID24,ID25,ID26,ID27,ID28,ID29,ID30,ID31,ID32,ID33,ID34,ID35,ID26,ID37,ID38,ID39,ID40,ID41,ID42]\n",
        "X = []\n",
        "\n",
        "for sublist in IList:\n",
        "    images = [cv2.resize(plt.imread(img_path), size) for img_path in sublist]\n",
        "    X.extend(images)\n",
        "\n",
        "X = np.array(X)"
      ],
      "metadata": {
        "id": "NcMYkwyvu9DD"
      },
      "execution_count": null,
      "outputs": []
    },
    {
      "cell_type": "markdown",
      "source": [
        "Convertir la lista de listas en un arreglo unidimensional"
      ],
      "metadata": {
        "id": "JRaumpRvrdlv"
      }
    },
    {
      "cell_type": "code",
      "source": [
        "print(X.shape)"
      ],
      "metadata": {
        "id": "q9_3zeWUt9Cx"
      },
      "execution_count": null,
      "outputs": []
    },
    {
      "cell_type": "markdown",
      "source": [
        "Imprimimos una imagen para checar"
      ],
      "metadata": {
        "id": "GITDyVUtoSQj"
      }
    },
    {
      "cell_type": "markdown",
      "source": [
        "Creamos las etiquetas de la salida"
      ],
      "metadata": {
        "id": "oXjN66O8oVRF"
      }
    },
    {
      "cell_type": "code",
      "source": [
        "Y0 = [0] * len(ID0)\n",
        "Y1 = [1] * len(ID1)\n",
        "Y2 = [2] * len(ID2)\n",
        "Y3 = [3] * len(ID3)\n",
        "Y4 = [4] * len(ID4)\n",
        "Y5 = [5] * len(ID5)\n",
        "Y6 = [6] * len(ID6)\n",
        "Y7 = [7] * len(ID7)\n",
        "Y8 = [8] * len(ID8)\n",
        "Y9 = [9] * len(ID9)\n",
        "Y10 = [10] * len(ID10)\n",
        "Y11 = [11] * len(ID11)\n",
        "Y12 = [12] * len(ID12)\n",
        "Y13 = [13] * len(ID13)\n",
        "Y14 = [14] * len(ID14)\n",
        "Y15 = [15] * len(ID15)\n",
        "Y16 = [16] * len(ID16)\n",
        "Y17 = [17] * len(ID17)\n",
        "Y18 = [18] * len(ID18)\n",
        "Y19 = [19] * len(ID19)\n",
        "Y20 = [20] * len(ID20)\n",
        "Y21 = [21] * len(ID21)\n",
        "Y22 = [22] * len(ID22)\n",
        "Y23 = [23] * len(ID23)\n",
        "Y24 = [24] * len(ID24)\n",
        "Y25 = [25] * len(ID25)\n",
        "Y26 = [26] * len(ID26)\n",
        "Y27 = [27] * len(ID27)\n",
        "Y28 = [28] * len(ID28)\n",
        "Y29 = [29] * len(ID29)\n",
        "Y30 = [30] * len(ID30)\n",
        "Y31 = [31] * len(ID31)\n",
        "Y32 = [32] * len(ID32)\n",
        "Y33 = [33] * len(ID33)\n",
        "Y34 = [34] * len(ID34)\n",
        "Y35 = [35] * len(ID35)\n",
        "Y36 = [36] * len(ID36)\n",
        "Y37 = [37] * len(ID37)\n",
        "Y38 = [38] * len(ID38)\n",
        "Y39 = [39] * len(ID39)\n",
        "Y40 = [40] * len(ID40)\n",
        "Y41 = [41] * len(ID41)\n",
        "Y42 = [42] * len(ID42)"
      ],
      "metadata": {
        "id": "bNO_BWrNLABn"
      },
      "execution_count": null,
      "outputs": []
    },
    {
      "cell_type": "markdown",
      "source": [
        "Hacemos one hot encoding para cada salida"
      ],
      "metadata": {
        "id": "YD1EcHnJoYSz"
      }
    },
    {
      "cell_type": "code",
      "source": [
        "Y = to_categorical (Y0+Y1+Y2+Y3+Y4+Y5+Y6+Y7+Y8+Y9+Y10+Y11+Y12+Y13+Y14+Y15+Y16+Y17+Y18+Y19+Y20+Y21+Y22+Y23+Y24+Y25+Y26+Y27+Y28+Y29+Y30+Y31+Y32+Y33+Y34+Y35+Y36+Y37+Y38+Y39+Y40+Y41+Y42,43)\n",
        "Y = np.array(Y)"
      ],
      "metadata": {
        "id": "Ft-I9XsfoGuA"
      },
      "execution_count": null,
      "outputs": []
    },
    {
      "cell_type": "code",
      "source": [
        "print(Y.shape)"
      ],
      "metadata": {
        "id": "nvCuy5xbvraR"
      },
      "execution_count": null,
      "outputs": []
    },
    {
      "cell_type": "markdown",
      "source": [
        "Se Define el modelo"
      ],
      "metadata": {
        "id": "tDregPNJp3O0"
      }
    },
    {
      "cell_type": "code",
      "source": [
        "model = Sequential()\n",
        "\n",
        "model.add(Conv2D(filters = 32, kernel_size = (3, 3), input_shape = X.shape[1:], activation='relu', padding='same'))\n",
        "model.add(Conv2D(filters = 32, kernel_size = (3, 3), activation='relu'))\n",
        "model.add(MaxPooling2D(pool_size=(2, 2)))\n",
        "model.add(Dropout(0.25))\n",
        "#model.add(AveragePooling2D())\n",
        "\n",
        "model.add(Conv2D(filters = 64, kernel_size = (3, 3), activation='relu', padding='same'))\n",
        "model.add(Conv2D(filters = 64, kernel_size = (3, 3), activation='relu'))\n",
        "model.add(MaxPooling2D(pool_size=(2, 2)))\n",
        "model.add(Dropout(0.25))\n",
        "\n",
        "model.add(Conv2D(filters = 64, kernel_size = (3, 3), activation='relu', padding='same'))\n",
        "model.add(Conv2D(filters = 64, kernel_size = (3, 3), activation='relu'))\n",
        "model.add(MaxPooling2D(pool_size=(2, 2)))\n",
        "model.add(Dropout(0.25))\n",
        "\n",
        "model.add(Flatten())\n",
        "model.add(Dense(units = 512, activation='relu'))\n",
        "model.add(Dropout(0.5))\n",
        "model.add(Dense(units = 43, activation='softmax'))\n",
        "\n",
        "model.compile(Adam(lr = 0.001), loss='categorical_crossentropy', metrics=['accuracy'])\n",
        "print(model.summary())"
      ],
      "metadata": {
        "id": "nMu1Hr4Zp5Au"
      },
      "execution_count": null,
      "outputs": []
    },
    {
      "cell_type": "markdown",
      "source": [
        "Se separa un 10% del set de entrenamiento para fines de validación"
      ],
      "metadata": {
        "id": "OQE6AJk8wO-N"
      }
    },
    {
      "cell_type": "code",
      "source": [
        "# Obtener el índice del punto de corte para separar los datos de entrenamiento y validación\n",
        "split_index = int(len(X) * 0.9)\n",
        "\n",
        "# Separar los datos de entrenamiento y validación\n",
        "X_train = X[:split_index]\n",
        "y_train = Y[:split_index]\n",
        "X_val = X[split_index:]\n",
        "y_val = Y[split_index:]"
      ],
      "metadata": {
        "id": "qncBXjyl0nP6"
      },
      "execution_count": null,
      "outputs": []
    },
    {
      "cell_type": "code",
      "source": [
        "history = model.fit(X_train, y_train, validation_split=0.1, epochs = 30, batch_size = 32, verbose = 1, shuffle = True)"
      ],
      "metadata": {
        "id": "uJ0cpQJDwM5y"
      },
      "execution_count": null,
      "outputs": []
    },
    {
      "cell_type": "code",
      "source": [
        "scores = model.evaluate(X_val, y_val, verbose=1)\n",
        "print('Test loss:', scores[0])\n",
        "print('Test accuracy:', scores[1])"
      ],
      "metadata": {
        "id": "pW0qrFIA0rE9"
      },
      "execution_count": null,
      "outputs": []
    },
    {
      "cell_type": "code",
      "source": [
        "plt.plot(history.history['loss'])\n",
        "plt.plot(history.history['val_loss'])\n",
        "plt.legend(['loss', 'val_loss'])\n",
        "plt.title('Loss')\n",
        "plt.xlabel('epoch')"
      ],
      "metadata": {
        "id": "oEV_Dyb00zPP"
      },
      "execution_count": null,
      "outputs": []
    },
    {
      "cell_type": "code",
      "source": [
        "plt.plot(history.history['accuracy'])\n",
        "plt.plot(history.history['val_accuracy'])\n",
        "plt.legend(['acc', 'val_acc'])\n",
        "plt.title('Accuracy')\n",
        "plt.xlabel('epoch')"
      ],
      "metadata": {
        "id": "0QnI07ib04f0"
      },
      "execution_count": null,
      "outputs": []
    },
    {
      "cell_type": "code",
      "source": [
        "import cv2\n",
        "import glob\n",
        "import matplotlib.pyplot as plt\n",
        "\n",
        "TstImg = glob.glob('/content/drive/MyDrive/MNA/NavAutonoma/GTRS/Test/*')\n",
        "TstImg = ID1[0]  # Selecciona la primera imagen de la lista\n",
        "\n",
        "img_arr = cv2.imread(TstImg)  # Carga la imagen utilizando cv2.imread\n",
        "img_rs = cv2.resize(img_arr, (25, 25))  # Redimensiona la imagen a 25x25\n",
        "img_dim = np.expand_dims(img_rs, axis=0)  # Agrega una dimensión adicional\n",
        "\n",
        "plt.imshow(img_rs)\n",
        "plt.show()"
      ],
      "metadata": {
        "id": "xH7qpCSW1H06"
      },
      "execution_count": null,
      "outputs": []
    },
    {
      "cell_type": "code",
      "source": [
        "print(img_dim.shape)"
      ],
      "metadata": {
        "id": "d4_JJR0OMKqb"
      },
      "execution_count": null,
      "outputs": []
    },
    {
      "cell_type": "code",
      "source": [
        "prediction = np.argmax(model.predict(img_dim), axis=-1)\n",
        "print(\"objeto:\", str(prediction))"
      ],
      "metadata": {
        "id": "5WPn5n2w1G52"
      },
      "execution_count": null,
      "outputs": []
    }
  ]
}