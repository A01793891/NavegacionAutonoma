{
  "nbformat": 4,
  "nbformat_minor": 0,
  "metadata": {
    "colab": {
      "provenance": [],
      "include_colab_link": true
    },
    "kernelspec": {
      "name": "python3",
      "display_name": "Python 3"
    },
    "language_info": {
      "name": "python"
    }
  },
  "cells": [
    {
      "cell_type": "markdown",
      "metadata": {
        "id": "view-in-github",
        "colab_type": "text"
      },
      "source": [
        "<a href=\"https://colab.research.google.com/github/aalr007/NavegacionAutonoma/blob/main/4_2_Detecci%C3%B3n_de_Se%C3%B1ales_de_Tr%C3%A1nsito.ipynb\" target=\"_parent\"><img src=\"https://colab.research.google.com/assets/colab-badge.svg\" alt=\"Open In Colab\"/></a>"
      ]
    },
    {
      "cell_type": "markdown",
      "source": [
        "# <center> ***Navegación Autónoma*** </center>\n",
        "## <center> ***Actividad 4.2 - Detección de Señales de Tránsito*** </center>\n",
        "\n",
        "### Profesor: Dr. David Antonio Torres\n",
        "### Alumnos: \n",
        "* Andrei García Torres               A01793891\n",
        "* Aurelio Antonio Lozano Rábago      A01081266\n",
        "* Jorge Luis Tapia Peñaloza          A01793013\n",
        "* Luis Alfredo Negron Naldos         A01793865\n",
        "\n",
        "#### <p style='text-align: right;'> 11 de Junio del 2023 </p>"
      ],
      "metadata": {
        "id": "znbCd227raWG"
      }
    },
    {
      "cell_type": "code",
      "execution_count": 1,
      "metadata": {
        "id": "RZTJ9g4erY1p"
      },
      "outputs": [],
      "source": [
        "import numpy as np\n",
        "import matplotlib.pyplot as plt\n",
        "import keras\n",
        "from keras.datasets import cifar10\n",
        "from keras.models import Sequential\n",
        "from keras.layers import Dense\n",
        "from keras.optimizers import Adam\n",
        "from keras.utils.np_utils import to_categorical\n",
        "import random\n",
        "     \n",
        "from keras.layers import Dropout\n",
        "from keras.layers import Flatten\n",
        "from keras.layers.convolutional import Conv2D\n",
        "from keras.layers.convolutional import MaxPooling2D\n",
        "     \n",
        "from keras.models import Model\n",
        "\n",
        "import matplotlib.image as mpimg\n",
        "import seaborn as sns\n",
        "import cv2\n",
        "\n",
        "from google.colab import drive\n",
        "import glob"
      ]
    },
    {
      "cell_type": "markdown",
      "source": [
        "#Se carga el dataset y se verifica el número de muestras en cada set"
      ],
      "metadata": {
        "id": "4G2VvEdAXB10"
      }
    },
    {
      "cell_type": "code",
      "source": [
        "drive.mount('/content/drive',force_remount=True)\n",
        "file_path = '/content/drive/MyDrive/MNA/NavAutonoma/GTRS/*'\n"
      ],
      "metadata": {
        "id": "eU6TQjt5XIOG",
        "colab": {
          "base_uri": "https://localhost:8080/"
        },
        "outputId": "333de0f2-6678-497c-c455-79483f9ea938"
      },
      "execution_count": 2,
      "outputs": [
        {
          "output_type": "stream",
          "name": "stdout",
          "text": [
            "Mounted at /content/drive\n"
          ]
        }
      ]
    },
    {
      "cell_type": "code",
      "source": [
        "ID0 = glob.glob('/content/drive/MyDrive/MNA/NavAutonoma/GTRS/0/*')\n",
        "ID1 = glob.glob('/content/drive/MyDrive/MNA/NavAutonoma/GTRS/1/*')"
      ],
      "metadata": {
        "id": "UOkdfgq6n-Wo"
      },
      "execution_count": 3,
      "outputs": []
    },
    {
      "cell_type": "code",
      "source": [
        "print(ID0)"
      ],
      "metadata": {
        "colab": {
          "base_uri": "https://localhost:8080/"
        },
        "id": "2MUDb3DwMOJG",
        "outputId": "6601a5f4-8b4b-46a0-8b5d-6b9fcc570b95"
      },
      "execution_count": 4,
      "outputs": [
        {
          "output_type": "stream",
          "name": "stdout",
          "text": [
            "[]\n"
          ]
        }
      ]
    },
    {
      "cell_type": "code",
      "source": [
        "size = (25,25)\n",
        "\n",
        "IList=[ID0,ID1]\n",
        "for i, sublist in enumerate(IList):\n",
        "  IList[i]= map(plt.imread,IList[i])\n",
        "  IList[i] = map (lambda img: cv2.resize (img, size),IList[i])\n"
      ],
      "metadata": {
        "id": "OQg_6SGRYc4z"
      },
      "execution_count": 5,
      "outputs": []
    },
    {
      "cell_type": "code",
      "source": [
        "Y0 = [0] * len(IList[ID0])\n",
        "Y1 = [0] * len(IList[ID1])"
      ],
      "metadata": {
        "colab": {
          "base_uri": "https://localhost:8080/",
          "height": 183
        },
        "id": "bNO_BWrNLABn",
        "outputId": "4dfcaf35-f5a0-4550-ab93-62c1267490fa"
      },
      "execution_count": 6,
      "outputs": [
        {
          "output_type": "error",
          "ename": "TypeError",
          "evalue": "ignored",
          "traceback": [
            "\u001b[0;31m---------------------------------------------------------------------------\u001b[0m",
            "\u001b[0;31mTypeError\u001b[0m                                 Traceback (most recent call last)",
            "\u001b[0;32m<ipython-input-6-37e8cfb613de>\u001b[0m in \u001b[0;36m<cell line: 1>\u001b[0;34m()\u001b[0m\n\u001b[0;32m----> 1\u001b[0;31m \u001b[0mY0\u001b[0m \u001b[0;34m=\u001b[0m \u001b[0;34m[\u001b[0m\u001b[0;36m0\u001b[0m\u001b[0;34m]\u001b[0m \u001b[0;34m*\u001b[0m \u001b[0mlen\u001b[0m\u001b[0;34m(\u001b[0m\u001b[0mIList\u001b[0m\u001b[0;34m[\u001b[0m\u001b[0mID0\u001b[0m\u001b[0;34m]\u001b[0m\u001b[0;34m)\u001b[0m\u001b[0;34m\u001b[0m\u001b[0;34m\u001b[0m\u001b[0m\n\u001b[0m\u001b[1;32m      2\u001b[0m \u001b[0mY1\u001b[0m \u001b[0;34m=\u001b[0m \u001b[0;34m[\u001b[0m\u001b[0;36m0\u001b[0m\u001b[0;34m]\u001b[0m \u001b[0;34m*\u001b[0m \u001b[0mlen\u001b[0m\u001b[0;34m(\u001b[0m\u001b[0mIList\u001b[0m\u001b[0;34m[\u001b[0m\u001b[0mID1\u001b[0m\u001b[0;34m]\u001b[0m\u001b[0;34m)\u001b[0m\u001b[0;34m\u001b[0m\u001b[0;34m\u001b[0m\u001b[0m\n",
            "\u001b[0;31mTypeError\u001b[0m: list indices must be integers or slices, not list"
          ]
        }
      ]
    }
  ]
}