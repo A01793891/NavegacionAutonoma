{
  "nbformat": 4,
  "nbformat_minor": 0,
  "metadata": {
    "colab": {
      "provenance": [],
      "include_colab_link": true
    },
    "kernelspec": {
      "name": "python3",
      "display_name": "Python 3"
    },
    "language_info": {
      "name": "python"
    }
  },
  "cells": [
    {
      "cell_type": "markdown",
      "metadata": {
        "id": "view-in-github",
        "colab_type": "text"
      },
      "source": [
        "<a href=\"https://colab.research.google.com/github/aalr007/NavegacionAutonoma/blob/main/4_2_Detecci%C3%B3n_de_Se%C3%B1ales_de_Tr%C3%A1nsito.ipynb\" target=\"_parent\"><img src=\"https://colab.research.google.com/assets/colab-badge.svg\" alt=\"Open In Colab\"/></a>"
      ]
    },
    {
      "cell_type": "markdown",
      "source": [
        "# <center> ***Navegación Autónoma*** </center>\n",
        "## <center> ***Actividad 4.2 - Detección de Señales de Tránsito*** </center>\n",
        "\n",
        "### Profesor: Dr. David Antonio Torres\n",
        "### Alumnos: \n",
        "* Andrei García Torres               A01793891\n",
        "* Aurelio Antonio Lozano Rábago      A01081266\n",
        "* Jorge Luis Tapia Peñaloza          A01793013\n",
        "* Luis Alfredo Negron Naldos         A01793865\n",
        "\n",
        "#### <p style='text-align: right;'> 11 de Junio del 2023 </p>"
      ],
      "metadata": {
        "id": "znbCd227raWG"
      }
    },
    {
      "cell_type": "code",
      "execution_count": 24,
      "metadata": {
        "id": "RZTJ9g4erY1p"
      },
      "outputs": [],
      "source": [
        "import numpy as np\n",
        "import matplotlib.pyplot as plt\n",
        "import keras\n",
        "from keras.datasets import cifar10\n",
        "from keras.models import Sequential\n",
        "from keras.layers import Dense\n",
        "from keras.optimizers import Adam\n",
        "from keras.utils.np_utils import to_categorical\n",
        "import random\n",
        "     \n",
        "from keras.layers import Dropout\n",
        "from keras.layers import Flatten\n",
        "from keras.layers.convolutional import Conv2D\n",
        "from keras.layers.convolutional import MaxPooling2D\n",
        "     \n",
        "from keras.models import Model\n",
        "\n",
        "import matplotlib.image as mpimg\n",
        "import seaborn as sns\n",
        "import cv2\n",
        "\n",
        "from google.colab import drive\n",
        "import glob"
      ]
    },
    {
      "cell_type": "markdown",
      "source": [
        "#Se carga el dataset y se verifica el número de muestras en cada set"
      ],
      "metadata": {
        "id": "4G2VvEdAXB10"
      }
    },
    {
      "cell_type": "code",
      "source": [
        "drive.mount('/content/drive',force_remount=True)\n",
        "file_path = '/content/drive/MyDrive/MNA/NavAutonoma/GTRS/*'\n"
      ],
      "metadata": {
        "id": "eU6TQjt5XIOG",
        "colab": {
          "base_uri": "https://localhost:8080/"
        },
        "outputId": "a3a28e52-6349-4fc9-8505-9a35dd7f69d2"
      },
      "execution_count": 25,
      "outputs": [
        {
          "output_type": "stream",
          "name": "stdout",
          "text": [
            "Mounted at /content/drive\n"
          ]
        }
      ]
    },
    {
      "cell_type": "code",
      "source": [
        "ID0 = glob.glob('/content/drive/MyDrive/MNA/NavAutonoma/GTRS/0/*')\n",
        "ID1 = glob.glob('/content/drive/MyDrive/MNA/NavAutonoma/GTRS/1/*')"
      ],
      "metadata": {
        "id": "UOkdfgq6n-Wo"
      },
      "execution_count": 26,
      "outputs": []
    },
    {
      "cell_type": "code",
      "source": [
        "print(ID0)"
      ],
      "metadata": {
        "colab": {
          "base_uri": "https://localhost:8080/"
        },
        "id": "2MUDb3DwMOJG",
        "outputId": "7bba206e-a1df-46e3-ba38-14c1cc587dfa"
      },
      "execution_count": 41,
      "outputs": [
        {
          "output_type": "stream",
          "name": "stdout",
          "text": [
            "['/content/drive/MyDrive/MNA/NavAutonoma/GTRS/0/00000_00000_00026.png', '/content/drive/MyDrive/MNA/NavAutonoma/GTRS/0/00000_00001_00009.png', '/content/drive/MyDrive/MNA/NavAutonoma/GTRS/0/00000_00001_00005.png', '/content/drive/MyDrive/MNA/NavAutonoma/GTRS/0/00000_00000_00029.png', '/content/drive/MyDrive/MNA/NavAutonoma/GTRS/0/00000_00002_00000.png', '/content/drive/MyDrive/MNA/NavAutonoma/GTRS/0/00000_00000_00003.png', '/content/drive/MyDrive/MNA/NavAutonoma/GTRS/0/00000_00000_00025.png', '/content/drive/MyDrive/MNA/NavAutonoma/GTRS/0/00000_00001_00013.png', '/content/drive/MyDrive/MNA/NavAutonoma/GTRS/0/00000_00001_00016.png', '/content/drive/MyDrive/MNA/NavAutonoma/GTRS/0/00000_00001_00029.png', '/content/drive/MyDrive/MNA/NavAutonoma/GTRS/0/00000_00001_00006.png', '/content/drive/MyDrive/MNA/NavAutonoma/GTRS/0/00000_00000_00007.png', '/content/drive/MyDrive/MNA/NavAutonoma/GTRS/0/00000_00001_00018.png', '/content/drive/MyDrive/MNA/NavAutonoma/GTRS/0/00000_00001_00024.png', '/content/drive/MyDrive/MNA/NavAutonoma/GTRS/0/00000_00000_00017.png', '/content/drive/MyDrive/MNA/NavAutonoma/GTRS/0/00000_00000_00016.png', '/content/drive/MyDrive/MNA/NavAutonoma/GTRS/0/00000_00001_00015.png', '/content/drive/MyDrive/MNA/NavAutonoma/GTRS/0/00000_00000_00011.png', '/content/drive/MyDrive/MNA/NavAutonoma/GTRS/0/00000_00000_00006.png', '/content/drive/MyDrive/MNA/NavAutonoma/GTRS/0/00000_00002_00002.png', '/content/drive/MyDrive/MNA/NavAutonoma/GTRS/0/00000_00001_00023.png', '/content/drive/MyDrive/MNA/NavAutonoma/GTRS/0/00000_00001_00027.png', '/content/drive/MyDrive/MNA/NavAutonoma/GTRS/0/00000_00001_00025.png', '/content/drive/MyDrive/MNA/NavAutonoma/GTRS/0/00000_00000_00010.png', '/content/drive/MyDrive/MNA/NavAutonoma/GTRS/0/00000_00000_00014.png', '/content/drive/MyDrive/MNA/NavAutonoma/GTRS/0/00000_00001_00019.png', '/content/drive/MyDrive/MNA/NavAutonoma/GTRS/0/00000_00000_00020.png', '/content/drive/MyDrive/MNA/NavAutonoma/GTRS/0/00000_00000_00005.png', '/content/drive/MyDrive/MNA/NavAutonoma/GTRS/0/00000_00000_00001.png', '/content/drive/MyDrive/MNA/NavAutonoma/GTRS/0/00000_00000_00008.png', '/content/drive/MyDrive/MNA/NavAutonoma/GTRS/0/00000_00000_00022.png', '/content/drive/MyDrive/MNA/NavAutonoma/GTRS/0/00000_00001_00022.png', '/content/drive/MyDrive/MNA/NavAutonoma/GTRS/0/00000_00001_00020.png', '/content/drive/MyDrive/MNA/NavAutonoma/GTRS/0/00000_00000_00023.png', '/content/drive/MyDrive/MNA/NavAutonoma/GTRS/0/00000_00000_00027.png', '/content/drive/MyDrive/MNA/NavAutonoma/GTRS/0/00000_00000_00028.png', '/content/drive/MyDrive/MNA/NavAutonoma/GTRS/0/00000_00001_00000.png', '/content/drive/MyDrive/MNA/NavAutonoma/GTRS/0/00000_00001_00003.png', '/content/drive/MyDrive/MNA/NavAutonoma/GTRS/0/00000_00001_00017.png', '/content/drive/MyDrive/MNA/NavAutonoma/GTRS/0/00000_00001_00014.png', '/content/drive/MyDrive/MNA/NavAutonoma/GTRS/0/00000_00002_00003.png', '/content/drive/MyDrive/MNA/NavAutonoma/GTRS/0/00000_00000_00015.png', '/content/drive/MyDrive/MNA/NavAutonoma/GTRS/0/00000_00001_00002.png', '/content/drive/MyDrive/MNA/NavAutonoma/GTRS/0/00000_00000_00024.png', '/content/drive/MyDrive/MNA/NavAutonoma/GTRS/0/00000_00001_00008.png', '/content/drive/MyDrive/MNA/NavAutonoma/GTRS/0/00000_00001_00004.png', '/content/drive/MyDrive/MNA/NavAutonoma/GTRS/0/00000_00001_00021.png', '/content/drive/MyDrive/MNA/NavAutonoma/GTRS/0/00000_00001_00026.png', '/content/drive/MyDrive/MNA/NavAutonoma/GTRS/0/00000_00000_00013.png', '/content/drive/MyDrive/MNA/NavAutonoma/GTRS/0/00000_00001_00007.png', '/content/drive/MyDrive/MNA/NavAutonoma/GTRS/0/00000_00001_00012.png', '/content/drive/MyDrive/MNA/NavAutonoma/GTRS/0/00000_00000_00002.png', '/content/drive/MyDrive/MNA/NavAutonoma/GTRS/0/00000_00000_00004.png', '/content/drive/MyDrive/MNA/NavAutonoma/GTRS/0/00000_00000_00021.png', '/content/drive/MyDrive/MNA/NavAutonoma/GTRS/0/00000_00000_00018.png', '/content/drive/MyDrive/MNA/NavAutonoma/GTRS/0/00000_00000_00000.png', '/content/drive/MyDrive/MNA/NavAutonoma/GTRS/0/00000_00000_00019.png', '/content/drive/MyDrive/MNA/NavAutonoma/GTRS/0/00000_00001_00001.png', '/content/drive/MyDrive/MNA/NavAutonoma/GTRS/0/00000_00000_00009.png', '/content/drive/MyDrive/MNA/NavAutonoma/GTRS/0/00000_00000_00012.png', '/content/drive/MyDrive/MNA/NavAutonoma/GTRS/0/00000_00002_00001.png', '/content/drive/MyDrive/MNA/NavAutonoma/GTRS/0/00000_00002_00005.png', '/content/drive/MyDrive/MNA/NavAutonoma/GTRS/0/00000_00001_00028.png', '/content/drive/MyDrive/MNA/NavAutonoma/GTRS/0/00000_00002_00004.png', '/content/drive/MyDrive/MNA/NavAutonoma/GTRS/0/00000_00001_00010.png', '/content/drive/MyDrive/MNA/NavAutonoma/GTRS/0/00000_00001_00011.png', '/content/drive/MyDrive/MNA/NavAutonoma/GTRS/0/00000_00002_00027.png', '/content/drive/MyDrive/MNA/NavAutonoma/GTRS/0/00000_00003_00013.png', '/content/drive/MyDrive/MNA/NavAutonoma/GTRS/0/00000_00003_00024.png', '/content/drive/MyDrive/MNA/NavAutonoma/GTRS/0/00000_00003_00010.png', '/content/drive/MyDrive/MNA/NavAutonoma/GTRS/0/00000_00002_00018.png', '/content/drive/MyDrive/MNA/NavAutonoma/GTRS/0/00000_00002_00010.png', '/content/drive/MyDrive/MNA/NavAutonoma/GTRS/0/00000_00003_00009.png', '/content/drive/MyDrive/MNA/NavAutonoma/GTRS/0/00000_00005_00008.png', '/content/drive/MyDrive/MNA/NavAutonoma/GTRS/0/00000_00002_00012.png', '/content/drive/MyDrive/MNA/NavAutonoma/GTRS/0/00000_00005_00005.png', '/content/drive/MyDrive/MNA/NavAutonoma/GTRS/0/00000_00002_00008.png', '/content/drive/MyDrive/MNA/NavAutonoma/GTRS/0/00000_00002_00013.png', '/content/drive/MyDrive/MNA/NavAutonoma/GTRS/0/00000_00003_00018.png', '/content/drive/MyDrive/MNA/NavAutonoma/GTRS/0/00000_00003_00012.png', '/content/drive/MyDrive/MNA/NavAutonoma/GTRS/0/00000_00005_00015.png', '/content/drive/MyDrive/MNA/NavAutonoma/GTRS/0/00000_00003_00016.png', '/content/drive/MyDrive/MNA/NavAutonoma/GTRS/0/00000_00002_00028.png', '/content/drive/MyDrive/MNA/NavAutonoma/GTRS/0/00000_00004_00005.png', '/content/drive/MyDrive/MNA/NavAutonoma/GTRS/0/00000_00004_00006.png', '/content/drive/MyDrive/MNA/NavAutonoma/GTRS/0/00000_00002_00021.png', '/content/drive/MyDrive/MNA/NavAutonoma/GTRS/0/00000_00005_00012.png', '/content/drive/MyDrive/MNA/NavAutonoma/GTRS/0/00000_00004_00003.png', '/content/drive/MyDrive/MNA/NavAutonoma/GTRS/0/00000_00004_00004.png', '/content/drive/MyDrive/MNA/NavAutonoma/GTRS/0/00000_00003_00023.png', '/content/drive/MyDrive/MNA/NavAutonoma/GTRS/0/00000_00005_00007.png', '/content/drive/MyDrive/MNA/NavAutonoma/GTRS/0/00000_00004_00008.png', '/content/drive/MyDrive/MNA/NavAutonoma/GTRS/0/00000_00002_00016.png', '/content/drive/MyDrive/MNA/NavAutonoma/GTRS/0/00000_00003_00003.png', '/content/drive/MyDrive/MNA/NavAutonoma/GTRS/0/00000_00003_00007.png', '/content/drive/MyDrive/MNA/NavAutonoma/GTRS/0/00000_00005_00013.png', '/content/drive/MyDrive/MNA/NavAutonoma/GTRS/0/00000_00004_00019.png', '/content/drive/MyDrive/MNA/NavAutonoma/GTRS/0/00000_00003_00005.png', '/content/drive/MyDrive/MNA/NavAutonoma/GTRS/0/00000_00003_00004.png', '/content/drive/MyDrive/MNA/NavAutonoma/GTRS/0/00000_00004_00012.png', '/content/drive/MyDrive/MNA/NavAutonoma/GTRS/0/00000_00002_00019.png', '/content/drive/MyDrive/MNA/NavAutonoma/GTRS/0/00000_00003_00015.png', '/content/drive/MyDrive/MNA/NavAutonoma/GTRS/0/00000_00004_00010.png', '/content/drive/MyDrive/MNA/NavAutonoma/GTRS/0/00000_00003_00008.png', '/content/drive/MyDrive/MNA/NavAutonoma/GTRS/0/00000_00004_00024.png', '/content/drive/MyDrive/MNA/NavAutonoma/GTRS/0/00000_00004_00017.png', '/content/drive/MyDrive/MNA/NavAutonoma/GTRS/0/00000_00005_00017.png', '/content/drive/MyDrive/MNA/NavAutonoma/GTRS/0/00000_00003_00022.png', '/content/drive/MyDrive/MNA/NavAutonoma/GTRS/0/00000_00004_00027.png', '/content/drive/MyDrive/MNA/NavAutonoma/GTRS/0/00000_00003_00029.png', '/content/drive/MyDrive/MNA/NavAutonoma/GTRS/0/00000_00004_00014.png', '/content/drive/MyDrive/MNA/NavAutonoma/GTRS/0/00000_00004_00002.png', '/content/drive/MyDrive/MNA/NavAutonoma/GTRS/0/00000_00004_00009.png', '/content/drive/MyDrive/MNA/NavAutonoma/GTRS/0/00000_00005_00002.png', '/content/drive/MyDrive/MNA/NavAutonoma/GTRS/0/00000_00004_00025.png', '/content/drive/MyDrive/MNA/NavAutonoma/GTRS/0/00000_00005_00000.png', '/content/drive/MyDrive/MNA/NavAutonoma/GTRS/0/00000_00004_00026.png', '/content/drive/MyDrive/MNA/NavAutonoma/GTRS/0/00000_00004_00020.png', '/content/drive/MyDrive/MNA/NavAutonoma/GTRS/0/00000_00003_00000.png', '/content/drive/MyDrive/MNA/NavAutonoma/GTRS/0/00000_00002_00017.png', '/content/drive/MyDrive/MNA/NavAutonoma/GTRS/0/00000_00002_00026.png', '/content/drive/MyDrive/MNA/NavAutonoma/GTRS/0/00000_00004_00001.png', '/content/drive/MyDrive/MNA/NavAutonoma/GTRS/0/00000_00004_00016.png', '/content/drive/MyDrive/MNA/NavAutonoma/GTRS/0/00000_00003_00011.png', '/content/drive/MyDrive/MNA/NavAutonoma/GTRS/0/00000_00004_00018.png', '/content/drive/MyDrive/MNA/NavAutonoma/GTRS/0/00000_00002_00023.png', '/content/drive/MyDrive/MNA/NavAutonoma/GTRS/0/00000_00004_00028.png', '/content/drive/MyDrive/MNA/NavAutonoma/GTRS/0/00000_00002_00015.png', '/content/drive/MyDrive/MNA/NavAutonoma/GTRS/0/00000_00003_00021.png', '/content/drive/MyDrive/MNA/NavAutonoma/GTRS/0/00000_00003_00028.png', '/content/drive/MyDrive/MNA/NavAutonoma/GTRS/0/00000_00002_00022.png', '/content/drive/MyDrive/MNA/NavAutonoma/GTRS/0/00000_00005_00004.png', '/content/drive/MyDrive/MNA/NavAutonoma/GTRS/0/00000_00003_00006.png', '/content/drive/MyDrive/MNA/NavAutonoma/GTRS/0/00000_00003_00001.png', '/content/drive/MyDrive/MNA/NavAutonoma/GTRS/0/00000_00002_00007.png', '/content/drive/MyDrive/MNA/NavAutonoma/GTRS/0/00000_00002_00029.png', '/content/drive/MyDrive/MNA/NavAutonoma/GTRS/0/00000_00003_00019.png', '/content/drive/MyDrive/MNA/NavAutonoma/GTRS/0/00000_00004_00011.png', '/content/drive/MyDrive/MNA/NavAutonoma/GTRS/0/00000_00003_00026.png', '/content/drive/MyDrive/MNA/NavAutonoma/GTRS/0/00000_00005_00009.png', '/content/drive/MyDrive/MNA/NavAutonoma/GTRS/0/00000_00003_00014.png', '/content/drive/MyDrive/MNA/NavAutonoma/GTRS/0/00000_00002_00014.png', '/content/drive/MyDrive/MNA/NavAutonoma/GTRS/0/00000_00003_00025.png', '/content/drive/MyDrive/MNA/NavAutonoma/GTRS/0/00000_00002_00011.png', '/content/drive/MyDrive/MNA/NavAutonoma/GTRS/0/00000_00002_00009.png', '/content/drive/MyDrive/MNA/NavAutonoma/GTRS/0/00000_00004_00023.png', '/content/drive/MyDrive/MNA/NavAutonoma/GTRS/0/00000_00005_00006.png', '/content/drive/MyDrive/MNA/NavAutonoma/GTRS/0/00000_00005_00014.png', '/content/drive/MyDrive/MNA/NavAutonoma/GTRS/0/00000_00004_00013.png', '/content/drive/MyDrive/MNA/NavAutonoma/GTRS/0/00000_00003_00002.png', '/content/drive/MyDrive/MNA/NavAutonoma/GTRS/0/00000_00005_00016.png', '/content/drive/MyDrive/MNA/NavAutonoma/GTRS/0/00000_00004_00015.png', '/content/drive/MyDrive/MNA/NavAutonoma/GTRS/0/00000_00005_00010.png', '/content/drive/MyDrive/MNA/NavAutonoma/GTRS/0/00000_00003_00017.png', '/content/drive/MyDrive/MNA/NavAutonoma/GTRS/0/00000_00002_00025.png', '/content/drive/MyDrive/MNA/NavAutonoma/GTRS/0/00000_00002_00024.png', '/content/drive/MyDrive/MNA/NavAutonoma/GTRS/0/00000_00004_00021.png', '/content/drive/MyDrive/MNA/NavAutonoma/GTRS/0/00000_00005_00001.png', '/content/drive/MyDrive/MNA/NavAutonoma/GTRS/0/00000_00004_00022.png', '/content/drive/MyDrive/MNA/NavAutonoma/GTRS/0/00000_00004_00029.png', '/content/drive/MyDrive/MNA/NavAutonoma/GTRS/0/00000_00002_00020.png', '/content/drive/MyDrive/MNA/NavAutonoma/GTRS/0/00000_00003_00020.png', '/content/drive/MyDrive/MNA/NavAutonoma/GTRS/0/00000_00004_00007.png', '/content/drive/MyDrive/MNA/NavAutonoma/GTRS/0/00000_00005_00011.png', '/content/drive/MyDrive/MNA/NavAutonoma/GTRS/0/00000_00002_00006.png', '/content/drive/MyDrive/MNA/NavAutonoma/GTRS/0/00000_00004_00000.png', '/content/drive/MyDrive/MNA/NavAutonoma/GTRS/0/00000_00003_00027.png', '/content/drive/MyDrive/MNA/NavAutonoma/GTRS/0/00000_00005_00003.png', '/content/drive/MyDrive/MNA/NavAutonoma/GTRS/0/00000_00005_00021.png', '/content/drive/MyDrive/MNA/NavAutonoma/GTRS/0/00000_00005_00018.png', '/content/drive/MyDrive/MNA/NavAutonoma/GTRS/0/00000_00006_00014.png', '/content/drive/MyDrive/MNA/NavAutonoma/GTRS/0/00000_00006_00008.png', '/content/drive/MyDrive/MNA/NavAutonoma/GTRS/0/00000_00006_00021.png', '/content/drive/MyDrive/MNA/NavAutonoma/GTRS/0/00000_00006_00026.png', '/content/drive/MyDrive/MNA/NavAutonoma/GTRS/0/00000_00006_00003.png', '/content/drive/MyDrive/MNA/NavAutonoma/GTRS/0/00000_00005_00029.png', '/content/drive/MyDrive/MNA/NavAutonoma/GTRS/0/00000_00006_00024.png', '/content/drive/MyDrive/MNA/NavAutonoma/GTRS/0/00000_00006_00015.png', '/content/drive/MyDrive/MNA/NavAutonoma/GTRS/0/00000_00005_00028.png', '/content/drive/MyDrive/MNA/NavAutonoma/GTRS/0/00000_00005_00027.png', '/content/drive/MyDrive/MNA/NavAutonoma/GTRS/0/00000_00006_00009.png', '/content/drive/MyDrive/MNA/NavAutonoma/GTRS/0/00000_00006_00001.png', '/content/drive/MyDrive/MNA/NavAutonoma/GTRS/0/00000_00006_00006.png', '/content/drive/MyDrive/MNA/NavAutonoma/GTRS/0/00000_00006_00005.png', '/content/drive/MyDrive/MNA/NavAutonoma/GTRS/0/00000_00006_00016.png', '/content/drive/MyDrive/MNA/NavAutonoma/GTRS/0/00000_00006_00013.png', '/content/drive/MyDrive/MNA/NavAutonoma/GTRS/0/00000_00006_00010.png', '/content/drive/MyDrive/MNA/NavAutonoma/GTRS/0/00000_00005_00022.png', '/content/drive/MyDrive/MNA/NavAutonoma/GTRS/0/00000_00006_00018.png', '/content/drive/MyDrive/MNA/NavAutonoma/GTRS/0/00000_00006_00017.png', '/content/drive/MyDrive/MNA/NavAutonoma/GTRS/0/00000_00006_00011.png', '/content/drive/MyDrive/MNA/NavAutonoma/GTRS/0/00000_00006_00019.png', '/content/drive/MyDrive/MNA/NavAutonoma/GTRS/0/00000_00006_00000.png', '/content/drive/MyDrive/MNA/NavAutonoma/GTRS/0/00000_00005_00024.png', '/content/drive/MyDrive/MNA/NavAutonoma/GTRS/0/00000_00006_00028.png', '/content/drive/MyDrive/MNA/NavAutonoma/GTRS/0/00000_00006_00022.png', '/content/drive/MyDrive/MNA/NavAutonoma/GTRS/0/00000_00006_00020.png', '/content/drive/MyDrive/MNA/NavAutonoma/GTRS/0/00000_00005_00019.png', '/content/drive/MyDrive/MNA/NavAutonoma/GTRS/0/00000_00006_00029.png', '/content/drive/MyDrive/MNA/NavAutonoma/GTRS/0/00000_00006_00002.png', '/content/drive/MyDrive/MNA/NavAutonoma/GTRS/0/00000_00005_00023.png', '/content/drive/MyDrive/MNA/NavAutonoma/GTRS/0/00000_00006_00007.png', '/content/drive/MyDrive/MNA/NavAutonoma/GTRS/0/00000_00006_00012.png', '/content/drive/MyDrive/MNA/NavAutonoma/GTRS/0/00000_00005_00020.png', '/content/drive/MyDrive/MNA/NavAutonoma/GTRS/0/00000_00006_00023.png', '/content/drive/MyDrive/MNA/NavAutonoma/GTRS/0/00000_00005_00025.png', '/content/drive/MyDrive/MNA/NavAutonoma/GTRS/0/00000_00005_00026.png', '/content/drive/MyDrive/MNA/NavAutonoma/GTRS/0/00000_00006_00025.png', '/content/drive/MyDrive/MNA/NavAutonoma/GTRS/0/00000_00006_00027.png', '/content/drive/MyDrive/MNA/NavAutonoma/GTRS/0/00000_00006_00004.png']\n"
          ]
        }
      ]
    },
    {
      "cell_type": "markdown",
      "source": [
        "Cambiamos el tamaño de las imagenes para que todas sean del mismo tamaño."
      ],
      "metadata": {
        "id": "__ubwhzpoJJE"
      }
    },
    {
      "cell_type": "code",
      "source": [
        "size = (25, 25)\n",
        "IList = [ID0, ID1]\n",
        "X = []\n",
        "\n",
        "for sublist in IList:\n",
        "    images = [cv2.resize(plt.imread(img_path), size) for img_path in sublist]\n",
        "    X.extend(images)\n",
        "\n",
        "X = np.array(X)"
      ],
      "metadata": {
        "id": "NcMYkwyvu9DD"
      },
      "execution_count": 48,
      "outputs": []
    },
    {
      "cell_type": "markdown",
      "source": [
        "Convertir la lista de listas en un arreglo unidimensional"
      ],
      "metadata": {
        "id": "JRaumpRvrdlv"
      }
    },
    {
      "cell_type": "code",
      "source": [
        "print(X.shape)"
      ],
      "metadata": {
        "id": "q9_3zeWUt9Cx",
        "outputId": "126913a4-0051-439e-9f01-26c5619138f9",
        "colab": {
          "base_uri": "https://localhost:8080/"
        }
      },
      "execution_count": 49,
      "outputs": [
        {
          "output_type": "stream",
          "name": "stdout",
          "text": [
            "(2430, 25, 25, 3)\n"
          ]
        }
      ]
    },
    {
      "cell_type": "markdown",
      "source": [
        "Imprimimos una imagen para checar"
      ],
      "metadata": {
        "id": "GITDyVUtoSQj"
      }
    },
    {
      "cell_type": "code",
      "source": [
        "imagen_redimensionada = IList[1][13]\n",
        "plt.imshow(imagen_redimensionada)\n",
        "plt.show()"
      ],
      "metadata": {
        "id": "pf5wigN9bsxW",
        "outputId": "9fd915c5-d378-4a01-d0a3-a531dc556743",
        "colab": {
          "base_uri": "https://localhost:8080/",
          "height": 430
        }
      },
      "execution_count": 31,
      "outputs": [
        {
          "output_type": "display_data",
          "data": {
            "text/plain": [
              "<Figure size 640x480 with 1 Axes>"
            ],
            "image/png": "[encoded data removed]"
          },
          "metadata": {}
        }
      ]
    },
    {
      "cell_type": "markdown",
      "source": [
        "Creamos las etiquetas de la salida"
      ],
      "metadata": {
        "id": "oXjN66O8oVRF"
      }
    },
    {
      "cell_type": "code",
      "source": [
        "Y0 = [0] * len(ID0)\n",
        "Y1 = [1] * len(ID1)"
      ],
      "metadata": {
        "id": "bNO_BWrNLABn"
      },
      "execution_count": 32,
      "outputs": []
    },
    {
      "cell_type": "markdown",
      "source": [
        "Hacemos one hot encoding para cada salida"
      ],
      "metadata": {
        "id": "YD1EcHnJoYSz"
      }
    },
    {
      "cell_type": "code",
      "source": [
        "Y = to_categorical (Y0+Y1,2)\n",
        "Y = np.array(Y)"
      ],
      "metadata": {
        "id": "Ft-I9XsfoGuA"
      },
      "execution_count": 53,
      "outputs": []
    },
    {
      "cell_type": "code",
      "source": [
        "print(Y.shape)"
      ],
      "metadata": {
        "id": "nvCuy5xbvraR",
        "outputId": "cb2a4cef-d66b-481a-bdd2-ff6036880b1b",
        "colab": {
          "base_uri": "https://localhost:8080/"
        }
      },
      "execution_count": 54,
      "outputs": [
        {
          "output_type": "stream",
          "name": "stdout",
          "text": [
            "(2430, 2)\n"
          ]
        }
      ]
    },
    {
      "cell_type": "markdown",
      "source": [
        "Se Define el modelo"
      ],
      "metadata": {
        "id": "tDregPNJp3O0"
      }
    },
    {
      "cell_type": "code",
      "source": [
        "model = Sequential()\n",
        "\n",
        "model.add(Conv2D(filters = 32, kernel_size = (3, 3), input_shape = X.shape[1:], activation='relu', padding='same'))\n",
        "model.add(Conv2D(filters = 32, kernel_size = (3, 3), activation='relu'))\n",
        "model.add(MaxPooling2D(pool_size=(2, 2)))\n",
        "model.add(Dropout(0.25))\n",
        "#model.add(AveragePooling2D())\n",
        "\n",
        "model.add(Conv2D(filters = 64, kernel_size = (3, 3), activation='relu', padding='same'))\n",
        "model.add(Conv2D(filters = 64, kernel_size = (3, 3), activation='relu'))\n",
        "model.add(MaxPooling2D(pool_size=(2, 2)))\n",
        "model.add(Dropout(0.25))\n",
        "\n",
        "model.add(Conv2D(filters = 64, kernel_size = (3, 3), activation='relu', padding='same'))\n",
        "model.add(Conv2D(filters = 64, kernel_size = (3, 3), activation='relu'))\n",
        "model.add(MaxPooling2D(pool_size=(2, 2)))\n",
        "model.add(Dropout(0.25))\n",
        "\n",
        "model.add(Flatten())\n",
        "model.add(Dense(units = 512, activation='relu'))\n",
        "model.add(Dropout(0.5))\n",
        "model.add(Dense(units = 10, activation='softmax'))\n",
        "\n",
        "model.compile(Adam(lr = 0.001), loss='categorical_crossentropy', metrics=['accuracy'])\n",
        "print(model.summary())"
      ],
      "metadata": {
        "id": "nMu1Hr4Zp5Au",
        "outputId": "84d4f782-e22e-40e9-974d-39711b2d1948",
        "colab": {
          "base_uri": "https://localhost:8080/",
          "height": 380
        }
      },
      "execution_count": 35,
      "outputs": [
        {
          "output_type": "error",
          "ename": "ValueError",
          "evalue": "ignored",
          "traceback": [
            "\u001b[0;31m---------------------------------------------------------------------------\u001b[0m",
            "\u001b[0;31mValueError\u001b[0m                                Traceback (most recent call last)",
            "\u001b[0;32m<ipython-input-35-481cdadd07ae>\u001b[0m in \u001b[0;36m<cell line: 3>\u001b[0;34m()\u001b[0m\n\u001b[1;32m      1\u001b[0m \u001b[0mmodel\u001b[0m \u001b[0;34m=\u001b[0m \u001b[0mSequential\u001b[0m\u001b[0;34m(\u001b[0m\u001b[0;34m)\u001b[0m\u001b[0;34m\u001b[0m\u001b[0;34m\u001b[0m\u001b[0m\n\u001b[1;32m      2\u001b[0m \u001b[0;34m\u001b[0m\u001b[0m\n\u001b[0;32m----> 3\u001b[0;31m \u001b[0mmodel\u001b[0m\u001b[0;34m.\u001b[0m\u001b[0madd\u001b[0m\u001b[0;34m(\u001b[0m\u001b[0mConv2D\u001b[0m\u001b[0;34m(\u001b[0m\u001b[0mfilters\u001b[0m \u001b[0;34m=\u001b[0m \u001b[0;36m32\u001b[0m\u001b[0;34m,\u001b[0m \u001b[0mkernel_size\u001b[0m \u001b[0;34m=\u001b[0m \u001b[0;34m(\u001b[0m\u001b[0;36m3\u001b[0m\u001b[0;34m,\u001b[0m \u001b[0;36m3\u001b[0m\u001b[0;34m)\u001b[0m\u001b[0;34m,\u001b[0m \u001b[0minput_shape\u001b[0m \u001b[0;34m=\u001b[0m \u001b[0mX\u001b[0m\u001b[0;34m.\u001b[0m\u001b[0mshape\u001b[0m\u001b[0;34m[\u001b[0m\u001b[0;36m1\u001b[0m\u001b[0;34m:\u001b[0m\u001b[0;34m]\u001b[0m\u001b[0;34m,\u001b[0m \u001b[0mactivation\u001b[0m\u001b[0;34m=\u001b[0m\u001b[0;34m'relu'\u001b[0m\u001b[0;34m,\u001b[0m \u001b[0mpadding\u001b[0m\u001b[0;34m=\u001b[0m\u001b[0;34m'same'\u001b[0m\u001b[0;34m)\u001b[0m\u001b[0;34m)\u001b[0m\u001b[0;34m\u001b[0m\u001b[0;34m\u001b[0m\u001b[0m\n\u001b[0m\u001b[1;32m      4\u001b[0m \u001b[0mmodel\u001b[0m\u001b[0;34m.\u001b[0m\u001b[0madd\u001b[0m\u001b[0;34m(\u001b[0m\u001b[0mConv2D\u001b[0m\u001b[0;34m(\u001b[0m\u001b[0mfilters\u001b[0m \u001b[0;34m=\u001b[0m \u001b[0;36m32\u001b[0m\u001b[0;34m,\u001b[0m \u001b[0mkernel_size\u001b[0m \u001b[0;34m=\u001b[0m \u001b[0;34m(\u001b[0m\u001b[0;36m3\u001b[0m\u001b[0;34m,\u001b[0m \u001b[0;36m3\u001b[0m\u001b[0;34m)\u001b[0m\u001b[0;34m,\u001b[0m \u001b[0mactivation\u001b[0m\u001b[0;34m=\u001b[0m\u001b[0;34m'relu'\u001b[0m\u001b[0;34m)\u001b[0m\u001b[0;34m)\u001b[0m\u001b[0;34m\u001b[0m\u001b[0;34m\u001b[0m\u001b[0m\n\u001b[1;32m      5\u001b[0m \u001b[0mmodel\u001b[0m\u001b[0;34m.\u001b[0m\u001b[0madd\u001b[0m\u001b[0;34m(\u001b[0m\u001b[0mMaxPooling2D\u001b[0m\u001b[0;34m(\u001b[0m\u001b[0mpool_size\u001b[0m\u001b[0;34m=\u001b[0m\u001b[0;34m(\u001b[0m\u001b[0;36m2\u001b[0m\u001b[0;34m,\u001b[0m \u001b[0;36m2\u001b[0m\u001b[0;34m)\u001b[0m\u001b[0;34m)\u001b[0m\u001b[0;34m)\u001b[0m\u001b[0;34m\u001b[0m\u001b[0;34m\u001b[0m\u001b[0m\n",
            "\u001b[0;32m/usr/local/lib/python3.10/dist-packages/tensorflow/python/trackable/base.py\u001b[0m in \u001b[0;36m_method_wrapper\u001b[0;34m(self, *args, **kwargs)\u001b[0m\n\u001b[1;32m    203\u001b[0m     \u001b[0mself\u001b[0m\u001b[0;34m.\u001b[0m\u001b[0m_self_setattr_tracking\u001b[0m \u001b[0;34m=\u001b[0m \u001b[0;32mFalse\u001b[0m  \u001b[0;31m# pylint: disable=protected-access\u001b[0m\u001b[0;34m\u001b[0m\u001b[0;34m\u001b[0m\u001b[0m\n\u001b[1;32m    204\u001b[0m     \u001b[0;32mtry\u001b[0m\u001b[0;34m:\u001b[0m\u001b[0;34m\u001b[0m\u001b[0;34m\u001b[0m\u001b[0m\n\u001b[0;32m--> 205\u001b[0;31m       \u001b[0mresult\u001b[0m \u001b[0;34m=\u001b[0m \u001b[0mmethod\u001b[0m\u001b[0;34m(\u001b[0m\u001b[0mself\u001b[0m\u001b[0;34m,\u001b[0m \u001b[0;34m*\u001b[0m\u001b[0margs\u001b[0m\u001b[0;34m,\u001b[0m \u001b[0;34m**\u001b[0m\u001b[0mkwargs\u001b[0m\u001b[0;34m)\u001b[0m\u001b[0;34m\u001b[0m\u001b[0;34m\u001b[0m\u001b[0m\n\u001b[0m\u001b[1;32m    206\u001b[0m     \u001b[0;32mfinally\u001b[0m\u001b[0;34m:\u001b[0m\u001b[0;34m\u001b[0m\u001b[0;34m\u001b[0m\u001b[0m\n\u001b[1;32m    207\u001b[0m       \u001b[0mself\u001b[0m\u001b[0;34m.\u001b[0m\u001b[0m_self_setattr_tracking\u001b[0m \u001b[0;34m=\u001b[0m \u001b[0mprevious_value\u001b[0m  \u001b[0;31m# pylint: disable=protected-access\u001b[0m\u001b[0;34m\u001b[0m\u001b[0;34m\u001b[0m\u001b[0m\n",
            "\u001b[0;32m/usr/local/lib/python3.10/dist-packages/keras/utils/traceback_utils.py\u001b[0m in \u001b[0;36merror_handler\u001b[0;34m(*args, **kwargs)\u001b[0m\n\u001b[1;32m     68\u001b[0m             \u001b[0;31m# To get the full stack trace, call:\u001b[0m\u001b[0;34m\u001b[0m\u001b[0;34m\u001b[0m\u001b[0m\n\u001b[1;32m     69\u001b[0m             \u001b[0;31m# `tf.debugging.disable_traceback_filtering()`\u001b[0m\u001b[0;34m\u001b[0m\u001b[0;34m\u001b[0m\u001b[0m\n\u001b[0;32m---> 70\u001b[0;31m             \u001b[0;32mraise\u001b[0m \u001b[0me\u001b[0m\u001b[0;34m.\u001b[0m\u001b[0mwith_traceback\u001b[0m\u001b[0;34m(\u001b[0m\u001b[0mfiltered_tb\u001b[0m\u001b[0;34m)\u001b[0m \u001b[0;32mfrom\u001b[0m \u001b[0;32mNone\u001b[0m\u001b[0;34m\u001b[0m\u001b[0;34m\u001b[0m\u001b[0m\n\u001b[0m\u001b[1;32m     71\u001b[0m         \u001b[0;32mfinally\u001b[0m\u001b[0;34m:\u001b[0m\u001b[0;34m\u001b[0m\u001b[0;34m\u001b[0m\u001b[0m\n\u001b[1;32m     72\u001b[0m             \u001b[0;32mdel\u001b[0m \u001b[0mfiltered_tb\u001b[0m\u001b[0;34m\u001b[0m\u001b[0;34m\u001b[0m\u001b[0m\n",
            "\u001b[0;32m/usr/local/lib/python3.10/dist-packages/keras/engine/input_spec.py\u001b[0m in \u001b[0;36massert_input_compatibility\u001b[0;34m(input_spec, inputs, layer_name)\u001b[0m\n\u001b[1;32m    251\u001b[0m             \u001b[0mndim\u001b[0m \u001b[0;34m=\u001b[0m \u001b[0mx\u001b[0m\u001b[0;34m.\u001b[0m\u001b[0mshape\u001b[0m\u001b[0;34m.\u001b[0m\u001b[0mrank\u001b[0m\u001b[0;34m\u001b[0m\u001b[0;34m\u001b[0m\u001b[0m\n\u001b[1;32m    252\u001b[0m             \u001b[0;32mif\u001b[0m \u001b[0mndim\u001b[0m \u001b[0;32mis\u001b[0m \u001b[0;32mnot\u001b[0m \u001b[0;32mNone\u001b[0m \u001b[0;32mand\u001b[0m \u001b[0mndim\u001b[0m \u001b[0;34m<\u001b[0m \u001b[0mspec\u001b[0m\u001b[0;34m.\u001b[0m\u001b[0mmin_ndim\u001b[0m\u001b[0;34m:\u001b[0m\u001b[0;34m\u001b[0m\u001b[0;34m\u001b[0m\u001b[0m\n\u001b[0;32m--> 253\u001b[0;31m                 raise ValueError(\n\u001b[0m\u001b[1;32m    254\u001b[0m                     \u001b[0;34mf'Input {input_index} of layer \"{layer_name}\" '\u001b[0m\u001b[0;34m\u001b[0m\u001b[0;34m\u001b[0m\u001b[0m\n\u001b[1;32m    255\u001b[0m                     \u001b[0;34m\"is incompatible with the layer: \"\u001b[0m\u001b[0;34m\u001b[0m\u001b[0;34m\u001b[0m\u001b[0m\n",
            "\u001b[0;31mValueError\u001b[0m: Input 0 of layer \"conv2d\" is incompatible with the layer: expected min_ndim=4, found ndim=1. Full shape received: (None,)"
          ]
        }
      ]
    }
  ]
}