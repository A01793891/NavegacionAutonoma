{
  "nbformat": 4,
  "nbformat_minor": 0,
  "metadata": {
    "colab": {
      "provenance": [],
      "authorship_tag": "ABX9TyOtbtcQoGd7Vj9hdBRohajD",
      "include_colab_link": true
    },
    "kernelspec": {
      "name": "python3",
      "display_name": "Python 3"
    },
    "language_info": {
      "name": "python"
    }
  },
  "cells": [
    {
      "cell_type": "markdown",
      "metadata": {
        "id": "view-in-github",
        "colab_type": "text"
      },
      "source": [
        "<a href=\"https://colab.research.google.com/github/aalr007/NavegacionAutonoma/blob/main/4_2_Detecci%C3%B3n_de_Se%C3%B1ales_de_Tr%C3%A1nsito.ipynb\" target=\"_parent\"><img src=\"https://colab.research.google.com/assets/colab-badge.svg\" alt=\"Open In Colab\"/></a>"
      ]
    },
    {
      "cell_type": "markdown",
      "source": [
        "# <center> ***Navegación Autónoma*** </center>\n",
        "## <center> ***Actividad 4.2 - Detección de Señales de Tránsito*** </center>\n",
        "\n",
        "### Profesor: Dr. David Antonio Torres\n",
        "### Alumnos: \n",
        "* Andrei García Torres               A01793891\n",
        "* Aurelio Antonio Lozano Rábago      A01081266\n",
        "* Jorge Luis Tapia Peñaloza          A01793013\n",
        "* Luis Alfredo Negron Naldos         A01793865\n",
        "\n",
        "#### <p style='text-align: right;'> 11 de Junio del 2023 </p>"
      ],
      "metadata": {
        "id": "znbCd227raWG"
      }
    },
    {
      "cell_type": "code",
      "execution_count": null,
      "metadata": {
        "id": "RZTJ9g4erY1p"
      },
      "outputs": [],
      "source": [
        "import numpy as np\n",
        "import matplotlib.pyplot as plt\n",
        "import keras\n",
        "from keras.datasets import cifar10\n",
        "from keras.models import Sequential\n",
        "from keras.layers import Dense\n",
        "from keras.optimizers import Adam\n",
        "from keras.utils.np_utils import to_categorical\n",
        "import random\n",
        "     \n",
        "from keras.layers import Dropout\n",
        "from keras.layers import Flatten\n",
        "from keras.layers.convolutional import Conv2D\n",
        "from keras.layers.convolutional import MaxPooling2D\n",
        "     \n",
        "from keras.models import Model\n",
        "\n",
        "import matplotlib.image as mpimg\n",
        "import seaborn as sns\n",
        "import cv2\n",
        "\n",
        "from google.colab import drive\n",
        "import glob"
      ]
    }
  ]
}